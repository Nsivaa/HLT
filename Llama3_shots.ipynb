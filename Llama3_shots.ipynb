{
 "cells": [
  {
   "cell_type": "markdown",
   "metadata": {},
   "source": [
    "# Emotion Classification with Llama 3 Instruct 8B"
   ]
  },
  {
   "cell_type": "markdown",
   "metadata": {},
   "source": [
    "This is the notebook for performing inference with Llama3. The model was tested on the GoEmotions and TwitterData datasets, plus on GoEmotions in the Ekman labels version. We didn't perform a thorough mapping analysis like in the other transformers, due to the poor results. Note that the outputs of the cells are not present: due to the time and memory requirements of this model, it has been run on the remote machine, and the results saved on the .csv files (located in the \"results\" directory). The predictions have then been processed directly in the \"model_comparison\" notebook."
   ]
  },
  {
   "cell_type": "code",
   "execution_count": null,
   "metadata": {
    "metadata": {}
   },
   "outputs": [],
   "source": [
    "from lib.dataset_utils import *\n",
    "from lib.plot_utils import *\n",
    "from lib.models import Llama3\n",
    "from lib.dataset_utils import Llama_EmotionsData\n",
    "from sklearn.metrics import accuracy_score, jaccard_score, f1_score\n",
    "\n",
    "model_name = \"meta-llama/Meta-Llama-3-8B-Instruct\""
   ]
  },
  {
   "cell_type": "markdown",
   "metadata": {},
   "source": [
    "### Loading Twitter"
   ]
  },
  {
   "cell_type": "code",
   "execution_count": null,
   "metadata": {
    "metadata": {}
   },
   "outputs": [],
   "source": [
    "_, _, twitter_test = load_twitter_data_cleaned() \n",
    "twitter_emotions = twitter_test.columns[1:]\n",
    "twitter_test_dataset = Llama_EmotionsData(twitter_test)"
   ]
  },
  {
   "cell_type": "markdown",
   "metadata": {},
   "source": [
    "### Loading Goemotions"
   ]
  },
  {
   "cell_type": "code",
   "execution_count": null,
   "metadata": {
    "metadata": {}
   },
   "outputs": [],
   "source": [
    "_, _, goemotions_test = load_goemotions_cleaned()\n",
    "grouped_test_df = goemotions_apply_emotion_mapping(goemotions_test)\n",
    "goemotions_emotions = goemotions_test.columns[1:]\n",
    "# names starting with 'ekman_' are the mapped emotions\n",
    "EKMAN_LABELS = grouped_test_df.columns[grouped_test_df.columns.str.startswith('ekman_')].tolist()\n",
    "grouped_test_df = Llama_EmotionsData(grouped_test_df)\n",
    "goemotions_test_dataset = Llama_EmotionsData(goemotions_test)"
   ]
  },
  {
   "cell_type": "markdown",
   "metadata": {},
   "source": [
    "# Metrics definition\n",
    "We make a simple local redefinition of the metrics: the ones used by the other transformers include the threshold tuning, which is not to be done with Llama."
   ]
  },
  {
   "cell_type": "code",
   "execution_count": null,
   "metadata": {
    "metadata": {}
   },
   "outputs": [],
   "source": [
    "def accuracy(targets, predictions):\n",
    "    return accuracy_score(targets, predictions)\n",
    "def jaccard(targets, predictions):\n",
    "    return jaccard_score(targets, predictions, average='micro', zero_division=0)\n",
    "def jaccard_samples(targets, predictions):\n",
    "    return jaccard_score(targets, predictions, average='samples', zero_division=0)\n",
    "def f1(targets, predictions):\n",
    "    return f1_score(targets, predictions, average='macro', zero_division=0)\n",
    "def f1_micro(targets, predictions):\n",
    "    return f1_score(targets, predictions, average='micro', zero_division=0)\n",
    "\n",
    "SCORES = {\"accuracy\": accuracy, \"jaccard\": jaccard, \"jaccard_samples\":jaccard_samples, \"f1\": f1, \"f1_micro\": f1_micro}"
   ]
  },
  {
   "cell_type": "markdown",
   "metadata": {},
   "source": [
    "# Defining samples strings for 3-shots prompting.\n",
    "The following samples are manually taken from training data. They are the same for every prompt: there would be no use in changing them, since they are not memorized by the model. "
   ]
  },
  {
   "cell_type": "code",
   "execution_count": null,
   "metadata": {
    "metadata": {}
   },
   "outputs": [],
   "source": [
    "# 3 Shots from Twitter training set\n",
    "TWITTER_SAMPLES = f\"\"\"Look at these examples:\\n\n",
    "Sentence: i think it s the easiest time of year to feel dissatisfied\\n\n",
    "Answer: anger\\n\n",
    "Sentence: i feel as confused about life as a teenager or as jaded as a year old man\\n\n",
    "Answer: fear\\n\n",
    "Sentence: i have seen heard and read over the past couple of days i am left feeling impressed by more than a few companies\\n\n",
    "Answer: surprise\\n\n",
    "Now \"\"\" # ...\"Classify the sentence\" etc.\n",
    "\n",
    "# 3 Shots from Goemotions training set\n",
    "GOEMOTIONS_SAMPLES = f\"\"\"Look at these examples:\\n\n",
    "Sentence: Slowing things down now\\n\n",
    "\\nDoes it evoke the emotion 'disappointment'?\n",
    "Answer: False\\n\n",
    "Sentence: Aww... she'll probably come around eventually, I'm sure she was just jealous of [NAME]... I mean, what woman wouldn't be! lol \\n\n",
    "\\nDoes it evoke the emotion 'amusement'?\n",
    "Answer: True\\n\n",
    "Sentence: Super, thanks\\n\n",
    "\\nDoes it evoke the emotion 'gratitude'?\n",
    "Answer: True\\n \n",
    "Now \"\"\" # ...\"Consider the following sentence\" etc.\n",
    "\n",
    "# 3 Shots from Goemotions training set\n",
    "GROUPED_SAMPLES = f\"\"\"Look at these examples:\\n\n",
    "Sentence: Slowing things down now\\n\n",
    "\\nDoes it evoke the emotion 'fear'?\n",
    "Answer: False\\n\n",
    "Sentence: Aww... she'll probably come around eventually, I'm sure she was just jealous of [NAME]... I mean, what woman wouldn't be! lol \\n\n",
    "\\nDoes it evoke the emotion 'anger'?\n",
    "Answer: False\\n\n",
    "Sentence: Super, thanks\\n\n",
    "\\nDoes it evoke the emotion 'joy'?\n",
    "Answer: True\\n \n",
    "Now \"\"\" # ...\"Consider the following sentence\" etc."
   ]
  },
  {
   "cell_type": "markdown",
   "metadata": {},
   "source": [
    "# Twitter 0 Shots"
   ]
  },
  {
   "cell_type": "code",
   "execution_count": null,
   "metadata": {
    "metadata": {}
   },
   "outputs": [],
   "source": [
    "twitter_0shot_llama3 = Llama3(model_name, scores = SCORES, emotions = twitter_emotions)\n",
    "results = twitter_0shot_llama3.classify(twitter_test_dataset, progress_bar = True)\n",
    "del twitter_0shot_llama3"
   ]
  },
  {
   "cell_type": "markdown",
   "metadata": {},
   "source": [
    "# Twitter 3 Shots"
   ]
  },
  {
   "cell_type": "code",
   "execution_count": null,
   "metadata": {},
   "outputs": [],
   "source": [
    "twitter_3shot_llama3 = Llama3(model_name, scores = SCORES, emotions = twitter_emotions, samples = TWITTER_SAMPLES)\n",
    "results = twitter_3shot_llama3.classify(twitter_test_dataset, progress_bar = True)\n",
    "del twitter_3shot_llama3"
   ]
  },
  {
   "cell_type": "markdown",
   "metadata": {},
   "source": [
    "# Goemotions 0 Shots"
   ]
  },
  {
   "cell_type": "code",
   "execution_count": null,
   "metadata": {},
   "outputs": [],
   "source": [
    "goemo_0shot_llama3 = Llama3(model_name, scores = SCORES, emotions = goemotions_emotions, mode =\"multi\")\n",
    "results = goemo_0shot_llama3.classify(goemotions_test_dataset, progress_bar = True)\n",
    "del goemo_0shot_llama3"
   ]
  },
  {
   "cell_type": "markdown",
   "metadata": {},
   "source": [
    "# Goemotions 3 Shots"
   ]
  },
  {
   "cell_type": "code",
   "execution_count": null,
   "metadata": {},
   "outputs": [],
   "source": [
    "goemo_3shot_llama3 = Llama3(model_name, scores = SCORES, emotions = goemotions_emotions, mode = \"multi\", samples = GOEMOTIONS_SAMPLES)\n",
    "results = goemo_3shot_llama3.classify(goemotions_test_dataset, progress_bar = True)\n",
    "del goemo_3shot_llama3"
   ]
  },
  {
   "cell_type": "markdown",
   "metadata": {},
   "source": [
    "# Grouped Goemotions 0 Shots"
   ]
  },
  {
   "cell_type": "code",
   "execution_count": null,
   "metadata": {},
   "outputs": [],
   "source": [
    "grouped_0shot_llama3 = Llama3(model_name, scores = SCORES, emotions = EKMAN_LABELS, mode =\"grouped\")\n",
    "results = grouped_0shot_llama3.classify(grouped_test_df, progress_bar = True)\n",
    "del grouped_0shot_llama3"
   ]
  },
  {
   "cell_type": "markdown",
   "metadata": {},
   "source": [
    "# Grouped Goemotions 3 Shots"
   ]
  },
  {
   "cell_type": "code",
   "execution_count": null,
   "metadata": {},
   "outputs": [],
   "source": [
    "grouped_3shot_llama3 = Llama3(model_name, scores = SCORES, emotions = EKMAN_LABELS, mode =\"grouped\", samples = GROUPED_SAMPLES)\n",
    "results = grouped_3shot_llama3.classify(grouped_test_df, progress_bar = True)\n",
    "del grouped_3shot_llama3"
   ]
  }
 ],
 "metadata": {
  "kernelspec": {
   "display_name": "Python 3 (ipykernel)",
   "language": "python",
   "name": "python3"
  },
  "language_info": {
   "codemirror_mode": {
    "name": "ipython",
    "version": 3
   },
   "file_extension": ".py",
   "mimetype": "text/x-python",
   "name": "python",
   "nbconvert_exporter": "python",
   "pygments_lexer": "ipython3",
   "version": "3.8.10"
  }
 },
 "nbformat": 4,
 "nbformat_minor": 4
}
