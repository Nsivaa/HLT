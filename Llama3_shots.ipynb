{
 "cells": [
  {
   "cell_type": "markdown",
   "metadata": {},
   "source": [
    "! pip install ollama llama-index-llms-ollama\n",
    "! sudo snap install ollama\n",
    "! ollama run llama3"
   ]
  },
  {
   "cell_type": "code",
   "execution_count": 1,
   "metadata": {},
   "outputs": [],
   "source": [
    "from llama_index.llms.ollama import Ollama\n",
    "from lib.dataset_utils import load_twitter_data_cleaned\n",
    "import re\n",
    "\n",
    "llama3 = Ollama(model=\"llama3:latest\", request_timeout=100.0)"
   ]
  },
  {
   "cell_type": "code",
   "execution_count": 3,
   "metadata": {},
   "outputs": [],
   "source": [
    "_, _, test = load_twitter_data_cleaned()"
   ]
  },
  {
   "cell_type": "code",
   "execution_count": 4,
   "metadata": {},
   "outputs": [
    {
     "data": {
      "text/plain": [
       "\"I'll provide sentiment classification for each text. Here are my answers:\\n\\n1. Text: i left with my bouquet of red and yellow tulips under my arm feeling slightly more optimistic than when i arrived\\nSentiment: joy\\n\\n2. Text: im updating my blog because i feel shitty\\nSentiment: sadness\\n\\n3. Text: i left with my bouquet of red and yellow tulips under my arm feeling slightly more optimistic than when i arrived\\nSentiment: joy (Note: This text is identical to the first one, so I'm sticking with the original sentiment classification - joy)\\n\\n4. Text: i stood up to you i finally stood up to you and now i feel like im being punished if i could go back and do it again\\nSentiment: anger\\n\\n5. Text: i feel like i could go into any situation and become successful because i ve been competing all my life explained schaub in an interview with the a[LINK]\\nSentiment: surprise\\n\\n6. Text: Terrible service 0/10\\nSentiment: anger\""
      ]
     },
     "execution_count": 4,
     "metadata": {},
     "output_type": "execute_result"
    }
   ],
   "source": [
    "prompt = \"\"\"You are a sentiment classifier. For each message, give the most appropriate emotion among 'joy', 'sadness',\n",
    "        'anger', 'fear', 'love', 'surprise'. Please answer only with ONE of the listed emotions. Here are some samples:\n",
    "Text: i left with my bouquet of red and yellow tulips under my arm feeling slightly more optimistic than when i arrived\n",
    "Sentiment: joy\n",
    "Text: im updating my blog because i feel shitty\n",
    "Sentiment: sadness\n",
    "Text: i left with my bouquet of red and yellow tulips under my arm feeling slightly more optimistic than when i arrived\n",
    "Sentiment: love\n",
    "\n",
    "Text: i stood up to you i finally stood up to you and now i feel like im being punished if i could go back and do it again\n",
    "\n",
    "Text: i feel like i could go into any situation and become successful because i ve been competing all my life explained schaub in an interview with the a[LINK]\n",
    "\n",
    "Text: Terrible service 0/10\"\"\"\n",
    "response = llama3.complete(prompt).text\n",
    "\n",
    "response"
   ]
  },
  {
   "cell_type": "code",
   "execution_count": 5,
   "metadata": {},
   "outputs": [
    {
     "data": {
      "text/plain": [
       "[{'im updating my blog because i feel shitty': \"I'm so sorry to hear that you're feeling down and struggling with your blog. It's completely understandable to want to update it, even if it feels like a chore or a burden.\\n\\nWould you like to talk about what's going on and why you're feeling this way? Sometimes sharing what's on our minds can help us feel better and gain some perspective. I'm here to listen and offer support if you need it.\\n\\nAlso, remember that taking care of yourself is important too! If updating your blog feels overwhelming or stressful, maybe consider setting smaller, achievable goals for yourself. You don't have to tackle everything at once. What are some things you're struggling with or feeling anxious about when it comes to your blog?\"}]"
      ]
     },
     "execution_count": 5,
     "metadata": {},
     "output_type": "execute_result"
    }
   ],
   "source": [
    "answers = [] \n",
    "sentence = test['text'][1]\n",
    "response = llama3.complete(sentence).text\n",
    "answers.append({sentence : response})\n",
    "\n",
    "answers"
   ]
  }
 ],
 "metadata": {
  "kernelspec": {
   "display_name": "Python 3",
   "language": "python",
   "name": "python3"
  },
  "language_info": {
   "codemirror_mode": {
    "name": "ipython",
    "version": 3
   },
   "file_extension": ".py",
   "mimetype": "text/x-python",
   "name": "python",
   "nbconvert_exporter": "python",
   "pygments_lexer": "ipython3",
   "version": "3.8.10"
  }
 },
 "nbformat": 4,
 "nbformat_minor": 2
}
