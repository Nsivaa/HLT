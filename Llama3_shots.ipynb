{
 "cells": [
  {
   "cell_type": "markdown",
   "metadata": {},
   "source": [
    "### Install the model:\n",
    "`! pip install ollama llama-index-llms-ollama`\n",
    "`! sudo snap install ollama`\n",
    "`! ollama pull llama3`\n",
    "\n",
    "### After downloading the base model and creating the modelfile, we create the parametrised model for our task:\n",
    "`! ollama create [model name] -f [modelfile name]`"
   ]
  },
  {
   "cell_type": "code",
   "execution_count": 1,
   "metadata": {
    "metadata": {}
   },
   "outputs": [],
   "source": [
    "from llama_index.llms.ollama import Ollama\n",
    "from lib.dataset_utils import load_twitter_data_cleaned, load_goemotions_cleaned\n",
    "from lib.plot_utils import *\n",
    "from tqdm import tqdm\n",
    "from sklearn.preprocessing import MultiLabelBinarizer, LabelBinarizer\n",
    "from sklearn.metrics import accuracy_score, jaccard_score, f1_score, classification_report\n",
    "from torch.utils.data import DataLoader, Dataset\n",
    "import numpy as np\n",
    "import pandas as pd\n"
   ]
  },
  {
   "cell_type": "markdown",
   "metadata": {},
   "source": [
    "### Loading Twitter"
   ]
  },
  {
   "cell_type": "code",
   "execution_count": 2,
   "metadata": {
    "metadata": {}
   },
   "outputs": [],
   "source": [
    "_, _, twitter_test = load_twitter_data_cleaned() \n",
    "twitter_emotions = ('joy', 'sadness','anger', 'fear', 'love', 'surprise')"
   ]
  },
  {
   "cell_type": "markdown",
   "metadata": {},
   "source": [
    "### Loading Goemotions"
   ]
  },
  {
   "cell_type": "code",
   "execution_count": 3,
   "metadata": {
    "metadata": {}
   },
   "outputs": [],
   "source": [
    "import json\n",
    "label_mapping_path = \"./dataset/GoEmotionsSplit/label_mapping.json\"\n",
    "_, _, goemotions_test = load_goemotions_cleaned()\n",
    "json1_file = open(label_mapping_path)\n",
    "json1_str = json1_file.read()\n",
    "json1_data = json.loads(json1_str)\n",
    "goemotions_emotions = str(json1_data.values())"
   ]
  },
  {
   "cell_type": "code",
   "execution_count": 4,
   "metadata": {
    "metadata": {}
   },
   "outputs": [],
   "source": [
    "\n",
    "SAMPLES = \"\"\" \n",
    "text: 1. i left with my bouquet of red and yellow tulips under my arm feeling slightly more optimistic than when i arrived\n",
    "2. im updating my blog because i feel shitty\n",
    "\n",
    "answer:{\n",
    "    \"1\": \"joy\"\n",
    "    \"2\": \"sadness\"\n",
    "    }\n",
    "\"\"\"\n",
    "SINGLE_BASE_PROMPT = \"\"\"<|start_header_id|>system<|end_header_id|> Classify the sentences. Choose ONLY ONE EMOTION among the following: \"\"\" \n",
    "\n",
    "MULTI_BASE_PROMPT = \"\"\"<|start_header_id|>system<|end_header_id|> Classify the sentences. Choose a maximum of three emotions among the following: \"\"\" \n",
    "\n",
    "SAMPLES_STRING = \"\"\"Here are some samples:\"\"\"\n",
    "\n",
    "TERMINATOR_STRING = \"\"\"<|eot_id|>\"\"\""
   ]
  },
  {
   "cell_type": "code",
   "execution_count": 5,
   "metadata": {
    "metadata": {}
   },
   "outputs": [],
   "source": [
    "class Llama3():\n",
    "    def __init__(self, name, timeout = 1000.0, scores={}):\n",
    "        self.model = Ollama(model=name, request_timeout=timeout)\n",
    "        self.scores = scores\n",
    "\n",
    "    def predict(self, emotions, test, samples = None, batch_dim = 8, single_label = True, progress_bar = False):\n",
    "        # emotions : emotions to classify\n",
    "        # test : test data to classify\n",
    "        # samples : samples to show in prompt (to be taken from training data?), for now are hardcoded\n",
    "        test_loader = DataLoader(test, batch_size = batch_dim, shuffle = False)\n",
    "        predictions = []\n",
    "        base_prompt = self.generate_base_prompt(emotions, samples, single_label) # to avoid recreating the prompt from scratch at every batch\n",
    "        for data in tqdm(test_loader, disable=not progress_bar):\n",
    "            batch_prompt = self.add_test_data_to_prompt(base_prompt, data[0])\n",
    "            predictions.append(self.classify_batch(batch_prompt, emotions))\n",
    "        predictions = flatten(predictions)\n",
    "        if len(predictions) == len(test):\n",
    "            results = self.evaluate(test.targets, predictions, self.scores, emotions)\n",
    "            print(results)\n",
    "        else:\n",
    "            print(f\"Error: predictions and test data do not match: pred: {len(predictions)} vs test:{len(test)}\")\n",
    "\n",
    "    def generate_base_prompt(self, emotions, samples, single_label = True):\n",
    "        prompt = \"\"\n",
    "        if single_label:\n",
    "            prompt = SINGLE_BASE_PROMPT + str(emotions) \n",
    "        else:\n",
    "            prompt = MULTI_BASE_PROMPT + str(emotions) \n",
    "        if samples:\n",
    "            prompt += SAMPLES_STRING + samples \n",
    "        return prompt + TERMINATOR_STRING\n",
    "                \n",
    "    def add_test_data_to_prompt(self, prompt, test):\n",
    "        # appends data to classify to base prompt\n",
    "        for index, row in enumerate(test):\n",
    "            prompt += (str(index) + '. ' + row + '\\n')\n",
    "        prompt += TERMINATOR_STRING\n",
    "        return prompt\n",
    "\n",
    "    def classify_batch(self, prompt, emotions):\n",
    "        # classify batch of data\n",
    "        # response is formatted as JSON\n",
    "        response = self.model.complete(prompt).text\n",
    "        predictions = self.extract_emotions(response, emotions)\n",
    "        return list(predictions.values())\n",
    "    \n",
    "    def evaluate(self, targets, predictions, scores, emotions, single_label = True):\n",
    "        # evaluate the model\n",
    "        if single_label:\n",
    "            lb = LabelBinarizer()\n",
    "        else:\n",
    "            lb = MultiLabelBinarizer()\n",
    "        bin_predictions = lb.fit_transform(predictions)\n",
    "        bin_predictions = pd.DataFrame(bin_predictions, columns = lb.classes_) \n",
    "        if 'other' in bin_predictions.columns:\n",
    "            bin_predictions.drop(columns=['other'], inplace=True) # 'other' if emotion not in the allowed ones\n",
    "        scores = {name: score(targets, bin_predictions) for name, score in scores.items()}\n",
    "        plot_score_barplot(targets, bin_predictions, emotions)\n",
    "        print(classification_report(targets, bin_predictions, target_names=emotions))\n",
    "        if not single_label:\n",
    "            plot_multilabel_confusion_heatmap(targets, bin_predictions, emotions)\n",
    "        return scores\n",
    "\n",
    "    def extract_emotions(self, answers, emotions):\n",
    "        # extracts emotions from JSON response \n",
    "        answers[answers.find('{'):] # skips optional text before JSON\n",
    "        answers = json.loads(answers)\n",
    "        for key, value in answers.items():\n",
    "            if value not in emotions:\n",
    "                answers.update({key : 'other'})\n",
    "        return answers\n",
    "\n",
    "def accuracy(targets, predictions):\n",
    "    return accuracy_score(targets, predictions)\n",
    "def jaccard(targets, predictions):\n",
    "    return jaccard_score(targets, predictions, average='micro', zero_division=0)\n",
    "def jaccard_samples(targets, predictions):\n",
    "    return jaccard_score(targets, predictions, average='samples', zero_division=0)\n",
    "def f1(targets, predictions):\n",
    "    return f1_score(targets, predictions, average='macro', zero_division=0)\n",
    "def f1_micro(targets, predictions):\n",
    "    return f1_score(targets, predictions, average='micro', zero_division=0)\n",
    "\n",
    "\n",
    "def flatten(xss):\n",
    "    # flattens list of lists into a single list\n",
    "    return [x for xs in xss for x in xs]\n",
    "\n",
    "class Llama_EmotionsData(Dataset):\n",
    "    def __init__(self, dataframe) -> None:\n",
    "        self.text = dataframe['text']\n",
    "        self.targets = dataframe.drop(columns=['text']).to_numpy()\n",
    "\n",
    "    def __len__(self):\n",
    "        return len(self.text)\n",
    "\n",
    "    def __getitem__(self, index):\n",
    "        return self.text[index], self.targets[index]\n",
    "\n",
    "\n"
   ]
  },
  {
   "cell_type": "code",
   "execution_count": 6,
   "metadata": {
    "metadata": {}
   },
   "outputs": [
    {
     "name": "stderr",
     "output_type": "stream",
     "text": [
      "100%|██████████| 8/8 [04:15<00:00, 31.94s/it]\n",
      "/home/nsiva/.local/lib/python3.8/site-packages/sklearn/metrics/_classification.py:1471: UndefinedMetricWarning: Recall and F-score are ill-defined and being set to 0.0 in labels with no true samples. Use `zero_division` parameter to control this behavior.\n",
      "  _warn_prf(average, modifier, msg_start, len(result))\n",
      "/home/nsiva/.local/lib/python3.8/site-packages/sklearn/metrics/_classification.py:1471: UndefinedMetricWarning: Precision and F-score are ill-defined and being set to 0.0 in samples with no predicted labels. Use `zero_division` parameter to control this behavior.\n",
      "  _warn_prf(average, modifier, msg_start, len(result))\n"
     ]
    },
    {
     "name": "stdout",
     "output_type": "stream",
     "text": [
      "              precision    recall  f1-score   support\n",
      "\n",
      "         joy       0.57      0.40      0.47        10\n",
      "     sadness       0.40      0.44      0.42         9\n",
      "       anger       0.82      0.43      0.56        21\n",
      "        fear       0.07      1.00      0.13         1\n",
      "        love       0.67      0.35      0.46        23\n",
      "    surprise       0.00      0.00      0.00         0\n",
      "\n",
      "   micro avg       0.43      0.41      0.42        64\n",
      "   macro avg       0.42      0.44      0.34        64\n",
      "weighted avg       0.65      0.41      0.48        64\n",
      " samples avg       0.41      0.41      0.41        64\n",
      "\n",
      "{'accuracy': 0.40625, 'jaccard': 0.26262626262626265, 'jaccard_samples': 0.40625, 'f1': 0.3407695095582093, 'f1_micro': 0.4159999999999999}\n"
     ]
    },
    {
     "data": {
      "image/png": "[encoded data removed]",
      "text/plain": [
       "<Figure size 1000x500 with 1 Axes>"
      ]
     },
     "metadata": {},
     "output_type": "display_data"
    }
   ],
   "source": [
    "llama3 = Llama3(\"ParametrisedLlama3\", scores = {\"accuracy\": accuracy, \"jaccard\": jaccard, \n",
    "                                                \"jaccard_samples\":jaccard_samples, \"f1\": f1, \"f1_micro\": f1_micro})\n",
    "twitter_test_dataset = Llama_EmotionsData(twitter_test[:64])\n",
    "llama3.predict(twitter_emotions, twitter_test_dataset, samples = SAMPLES, single_label = True, progress_bar = True)\n",
    "\n"
   ]
  }
 ],
 "metadata": {
  "kernelspec": {
   "display_name": "Python 3",
   "language": "python",
   "name": "python3"
  },
  "language_info": {
   "codemirror_mode": {
    "name": "ipython",
    "version": 3
   },
   "file_extension": ".py",
   "mimetype": "text/x-python",
   "name": "python",
   "nbconvert_exporter": "python",
   "pygments_lexer": "ipython3",
   "version": "3.8.10"
  }
 },
 "nbformat": 4,
 "nbformat_minor": 2
}
