{
 "cells": [
  {
   "cell_type": "markdown",
   "metadata": {},
   "source": [
    "### Install the model:\n",
    "`! pip install ollama llama-index-llms-ollama`\n",
    "`! sudo snap install ollama`\n",
    "`! ollama run llama3`\n",
    "\n",
    "### After downloading the base model and creating the modelfile, we create the parametrised model for our task:\n",
    "`! ollama create [model name] -f [modelfile name]`"
   ]
  },
  {
   "cell_type": "code",
   "execution_count": 1,
   "metadata": {
    "metadata": {}
   },
   "outputs": [],
   "source": [
    "from llama_index.llms.ollama import Ollama\n",
    "from lib.dataset_utils import load_twitter_data_cleaned, load_goemotions_cleaned\n",
    "import tqdm\n",
    "from sklearn import MultiLabelBinarizer\n",
    "from torch.utils.data import DataLoader\n",
    "import numpy as np"
   ]
  },
  {
   "cell_type": "markdown",
   "metadata": {},
   "source": [
    "### Loading Twitter"
   ]
  },
  {
   "cell_type": "code",
   "execution_count": 2,
   "metadata": {
    "metadata": {}
   },
   "outputs": [],
   "source": [
    "_, _, twitter_test = load_twitter_data_cleaned() \n",
    "twitter_emotions = \"\"\"'joy', 'sadness','anger', 'fear', 'love', 'surprise'\"\"\""
   ]
  },
  {
   "cell_type": "markdown",
   "metadata": {},
   "source": [
    "### Loading Goemotions"
   ]
  },
  {
   "cell_type": "code",
   "execution_count": 3,
   "metadata": {
    "metadata": {}
   },
   "outputs": [],
   "source": [
    "import json\n",
    "label_mapping_path = \"./dataset/GoEmotionsSplit/label_mapping.json\"\n",
    "_, _, goemotions_test = load_goemotions_cleaned()\n",
    "json1_file = open(label_mapping_path)\n",
    "json1_str = json1_file.read()\n",
    "json1_data = json.loads(json1_str)\n",
    "goemotions_emotions = str(json1_data.values())"
   ]
  },
  {
   "cell_type": "code",
   "execution_count": 17,
   "metadata": {
    "metadata": {}
   },
   "outputs": [],
   "source": [
    "TWITTER_BASE_PROMPT = \"\"\"<|start_header_id|>system<|end_header_id|> Classify the sentences. Choose ONLY ONE EMOTION among the following: \"\"\" + twitter_emotions \n",
    "\n",
    "SAMPLES = \"\"\" \n",
    "text: 1. i left with my bouquet of red and yellow tulips under my arm feeling slightly more optimistic than when i arrived\n",
    "2. im updating my blog because i feel shitty\n",
    "\n",
    "answer:{\n",
    "    \"1\": \"joy\"\n",
    "    \"2\": \"sadness\"\n",
    "    }\n",
    "<|eot_id|>\"\"\"\n",
    "\n",
    "GOEMOTIONS_SINGLE_BASE_PROMPT = \"\"\"<|start_header_id|>system<|end_header_id|> Classify the sentences. Choose ONLY ONE EMOTION among the following: \"\"\" + goemotions_emotions\n",
    "\n",
    "GOEMOTIONS_MULTI_BASE_PROMPT = \"\"\"<|start_header_id|>system<|end_header_id|> Classify the sentences. Choose a maximum of three emotions among the following: \"\"\" + goemotions_emotions\n",
    "\n",
    "SAMPLES_STRING = \"\"\"Here are some samples:\"\"\"\n",
    "\n",
    "TERMINATOR_STRING = \"\"\"<|eot_id|>\"\"\""
   ]
  },
  {
   "cell_type": "code",
   "execution_count": 10,
   "metadata": {
    "metadata": {}
   },
   "outputs": [],
   "source": [
    "class Llama3():\n",
    "    def __init__(self, name, timeout = 1000.0, scores={}):\n",
    "        self.model = Ollama(model=name, request_timeout=timeout)\n",
    "        self.scores = scores\n",
    "\n",
    "    def predict(self, dataset_type, test, samples = None, batch_dim = 8, single_label = True, progress_bar = False):\n",
    "        # executes classification task on model\n",
    "        # k : number of shots (examples)\n",
    "        # emotions : list of emotions to be classified \n",
    "        # train : training data to fetch examples from\n",
    "        # test : test data to classify\n",
    "        # batch_dim : size of batch per prompt\n",
    "        # single_label : whether to classify single label or multi-label\n",
    "\n",
    "        test_loader = DataLoader(test, batch_size = batch_dim, shuffle = True)\n",
    "        predictions = []\n",
    "        base_prompt = self.generate_base_prompt(dataset_type, samples, single_label) # to avoid recreating the prompt from scratch at every batch\n",
    "        for data in tqdm(test_loader, disable=not progress_bar):\n",
    "            batch_prompt = self.add_test_data_to_prompt(data, base_prompt)\n",
    "            predictions.append(self.classify_batch(batch_prompt))\n",
    "        if len(predictions == len(test)):\n",
    "            self.evaluate(test, predictions, self.scores)\n",
    "        else:\n",
    "            print(f\"Error: predictions and test data do not match: pred: {len(predictions)} vs test:{len(test)}\")\n",
    "\n",
    "    def generate_base_prompt(self, dataset_type, samples, single_label = True):\n",
    "        # spaghetti code but python 3.8 has no switch-case \n",
    "        if dataset_type == \"twitter\":\n",
    "            if samples:\n",
    "                return TWITTER_BASE_PROMPT + SAMPLES_STRING + samples\n",
    "            return TWITTER_BASE_PROMPT\n",
    "        \n",
    "        if dataset_type == \"goemotions\":\n",
    "            if single_label:\n",
    "                if samples:\n",
    "                    return GOEMOTIONS_SINGLE_BASE_PROMPT + SAMPLES_STRING + samples\n",
    "                return GOEMOTIONS_SINGLE_BASE_PROMPT    \n",
    "            if samples:\n",
    "                return GOEMOTIONS_MULTI_BASE_PROMPT + SAMPLES_STRING + samples\n",
    "        return GOEMOTIONS_MULTI_BASE_PROMPT \n",
    "                \n",
    "    def add_test_data_to_prompt(self, prompt, test):\n",
    "        # appends test data to base prompt\n",
    "        for index, row in enumerate(test['text']):\n",
    "            prompt += (str(index) + '. ' + row + '\\n')\n",
    "        prompt += TERMINATOR_STRING\n",
    "        return prompt\n",
    "\n",
    "    def classify_batch(self, prompt):\n",
    "        # classify batch of data\n",
    "        # response is formatted as JSON\n",
    "        response = self.model.complete(prompt).text\n",
    "        emotions = self.extract_emotions(response)\n",
    "        return emotions.values()\n",
    "    \n",
    "    def evaluate(self, targets, predictions, scores):\n",
    "        # evaluate the model\n",
    "        mlb = MultiLabelBinarizer()\n",
    "        predictions = np.ndarray(predictions)\n",
    "        predictions = predictions.join(predictions.DataFrame(mlb.fit_transform(predictions),\n",
    "                                                          columns=mlb.classes_))\n",
    "                                                                 # columns=(emotions.append('other')))) # 'other' if emotion not in the allowed ones\n",
    "\n",
    "        scores = {name: score(targets, predictions) for name, score in scores.items()}\n",
    "        return scores\n",
    "\n",
    "    def extract_emotions(self, answers):\n",
    "        answers[answers.find('{'):]\n",
    "        return json.loads(answers)"
   ]
  },
  {
   "cell_type": "code",
   "execution_count": 18,
   "metadata": {
    "metadata": {}
   },
   "outputs": [
    {
     "data": {
      "text/html": [
       "<div>\n",
       "<style scoped>\n",
       "    .dataframe tbody tr th:only-of-type {\n",
       "        vertical-align: middle;\n",
       "    }\n",
       "\n",
       "    .dataframe tbody tr th {\n",
       "        vertical-align: top;\n",
       "    }\n",
       "\n",
       "    .dataframe thead th {\n",
       "        text-align: right;\n",
       "    }\n",
       "</style>\n",
       "<table border=\"1\" class=\"dataframe\">\n",
       "  <thead>\n",
       "    <tr style=\"text-align: right;\">\n",
       "      <th></th>\n",
       "      <th>text</th>\n",
       "      <th>anger</th>\n",
       "      <th>fear</th>\n",
       "      <th>joy</th>\n",
       "      <th>love</th>\n",
       "      <th>sadness</th>\n",
       "      <th>surprise</th>\n",
       "    </tr>\n",
       "  </thead>\n",
       "  <tbody>\n",
       "    <tr>\n",
       "      <th>60</th>\n",
       "      <td>i woke up yesterday monday morning feeling a l...</td>\n",
       "      <td>0</td>\n",
       "      <td>0</td>\n",
       "      <td>0</td>\n",
       "      <td>0</td>\n",
       "      <td>1</td>\n",
       "      <td>0</td>\n",
       "    </tr>\n",
       "    <tr>\n",
       "      <th>61</th>\n",
       "      <td>i feel so embarrassed</td>\n",
       "      <td>0</td>\n",
       "      <td>0</td>\n",
       "      <td>0</td>\n",
       "      <td>0</td>\n",
       "      <td>1</td>\n",
       "      <td>0</td>\n",
       "    </tr>\n",
       "    <tr>\n",
       "      <th>62</th>\n",
       "      <td>i spent wandering around still kinda dazed and...</td>\n",
       "      <td>0</td>\n",
       "      <td>0</td>\n",
       "      <td>1</td>\n",
       "      <td>0</td>\n",
       "      <td>0</td>\n",
       "      <td>0</td>\n",
       "    </tr>\n",
       "    <tr>\n",
       "      <th>63</th>\n",
       "      <td>i can honestly say that after each sistahs cha...</td>\n",
       "      <td>0</td>\n",
       "      <td>0</td>\n",
       "      <td>1</td>\n",
       "      <td>0</td>\n",
       "      <td>0</td>\n",
       "      <td>0</td>\n",
       "    </tr>\n",
       "    <tr>\n",
       "      <th>64</th>\n",
       "      <td>i still feel stupid to be in that class this i...</td>\n",
       "      <td>0</td>\n",
       "      <td>0</td>\n",
       "      <td>0</td>\n",
       "      <td>0</td>\n",
       "      <td>1</td>\n",
       "      <td>0</td>\n",
       "    </tr>\n",
       "    <tr>\n",
       "      <th>65</th>\n",
       "      <td>i feel a little stunned but can t imagine what...</td>\n",
       "      <td>0</td>\n",
       "      <td>0</td>\n",
       "      <td>0</td>\n",
       "      <td>0</td>\n",
       "      <td>0</td>\n",
       "      <td>1</td>\n",
       "    </tr>\n",
       "    <tr>\n",
       "      <th>66</th>\n",
       "      <td>i admit im feeling a little bit unloved at thi...</td>\n",
       "      <td>0</td>\n",
       "      <td>0</td>\n",
       "      <td>0</td>\n",
       "      <td>0</td>\n",
       "      <td>1</td>\n",
       "      <td>0</td>\n",
       "    </tr>\n",
       "    <tr>\n",
       "      <th>67</th>\n",
       "      <td>i feel a bit stressed even though all the thin...</td>\n",
       "      <td>1</td>\n",
       "      <td>0</td>\n",
       "      <td>0</td>\n",
       "      <td>0</td>\n",
       "      <td>0</td>\n",
       "      <td>0</td>\n",
       "    </tr>\n",
       "    <tr>\n",
       "      <th>68</th>\n",
       "      <td>im feeling pretty anxious</td>\n",
       "      <td>0</td>\n",
       "      <td>1</td>\n",
       "      <td>0</td>\n",
       "      <td>0</td>\n",
       "      <td>0</td>\n",
       "      <td>0</td>\n",
       "    </tr>\n",
       "    <tr>\n",
       "      <th>69</th>\n",
       "      <td>i feel shocked and sad at the fact that there ...</td>\n",
       "      <td>0</td>\n",
       "      <td>0</td>\n",
       "      <td>0</td>\n",
       "      <td>0</td>\n",
       "      <td>0</td>\n",
       "      <td>1</td>\n",
       "    </tr>\n",
       "  </tbody>\n",
       "</table>\n",
       "</div>"
      ],
      "text/plain": [
       "                                                 text  anger  fear  joy  love  \\\n",
       "60  i woke up yesterday monday morning feeling a l...      0     0    0     0   \n",
       "61                              i feel so embarrassed      0     0    0     0   \n",
       "62  i spent wandering around still kinda dazed and...      0     0    1     0   \n",
       "63  i can honestly say that after each sistahs cha...      0     0    1     0   \n",
       "64  i still feel stupid to be in that class this i...      0     0    0     0   \n",
       "65  i feel a little stunned but can t imagine what...      0     0    0     0   \n",
       "66  i admit im feeling a little bit unloved at thi...      0     0    0     0   \n",
       "67  i feel a bit stressed even though all the thin...      1     0    0     0   \n",
       "68                          im feeling pretty anxious      0     1    0     0   \n",
       "69  i feel shocked and sad at the fact that there ...      0     0    0     0   \n",
       "\n",
       "    sadness  surprise  \n",
       "60        1         0  \n",
       "61        1         0  \n",
       "62        0         0  \n",
       "63        0         0  \n",
       "64        1         0  \n",
       "65        0         1  \n",
       "66        1         0  \n",
       "67        0         0  \n",
       "68        0         0  \n",
       "69        0         1  "
      ]
     },
     "execution_count": 18,
     "metadata": {},
     "output_type": "execute_result"
    }
   ],
   "source": [
    "llama3 = Llama3(\"ParametrisedLlama3\")\n",
    "twitter_prompt = TWITTER_BASE_PROMPT + SAMPLES_STRING + SAMPLES\n",
    "batch = twitter_test[60:70]\n",
    "twitter_prompt = llama3.add_test_data_to_prompt(twitter_prompt, batch)\n",
    "batch\n"
   ]
  },
  {
   "cell_type": "code",
   "execution_count": 19,
   "metadata": {
    "metadata": {}
   },
   "outputs": [
    {
     "name": "stdout",
     "output_type": "stream",
     "text": [
      "{\n",
      "\"0\": \"fear\",\n",
      "\"1\": \"anger\",\n",
      "\"2\": \"surprise\",\n",
      "\"3\": \"joy\",\n",
      "\"4\": \"sadness\",\n",
      "\"5\": \"surprise\",\n",
      "\"6\": \"sadness\",\n",
      "\"7\": \"stress\",\n",
      "\"8\": \"fear\",\n",
      "\"9\": \"surprise\"\n",
      "}\n"
     ]
    }
   ],
   "source": [
    "response = llama3.model.complete(twitter_prompt).text\n",
    "\n",
    "print(response)"
   ]
  },
  {
   "cell_type": "code",
   "execution_count": 20,
   "metadata": {
    "metadata": {}
   },
   "outputs": [
    {
     "data": {
      "text/plain": [
       "{'0': 'fear',\n",
       " '1': 'anger',\n",
       " '2': 'surprise',\n",
       " '3': 'joy',\n",
       " '4': 'sadness',\n",
       " '5': 'surprise',\n",
       " '6': 'sadness',\n",
       " '7': 'stress',\n",
       " '8': 'fear',\n",
       " '9': 'surprise'}"
      ]
     },
     "execution_count": 20,
     "metadata": {},
     "output_type": "execute_result"
    }
   ],
   "source": [
    "llama3.extract_emotions(response)"
   ]
  },
  {
   "cell_type": "code",
   "execution_count": null,
   "metadata": {
    "metadata": {}
   },
   "outputs": [
    {
     "data": {
      "text/plain": [
       "'t'"
      ]
     },
     "execution_count": 10,
     "metadata": {},
     "output_type": "execute_result"
    }
   ],
   "source": []
  }
 ],
 "metadata": {
  "kernelspec": {
   "display_name": "Python 3",
   "language": "python",
   "name": "python3"
  },
  "language_info": {
   "codemirror_mode": {
    "name": "ipython",
    "version": 3
   },
   "file_extension": ".py",
   "mimetype": "text/x-python",
   "name": "python",
   "nbconvert_exporter": "python",
   "pygments_lexer": "ipython3",
   "version": "3.8.10"
  }
 },
 "nbformat": 4,
 "nbformat_minor": 2
}
