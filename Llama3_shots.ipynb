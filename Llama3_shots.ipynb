{
 "cells": [
  {
   "cell_type": "markdown",
   "metadata": {},
   "source": [
    "### Install the model:\n",
    "`! pip install ollama llama-index-llms-ollama`\n",
    "\n",
    "`! sudo snap install ollama`\n",
    "\n",
    "`! ollama pull llama3`\n",
    "\n",
    "### After downloading the base model and creating the modelfile, we create the parametrised model for our task:\n",
    "`! ollama create [model name] -f [modelfile name]`"
   ]
  },
  {
   "cell_type": "code",
   "execution_count": 1,
   "metadata": {
    "metadata": {}
   },
   "outputs": [],
   "source": [
    "from lib.dataset_utils import load_twitter_data_cleaned, load_goemotions_cleaned\n",
    "from lib.plot_utils import *\n",
    "from lib.models import Llama3\n",
    "from lib.dataset_utils import Llama_EmotionsData\n",
    "from sklearn.metrics import accuracy_score, jaccard_score, f1_score\n",
    "import json"
   ]
  },
  {
   "cell_type": "markdown",
   "metadata": {},
   "source": [
    "### Loading Twitter"
   ]
  },
  {
   "cell_type": "code",
   "execution_count": 2,
   "metadata": {
    "metadata": {}
   },
   "outputs": [],
   "source": [
    "_, _, twitter_test = load_twitter_data_cleaned() \n",
    "twitter_emotions = ('joy', 'sadness','anger', 'fear', 'love', 'surprise')\n",
    "twitter_test_dataset = Llama_EmotionsData(twitter_test)"
   ]
  },
  {
   "cell_type": "markdown",
   "metadata": {},
   "source": [
    "### Loading Goemotions"
   ]
  },
  {
   "cell_type": "code",
   "execution_count": 3,
   "metadata": {
    "metadata": {}
   },
   "outputs": [],
   "source": [
    "label_mapping_path = \"./dataset/GoEmotionsSplit/label_mapping.json\"\n",
    "_, _, goemotions_test = load_goemotions_cleaned()\n",
    "json1_file = open(label_mapping_path)\n",
    "json1_str = json1_file.read()\n",
    "json1_data = json.loads(json1_str)\n",
    "goemotions_emotions = str(json1_data.values())"
   ]
  },
  {
   "cell_type": "code",
   "execution_count": 4,
   "metadata": {
    "metadata": {}
   },
   "outputs": [],
   "source": [
    "def accuracy(targets, predictions):\n",
    "    return accuracy_score(targets, predictions, zero_division=0)\n",
    "def jaccard(targets, predictions):\n",
    "    return jaccard_score(targets, predictions, average='micro', zero_division=0)\n",
    "def jaccard_samples(targets, predictions):\n",
    "    return jaccard_score(targets, predictions, average='samples', zero_division=0)\n",
    "def f1(targets, predictions):\n",
    "    return f1_score(targets, predictions, average='macro', zero_division=0)\n",
    "def f1_micro(targets, predictions):\n",
    "    return f1_score(targets, predictions, average='micro', zero_division=0)\n",
    "\n",
    "SCORES = {\"accuracy\": accuracy, \"jaccard\": jaccard, \"jaccard_samples\":jaccard_samples, \"f1\": f1, \"f1_micro\": f1_micro}\n",
    "\n",
    "PROMPTS = {\"SAMPLES\" : \"\"\" \n",
    "text: 1. i left with my bouquet of red and yellow tulips under my arm feeling slightly more optimistic than when i arrived\n",
    "2. im updating my blog because i feel shitty\n",
    "\n",
    "answer:{\n",
    "    \"1\": \"joy\"\n",
    "    \"2\": \"sadness\"\n",
    "    }\n",
    "\"\"\",\n",
    "\"SINGLE_BASE_PROMPT\" : \"\"\"<|start_header_id|>system<|end_header_id|> Classify the sentences. Choose ONLY ONE EMOTION among the following: \"\"\", \n",
    "\n",
    "\"MULTI_BASE_PROMPT\" : \"\"\"<|start_header_id|>system<|end_header_id|> Classify the sentences. Choose a maximum of three emotions among the following: \"\"\", \n",
    "\n",
    "\"SAMPLES_STRING\" : \"\"\"Here are some samples:\"\"\",\n",
    "\n",
    "\"TERMINATOR_STRING\" : \"\"\"<|eot_id|>\"\"\"}"
   ]
  },
  {
   "cell_type": "markdown",
   "metadata": {},
   "source": [
    "# Twitter 2-Shot"
   ]
  },
  {
   "cell_type": "code",
   "execution_count": 6,
   "metadata": {
    "metadata": {}
   },
   "outputs": [
    {
     "name": "stderr",
     "output_type": "stream",
     "text": [
      "100%|██████████| 250/250 [1:54:51<00:00, 27.57s/it]\n",
      "/home/nsiva/.local/lib/python3.8/site-packages/sklearn/metrics/_classification.py:1471: UndefinedMetricWarning: Precision and F-score are ill-defined and being set to 0.0 in samples with no predicted labels. Use `zero_division` parameter to control this behavior.\n",
      "  _warn_prf(average, modifier, msg_start, len(result))\n"
     ]
    },
    {
     "name": "stdout",
     "output_type": "stream",
     "text": [
      "              precision    recall  f1-score   support\n",
      "\n",
      "         joy       0.45      0.45      0.45       275\n",
      "     sadness       0.31      0.48      0.38       224\n",
      "       anger       0.74      0.39      0.52       695\n",
      "        fear       0.22      0.45      0.29       159\n",
      "        love       0.58      0.38      0.46       581\n",
      "    surprise       0.12      0.36      0.18        66\n",
      "\n",
      "   micro avg       0.43      0.41      0.42      2000\n",
      "   macro avg       0.40      0.42      0.38      2000\n",
      "weighted avg       0.54      0.41      0.45      2000\n",
      " samples avg       0.41      0.41      0.41      2000\n",
      "\n",
      "{'accuracy': 0.4105, 'jaccard': 0.2667316439246264, 'jaccard_samples': 0.4105, 'f1': 0.3789845035884605, 'f1_micro': 0.4211336240061554}\n"
     ]
    },
    {
     "data": {
      "image/png": "[encoded data removed]",
      "text/plain": [
       "<Figure size 1000x500 with 1 Axes>"
      ]
     },
     "metadata": {},
     "output_type": "display_data"
    }
   ],
   "source": [
    "llama3 = Llama3(\"ParametrisedLlama3\", scores = SCORES, json_mode=False, samples=PROMPTS[\"SAMPLES\"])\n",
    "predictions, results = llama3.predict(twitter_emotions, twitter_test_dataset, single_label = True, progress_bar = True)"
   ]
  }
 ],
 "metadata": {
  "kernelspec": {
   "display_name": "Python 3",
   "language": "python",
   "name": "python3"
  },
  "language_info": {
   "codemirror_mode": {
    "name": "ipython",
    "version": 3
   },
   "file_extension": ".py",
   "mimetype": "text/x-python",
   "name": "python",
   "nbconvert_exporter": "python",
   "pygments_lexer": "ipython3",
   "version": "3.8.10"
  }
 },
 "nbformat": 4,
 "nbformat_minor": 2
}
