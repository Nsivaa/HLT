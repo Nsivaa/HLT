{
 "cells": [
  {
   "cell_type": "markdown",
   "metadata": {},
   "source": [
    "# Emotion Classification with Llama 3 Instruct 8B"
   ]
  },
  {
   "cell_type": "code",
   "execution_count": 1,
   "metadata": {
    "metadata": {}
   },
   "outputs": [
    {
     "name": "stderr",
     "output_type": "stream",
     "text": [
      "/home/g.demarco5/group_21/lib/python3.10/site-packages/huggingface_hub/file_download.py:1132: FutureWarning: `resume_download` is deprecated and will be removed in version 1.0.0. Downloads always resume when possible. If you want to force a new download, use `force_download=True`.\n",
      "  warnings.warn(\n"
     ]
    }
   ],
   "source": [
    "from lib.dataset_utils import *\n",
    "from lib.plot_utils import *\n",
    "from lib.models import Llama3\n",
    "from lib.dataset_utils import Llama_EmotionsData\n",
    "from sklearn.metrics import accuracy_score, jaccard_score, f1_score\n",
    "\n",
    "model_name = \"meta-llama/Meta-Llama-3-8B-Instruct\""
   ]
  },
  {
   "cell_type": "markdown",
   "metadata": {},
   "source": [
    "### Loading Twitter"
   ]
  },
  {
   "cell_type": "code",
   "execution_count": 8,
   "metadata": {
    "metadata": {}
   },
   "outputs": [],
   "source": [
    "twitter_train, _, twitter_test = load_twitter_data_cleaned() \n",
    "twitter_emotions = ('joy', 'sadness','anger', 'fear', 'love', 'surprise')\n",
    "twitter_test_dataset = Llama_EmotionsData(twitter_test)"
   ]
  },
  {
   "cell_type": "markdown",
   "metadata": {},
   "source": [
    "### Loading Goemotions"
   ]
  },
  {
   "cell_type": "code",
   "execution_count": 9,
   "metadata": {
    "metadata": {}
   },
   "outputs": [],
   "source": [
    "label_mapping_path = \"./dataset/GoEmotionsSplit/label_mapping.json\"\n",
    "goemotions_train, _, goemotions_test = load_goemotions_cleaned()\n",
    "goemotions_test_dataset = Llama_EmotionsData(goemotions_test)\n",
    "json1_file = open(label_mapping_path)\n",
    "json1_str = json1_file.read()\n",
    "json1_data = json.loads(json1_str)\n",
    "goemotions_emotions = str(json1_data.values())"
   ]
  },
  {
   "cell_type": "code",
   "execution_count": 4,
   "metadata": {
    "metadata": {}
   },
   "outputs": [],
   "source": [
    "def accuracy(targets, predictions):\n",
    "    return accuracy_score(targets, predictions)\n",
    "def jaccard(targets, predictions):\n",
    "    return jaccard_score(targets, predictions, average='micro', zero_division=0)\n",
    "def jaccard_samples(targets, predictions):\n",
    "    return jaccard_score(targets, predictions, average='samples', zero_division=0)\n",
    "def f1(targets, predictions):\n",
    "    return f1_score(targets, predictions, average='macro', zero_division=0)\n",
    "def f1_micro(targets, predictions):\n",
    "    return f1_score(targets, predictions, average='micro', zero_division=0)\n",
    "\n",
    "SCORES = {\"accuracy\": accuracy, \"jaccard\": jaccard, \"jaccard_samples\":jaccard_samples, \"f1\": f1, \"f1_micro\": f1_micro}\n",
    " \n",
    "# 3 Shots from Twitter training set\n",
    "TWITTER_SAMPLES = f\"\"\"Look at these examples:\\n\n",
    "Sentence: i think it s the easiest time of year to feel dissatisfied\\n\n",
    "Answer: anger\\n\n",
    "Sentence: i feel as confused about life as a teenager or as jaded as a year old man\\n\n",
    "Answer: fear\\n\n",
    "Sentence: i have seen heard and read over the past couple of days i am left feeling impressed by more than a few companies\\n\n",
    "Answer: surprise\\n\n",
    "Now \"\"\" # ...\"Classify the sentence\" etc.\n",
    "\n",
    "# 3 Shots from Goemotions training set\n",
    "GOEMOTIONS_SAMPLES = f\"\"\"Look at these examples:\\n\n",
    "Sentence: Slowing things down now\\n\n",
    "\\nDoes it evoke the emotion 'disappointment'?\n",
    "Answer: False\\n\n",
    "Sentence: Aww... she'll probably come around eventually, I'm sure she was just jealous of [NAME]... I mean, what woman wouldn't be! lol \\n\n",
    "\\nDoes it evoke the emotion 'amusement'?\n",
    "Answer: True\\n\n",
    "Sentence: Super, thanks\\n\n",
    "\\nDoes it evoke the emotion 'gratitude'?\n",
    "Answer: True\\n \n",
    "Now \"\"\" # ...\"Consider the following sentence\" etc."
   ]
  },
  {
   "cell_type": "markdown",
   "metadata": {},
   "source": [
    "# Twitter 0 Shots"
   ]
  },
  {
   "cell_type": "code",
   "execution_count": 5,
   "metadata": {
    "metadata": {}
   },
   "outputs": [
    {
     "name": "stderr",
     "output_type": "stream",
     "text": [
      "/home/g.demarco5/group_21/lib/python3.10/site-packages/huggingface_hub/file_download.py:1132: FutureWarning: `resume_download` is deprecated and will be removed in version 1.0.0. Downloads always resume when possible. If you want to force a new download, use `force_download=True`.\n",
      "  warnings.warn(\n"
     ]
    },
    {
     "data": {
      "application/vnd.jupyter.widget-view+json": {
       "model_id": "b887102ecb224e56a58ca587410867a7",
       "version_major": 2,
       "version_minor": 0
      },
      "text/plain": [
       "Loading checkpoint shards:   0%|          | 0/4 [00:00<?, ?it/s]"
      ]
     },
     "metadata": {},
     "output_type": "display_data"
    },
    {
     "name": "stderr",
     "output_type": "stream",
     "text": [
      "Special tokens have been added in the vocabulary, make sure the associated word embeddings are fine-tuned or trained.\n"
     ]
    },
    {
     "name": "stdout",
     "output_type": "stream",
     "text": [
      "2000\n"
     ]
    },
    {
     "data": {
      "application/vnd.jupyter.widget-view+json": {
       "model_id": "3fb21981e3404f5586592cb9a32fdc9a",
       "version_major": 2,
       "version_minor": 0
      },
      "text/plain": [
       "  0%|          | 0/2000 [00:00<?, ?it/s]"
      ]
     },
     "metadata": {},
     "output_type": "display_data"
    },
    {
     "name": "stdout",
     "output_type": "stream",
     "text": [
      "              precision    recall  f1-score   support\n",
      "\n",
      "         joy       0.16      0.45      0.24       275\n",
      "     sadness       0.17      0.12      0.14       224\n",
      "       anger       0.40      0.03      0.05       695\n",
      "        fear       0.05      0.03      0.04       159\n",
      "        love       0.38      0.40      0.39       581\n",
      "    surprise       0.11      0.56      0.19        66\n",
      "\n",
      "   micro avg       0.22      0.22      0.22      2000\n",
      "   macro avg       0.21      0.27      0.18      2000\n",
      "weighted avg       0.30      0.22      0.19      2000\n",
      " samples avg       0.22      0.22      0.22      2000\n",
      "\n"
     ]
    },
    {
     "data": {
      "image/png": "[encoded data removed]",
      "text/plain": [
       "<Figure size 1000x500 with 1 Axes>"
      ]
     },
     "metadata": {},
     "output_type": "display_data"
    }
   ],
   "source": [
    "twitter_0shot_llama3 = Llama3(model_name, scores = SCORES, emotions=twitter_emotions)\n",
    "results = twitter_0shot_llama3.predict(twitter_test_dataset, progress_bar = True)"
   ]
  },
  {
   "cell_type": "markdown",
   "metadata": {},
   "source": [
    "# Twitter 3 Shots"
   ]
  },
  {
   "cell_type": "code",
   "execution_count": null,
   "metadata": {},
   "outputs": [],
   "source": [
    "twitter_3shot_llama3 = Llama3(model_name, scores = SCORES, emotions=twitter_emotions, samples = TWITTER_SAMPLES)\n",
    "results = twitter_3shot_llama3.predict(twitter_test_dataset, progress_bar = True)"
   ]
  },
  {
   "cell_type": "markdown",
   "metadata": {},
   "source": [
    "# Goemotions 0 Shots"
   ]
  },
  {
   "cell_type": "code",
   "execution_count": null,
   "metadata": {},
   "outputs": [],
   "source": [
    "goemo_0shot_llama3 = Llama3(model_name, scores = SCORES, emotions=twitter_emotions)\n",
    "results = twitter_3shot_llama3.predict(goemotions_test_dataset, progress_bar = True)"
   ]
  },
  {
   "cell_type": "markdown",
   "metadata": {},
   "source": [
    "# Goemotions 3 Shots"
   ]
  },
  {
   "cell_type": "code",
   "execution_count": null,
   "metadata": {},
   "outputs": [],
   "source": [
    "goemo_3shot_llama3 = Llama3(model_name, scores = SCORES, emotions=twitter_emotions)\n",
    "results = twitter_3shot_llama3.predict(goemotions_test_dataset, progress_bar = True, samples = GOEMOTIONS_SAMPLES)"
   ]
  }
 ],
 "metadata": {
  "kernelspec": {
   "display_name": "Python 3 (ipykernel)",
   "language": "python",
   "name": "python3"
  },
  "language_info": {
   "codemirror_mode": {
    "name": "ipython",
    "version": 3
   },
   "file_extension": ".py",
   "mimetype": "text/x-python",
   "name": "python",
   "nbconvert_exporter": "python",
   "pygments_lexer": "ipython3",
   "version": "3.10.12"
  }
 },
 "nbformat": 4,
 "nbformat_minor": 4
}
