{
 "cells": [
  {
   "cell_type": "markdown",
   "id": "0482609f-0f7b-483a-952b-980c6497d9d2",
   "metadata": {
    "editable": true,
    "slideshow": {
     "slide_type": ""
    },
    "tags": []
   },
   "source": [
    "# Bert fine-tuning"
   ]
  },
  {
   "cell_type": "markdown",
   "id": "227937b1-175c-4d3f-8f15-6c9e89adff60",
   "metadata": {},
   "source": [
    "## Go emotions"
   ]
  },
  {
   "cell_type": "markdown",
   "id": "07bba815-3be1-4537-89b7-d24da9200209",
   "metadata": {},
   "source": [
    "It's a classification task dataset made of 58k reddit comments.\n",
    "Goemotions is a very unique dataset because quite often emotion classification task follows the directive to classify within only 6 emotions (which are very often joy, anger, fear, sadness, disgust, and surprise) proposed by Ekman in 1992 while goemotions classify the entries in 27 emotions + 1 neutral.<br>\n",
    "What follows is based on the official goemotion paper analysis for fine tuning bert."
   ]
  },
  {
   "cell_type": "markdown",
   "id": "679dfccd-5eba-4fa9-a7e2-c97d15c2c7b3",
   "metadata": {},
   "source": [
    "### Data preparation\n",
    "The twitter dataset is full of biases and is very toxic so we will take the already prepared data got from the paper work, which provide for example:\n",
    "1. Reducing profanity\n",
    "2. Sentiment balancing\n",
    "3. Subreddit balancing\n",
    "4. Length filtering\n",
    "5. mask proper names referring to people with a [NAME] token and religion terms with a [RELIGION] token.\n",
    "\n",
    "\n",
    "To minimize the noise in our data, we filter out emotion labels selected by only a single annotator. We keep examples with at least one label after this filtering is performed—this amounts to 93% of the original data. We randomly split this data into train (80%), dev (10%) and test (10%) sets."
   ]
  },
  {
   "cell_type": "code",
   "execution_count": 73,
   "id": "292b79fa-d87c-4598-b5c7-11353fa5f709",
   "metadata": {},
   "outputs": [],
   "source": [
    "\n",
    "import numpy as np\n",
    "from bs4 import BeautifulSoup\n",
    "import emoji\n",
    "import pandas as pd\n",
    "import time\n",
    "import datetime\n",
    "import gc\n",
    "import random\n",
    "import string\n",
    "from nltk.corpus import stopwords\n",
    "import re\n",
    "import matplotlib.pyplot as plt\n",
    "from lib.dataset_utils import *\n",
    "from sklearn.preprocessing import MultiLabelBinarizer\n",
    "import seaborn as sns\n",
    "import os\n",
    "import torch\n",
    "import torch.nn as nn\n",
    "from torch.utils.data import TensorDataset, DataLoader, RandomSampler, SequentialSampler,random_split\n",
    "from sklearn.model_selection import train_test_split\n",
    "from sklearn.metrics import classification_report\n",
    "from lib import dataset_utils\n",
    "import transformers\n",
    "from transformers import BertForSequenceClassification, AdamW, BertConfig,BertTokenizer,get_linear_schedule_with_warmup"
   ]
  },
  {
   "cell_type": "code",
   "execution_count": 2,
   "id": "901e5fdc",
   "metadata": {},
   "outputs": [],
   "source": [
    "# conversione dataset in 6 emozioni + neutral\n"
   ]
  },
  {
   "cell_type": "code",
   "execution_count": 44,
   "id": "84bf9063-eda3-4fe7-ac33-ca5c7264546b",
   "metadata": {},
   "outputs": [
    {
     "data": {
      "text/plain": [
       "Index(['admiration', 'amusement', 'disapproval', 'disgust', 'embarrassment',\n",
       "       'excitement', 'fear', 'gratitude', 'grief', 'joy', 'love',\n",
       "       'nervousness', 'anger', 'optimism', 'pride', 'realization', 'relief',\n",
       "       'remorse', 'sadness', 'surprise', 'neutral', 'annoyance', 'approval',\n",
       "       'caring', 'confusion', 'curiosity', 'desire', 'disappointment'],\n",
       "      dtype='object')"
      ]
     },
     "execution_count": 44,
     "metadata": {},
     "output_type": "execute_result"
    }
   ],
   "source": [
    "train_df, val_df, test_df = load_dataset(DatasetEnum.GoEmotions, k_hot_encode=True)\n",
    "label_names = train_df.columns[1:]\n",
    "label_names"
   ]
  },
  {
   "cell_type": "markdown",
   "id": "2a4a17e9",
   "metadata": {},
   "source": [
    "Di seguito si mappano i dataset con la ekman:\n",
    "1. prima dalla hot encoding si genera una hot encoding mappata \n",
    "poi si droppato le colonne extra"
   ]
  },
  {
   "cell_type": "code",
   "execution_count": 45,
   "id": "a4944b58",
   "metadata": {},
   "outputs": [],
   "source": [
    "def _or(dataset, array):\n",
    "    value = dataset[array.pop(0)]\n",
    "    for column in array:\n",
    "        value = value | dataset[column]\n",
    "    return value \n",
    "\n",
    "def map_to_Ekman(dataset):\n",
    "    dataset[\"_joy\"] = _or(dataset,  [\"admiration\", \"amusement\", \"approval\", \"caring\",\"desire\", \"excitement\", \"gratitude\", \"joy\", \"love\", \"optimism\", \"pride\", \"relief\"])\n",
    "    dataset[\"_anger\"] = _or(dataset, [\"anger\",\"annoyance\", \"disapproval\"])\n",
    "    dataset[\"_surprise\"] = _or(dataset, [\"confusion\", \"curiosity\", \"realization\", \"surprise\"])\n",
    "    dataset[\"_sadness\"] = _or(dataset, [\"disappointment\", \"embarrassment\", \"grief\", \"remorse\", \"sadness\"])\n",
    "    dataset[\"_disgust\"] = dataset[\"disgust\"]\n",
    "    dataset[\"_fear\"] = _or(dataset, [\"fear\",\"nervousness\"])\n",
    "    dataset[\"_neutral\"] = dataset[\"neutral\"]\n",
    "\n",
    "map_to_Ekman(train_df)\n",
    "map_to_Ekman(val_df)\n",
    "map_to_Ekman(test_df)"
   ]
  },
  {
   "cell_type": "code",
   "execution_count": 46,
   "id": "75d5d2a7",
   "metadata": {},
   "outputs": [],
   "source": [
    "train_df = train_df.drop(columns=['admiration', 'amusement', 'disapproval', 'disgust', 'embarrassment',\n",
    "       'excitement', 'fear', 'gratitude', 'grief', 'joy', 'love',\n",
    "       'nervousness', 'anger', 'optimism', 'pride', 'realization', 'relief',\n",
    "       'remorse', 'sadness', 'surprise', 'neutral', 'annoyance', 'approval',\n",
    "       'caring', 'confusion', 'curiosity', 'desire', 'disappointment'])\n",
    "val_df=val_df.drop(columns=['admiration', 'amusement', 'disapproval', 'disgust', 'embarrassment',\n",
    "       'excitement', 'fear', 'gratitude', 'grief', 'joy', 'love',\n",
    "       'nervousness', 'anger', 'optimism', 'pride', 'realization', 'relief',\n",
    "       'remorse', 'sadness', 'surprise', 'neutral', 'annoyance', 'approval',\n",
    "       'caring', 'confusion', 'curiosity', 'desire', 'disappointment'])\n",
    "test_df =test_df.drop(columns=['admiration', 'amusement', 'disapproval', 'disgust', 'embarrassment',\n",
    "       'excitement', 'fear', 'gratitude', 'grief', 'joy', 'love',\n",
    "       'nervousness', 'anger', 'optimism', 'pride', 'realization', 'relief',\n",
    "       'remorse', 'sadness', 'surprise', 'neutral', 'annoyance', 'approval',\n",
    "       'caring', 'confusion', 'curiosity', 'desire', 'disappointment'])"
   ]
  },
  {
   "cell_type": "code",
   "execution_count": 6,
   "id": "30971854",
   "metadata": {},
   "outputs": [
    {
     "data": {
      "text/html": [
       "<div>\n",
       "<style scoped>\n",
       "    .dataframe tbody tr th:only-of-type {\n",
       "        vertical-align: middle;\n",
       "    }\n",
       "\n",
       "    .dataframe tbody tr th {\n",
       "        vertical-align: top;\n",
       "    }\n",
       "\n",
       "    .dataframe thead th {\n",
       "        text-align: right;\n",
       "    }\n",
       "</style>\n",
       "<table border=\"1\" class=\"dataframe\">\n",
       "  <thead>\n",
       "    <tr style=\"text-align: right;\">\n",
       "      <th></th>\n",
       "      <th>text</th>\n",
       "      <th>_joy</th>\n",
       "      <th>_anger</th>\n",
       "      <th>_surprise</th>\n",
       "      <th>_sadness</th>\n",
       "      <th>_disgust</th>\n",
       "      <th>_fear</th>\n",
       "      <th>_neutral</th>\n",
       "    </tr>\n",
       "  </thead>\n",
       "  <tbody>\n",
       "    <tr>\n",
       "      <th>0</th>\n",
       "      <td>My favourite food is anything I didn't have to...</td>\n",
       "      <td>0</td>\n",
       "      <td>0</td>\n",
       "      <td>0</td>\n",
       "      <td>0</td>\n",
       "      <td>0</td>\n",
       "      <td>0</td>\n",
       "      <td>1</td>\n",
       "    </tr>\n",
       "    <tr>\n",
       "      <th>1</th>\n",
       "      <td>Now if he does off himself, everyone will thin...</td>\n",
       "      <td>0</td>\n",
       "      <td>0</td>\n",
       "      <td>0</td>\n",
       "      <td>0</td>\n",
       "      <td>0</td>\n",
       "      <td>0</td>\n",
       "      <td>1</td>\n",
       "    </tr>\n",
       "    <tr>\n",
       "      <th>2</th>\n",
       "      <td>WHY THE FUCK IS BAYLESS ISOING</td>\n",
       "      <td>0</td>\n",
       "      <td>1</td>\n",
       "      <td>0</td>\n",
       "      <td>0</td>\n",
       "      <td>0</td>\n",
       "      <td>0</td>\n",
       "      <td>0</td>\n",
       "    </tr>\n",
       "    <tr>\n",
       "      <th>3</th>\n",
       "      <td>To make her feel threatened</td>\n",
       "      <td>0</td>\n",
       "      <td>0</td>\n",
       "      <td>0</td>\n",
       "      <td>0</td>\n",
       "      <td>0</td>\n",
       "      <td>1</td>\n",
       "      <td>0</td>\n",
       "    </tr>\n",
       "    <tr>\n",
       "      <th>4</th>\n",
       "      <td>Dirty Southern Wankers</td>\n",
       "      <td>0</td>\n",
       "      <td>1</td>\n",
       "      <td>0</td>\n",
       "      <td>0</td>\n",
       "      <td>0</td>\n",
       "      <td>0</td>\n",
       "      <td>0</td>\n",
       "    </tr>\n",
       "    <tr>\n",
       "      <th>...</th>\n",
       "      <td>...</td>\n",
       "      <td>...</td>\n",
       "      <td>...</td>\n",
       "      <td>...</td>\n",
       "      <td>...</td>\n",
       "      <td>...</td>\n",
       "      <td>...</td>\n",
       "      <td>...</td>\n",
       "    </tr>\n",
       "    <tr>\n",
       "      <th>43405</th>\n",
       "      <td>Added you mate well I’ve just got the bow and ...</td>\n",
       "      <td>1</td>\n",
       "      <td>0</td>\n",
       "      <td>0</td>\n",
       "      <td>0</td>\n",
       "      <td>0</td>\n",
       "      <td>0</td>\n",
       "      <td>0</td>\n",
       "    </tr>\n",
       "    <tr>\n",
       "      <th>43406</th>\n",
       "      <td>Always thought that was funny but is it a refe...</td>\n",
       "      <td>0</td>\n",
       "      <td>0</td>\n",
       "      <td>1</td>\n",
       "      <td>0</td>\n",
       "      <td>0</td>\n",
       "      <td>0</td>\n",
       "      <td>0</td>\n",
       "    </tr>\n",
       "    <tr>\n",
       "      <th>43407</th>\n",
       "      <td>What are you talking about? Anything bad that ...</td>\n",
       "      <td>0</td>\n",
       "      <td>1</td>\n",
       "      <td>0</td>\n",
       "      <td>0</td>\n",
       "      <td>0</td>\n",
       "      <td>0</td>\n",
       "      <td>0</td>\n",
       "    </tr>\n",
       "    <tr>\n",
       "      <th>43408</th>\n",
       "      <td>More like a baptism, with sexy results!</td>\n",
       "      <td>1</td>\n",
       "      <td>0</td>\n",
       "      <td>0</td>\n",
       "      <td>0</td>\n",
       "      <td>0</td>\n",
       "      <td>0</td>\n",
       "      <td>0</td>\n",
       "    </tr>\n",
       "    <tr>\n",
       "      <th>43409</th>\n",
       "      <td>Enjoy the ride!</td>\n",
       "      <td>1</td>\n",
       "      <td>0</td>\n",
       "      <td>0</td>\n",
       "      <td>0</td>\n",
       "      <td>0</td>\n",
       "      <td>0</td>\n",
       "      <td>0</td>\n",
       "    </tr>\n",
       "  </tbody>\n",
       "</table>\n",
       "<p>43410 rows × 8 columns</p>\n",
       "</div>"
      ],
      "text/plain": [
       "                                                    text  _joy  _anger  \\\n",
       "0      My favourite food is anything I didn't have to...     0       0   \n",
       "1      Now if he does off himself, everyone will thin...     0       0   \n",
       "2                         WHY THE FUCK IS BAYLESS ISOING     0       1   \n",
       "3                            To make her feel threatened     0       0   \n",
       "4                                 Dirty Southern Wankers     0       1   \n",
       "...                                                  ...   ...     ...   \n",
       "43405  Added you mate well I’ve just got the bow and ...     1       0   \n",
       "43406  Always thought that was funny but is it a refe...     0       0   \n",
       "43407  What are you talking about? Anything bad that ...     0       1   \n",
       "43408            More like a baptism, with sexy results!     1       0   \n",
       "43409                                    Enjoy the ride!     1       0   \n",
       "\n",
       "       _surprise  _sadness  _disgust  _fear  _neutral  \n",
       "0              0         0         0      0         1  \n",
       "1              0         0         0      0         1  \n",
       "2              0         0         0      0         0  \n",
       "3              0         0         0      1         0  \n",
       "4              0         0         0      0         0  \n",
       "...          ...       ...       ...    ...       ...  \n",
       "43405          0         0         0      0         0  \n",
       "43406          1         0         0      0         0  \n",
       "43407          0         0         0      0         0  \n",
       "43408          0         0         0      0         0  \n",
       "43409          0         0         0      0         0  \n",
       "\n",
       "[43410 rows x 8 columns]"
      ]
     },
     "execution_count": 6,
     "metadata": {},
     "output_type": "execute_result"
    }
   ],
   "source": [
    "train_df"
   ]
  },
  {
   "cell_type": "code",
   "execution_count": 47,
   "id": "eee4794c-7ece-4ac4-a1b4-840329ac10e6",
   "metadata": {},
   "outputs": [
    {
     "name": "stderr",
     "output_type": "stream",
     "text": [
      "C:\\Users\\gdema\\AppData\\Local\\Temp\\ipykernel_11040\\3554187402.py:51: MarkupResemblesLocatorWarning: The input looks more like a filename than markup. You may want to open this file and pass the filehandle into Beautiful Soup.\n",
      "  text = BeautifulSoup(text, \"html.parser\").get_text()\n"
     ]
    },
    {
     "data": {
      "text/plain": [
       "\"\\ntrain_df = train_df.drop(columns=['_neutral'])\\nval_df = val_df.drop(columns=['_neutral'])\\ntest_df = test_df.drop(columns=['_neutral'])\\n\\n\\n# Removing samples with only 0 in their labels\\ntrain_df = train_df.loc[ train_df.apply(lambda x: sum(x[1:]), axis=1)>0 ]\\nval_df = val_df.loc[ val_df.apply(lambda x: sum(x[1:]), axis=1)>0 ]\\ntest_df = test_df.loc[ test_df.apply(lambda x: sum(x[1:]), axis=1)>0 ]\\n\""
      ]
     },
     "execution_count": 47,
     "metadata": {},
     "output_type": "execute_result"
    }
   ],
   "source": [
    "contraction_mapping = {\"ain't\": \"is not\", \"aren't\": \"are not\",\"can't\": \"cannot\", \"'cause\": \"because\", \"could've\": \"could have\", \"couldn't\": \"could not\", \n",
    "                       \"didn't\": \"did not\",  \"doesn't\": \"does not\", \"don't\": \"do not\", \"hadn't\": \"had not\", \"hasn't\": \"has not\", \"haven't\": \"have not\", \n",
    "                       \"he'd\": \"he would\",\"he'll\": \"he will\", \"he's\": \"he is\", \"how'd\": \"how did\", \"how'd'y\": \"how do you\", \"how'll\": \"how will\", \n",
    "                       \"how's\": \"how is\",  \"I'd\": \"I would\", \"I'd've\": \"I would have\", \"I'll\": \"I will\", \"I'll've\": \"I will have\",\"I'm\": \"I am\",\n",
    "                       \"I've\": \"I have\", \"i'd\": \"i would\", \"i'd've\": \"i would have\", \"i'll\": \"i will\",  \"i'll've\": \"i will have\",\"i'm\": \"i am\", \n",
    "                       \"i've\": \"i have\", \"isn't\": \"is not\", \"it'd\": \"it would\", \"it'd've\": \"it would have\", \"it'll\": \"it will\", \"it'll've\": \"it will have\",\n",
    "                       \"it's\": \"it is\", \"let's\": \"let us\", \"ma'am\": \"madam\", \"mayn't\": \"may not\", \"might've\": \"might have\",\"mightn't\": \"might not\",\n",
    "                       \"mightn't've\": \"might not have\", \"must've\": \"must have\", \"mustn't\": \"must not\", \"mustn't've\": \"must not have\", \"needn't\": \"need not\", \n",
    "                       \"needn't've\": \"need not have\",\"o'clock\": \"of the clock\", \"oughtn't\": \"ought not\", \"oughtn't've\": \"ought not have\", \"shan't\": \"shall not\",\n",
    "                       \"sha'n't\": \"shall not\", \"shan't've\": \"shall not have\", \"she'd\": \"she would\", \"she'd've\": \"she would have\", \"she'll\": \"she will\", \n",
    "                       \"she'll've\": \"she will have\", \"she's\": \"she is\", \"should've\": \"should have\", \"shouldn't\": \"should not\", \"shouldn't've\": \"should not have\",\n",
    "                       \"so've\": \"so have\",\"so's\": \"so as\", \"this's\": \"this is\",\"that'd\": \"that would\", \"that'd've\": \"that would have\", \"that's\": \"that is\",\n",
    "                       \"there'd\": \"there would\", \"there'd've\": \"there would have\", \"there's\": \"there is\", \"here's\": \"here is\",\"they'd\": \"they would\",\n",
    "                       \"they'd've\": \"they would have\", \"they'll\": \"they will\", \"they'll've\": \"they will have\", \"they're\": \"they are\", \"they've\": \"they have\",\n",
    "                       \"to've\": \"to have\", \"wasn't\": \"was not\", \"we'd\": \"we would\", \"we'd've\": \"we would have\", \"we'll\": \"we will\", \"we'll've\": \"we will have\",\n",
    "                       \"we're\": \"we are\", \"we've\": \"we have\", \"weren't\": \"were not\", \"what'll\": \"what will\", \"what'll've\": \"what will have\", \n",
    "                       \"what're\": \"what are\",  \"what's\": \"what is\", \"what've\": \"what have\", \"when's\": \"when is\", \"when've\": \"when have\", \"where'd\": \"where did\",\n",
    "                       \"where's\": \"where is\", \"where've\": \"where have\", \"who'll\": \"who will\", \"who'll've\": \"who will have\", \"who's\": \"who is\", \n",
    "                       \"who've\": \"who have\", \"why's\": \"why is\", \"why've\": \"why have\", \"will've\": \"will have\", \"won't\": \"will not\", \"won't've\": \"will not have\", \n",
    "                       \"would've\": \"would have\", \"wouldn't\": \"would not\", \"wouldn't've\": \"would not have\", \"y'all\": \"you all\", \"y'all'd\": \"you all would\",\n",
    "                       \"y'all'd've\": \"you all would have\",\"y'all're\": \"you all are\",\"y'all've\": \"you all have\",\"you'd\": \"you would\", \"you'd've\": \"you would have\",\n",
    "                       \"you'll\": \"you will\", \"you'll've\": \"you will have\", \"you're\": \"you are\", \"you've\": \"you have\", 'u.s':'america', 'e.g':'for example'}\n",
    "\n",
    "punct = [',', '.', '\"', ':', ')', '(', '-', '!', '?', '|', ';', \"'\", '$', '&', '/', '[', ']', '>', '%', '=', '#', '*', '+', '\\\\', '•',  '~', '@', '£', \n",
    " '·', '_', '{', '}', '©', '^', '®', '`',  '<', '→', '°', '€', '™', '›',  '♥', '←', '×', '§', '″', '′', 'Â', '█', '½', 'à', '…', \n",
    " '“', '★', '”', '–', '●', 'â', '►', '−', '¢', '²', '¬', '░', '¶', '↑', '±', '¿', '▾', '═', '¦', '║', '―', '¥', '▓', '—', '‹', '─', \n",
    " '▒', '：', '¼', '⊕', '▼', '▪', '†', '■', '’', '▀', '¨', '▄', '♫', '☆', 'é', '¯', '♦', '¤', '▲', 'è', '¸', '¾', 'Ã', '⋅', '‘', '∞', \n",
    " '∙', '）', '↓', '、', '│', '（', '»', '，', '♪', '╩', '╚', '³', '・', '╦', '╣', '╔', '╗', '▬', '❤', 'ï', 'Ø', '¹', '≤', '‡', '√', ]\n",
    "\n",
    "punct_mapping = {\"‘\": \"'\", \"₹\": \"e\", \"´\": \"'\", \"°\": \"\", \"€\": \"e\", \"™\": \"tm\", \"√\": \" sqrt \", \"×\": \"x\", \"²\": \"2\", \"—\": \"-\", \"–\": \"-\", \"’\": \"'\", \"_\": \"-\",\n",
    "                 \"`\": \"'\", '“': '\"', '”': '\"', '“': '\"', \"£\": \"e\", '∞': 'infinity', 'θ': 'theta', '÷': '/', 'α': 'alpha', '•': '.', 'à': 'a', '−': '-', \n",
    "                 'β': 'beta', '∅': '', '³': '3', 'π': 'pi', '!':' '}\n",
    "\n",
    "mispell_dict = {'colour': 'color', 'centre': 'center', 'favourite': 'favorite', 'travelling': 'traveling', 'counselling': 'counseling', 'theatre': 'theater',\n",
    "                'cancelled': 'canceled', 'labour': 'labor', 'organisation': 'organization', 'wwii': 'world war 2', 'citicise': 'criticize', 'youtu ': 'youtube ',\n",
    "                'Qoura': 'Quora', 'sallary': 'salary', 'Whta': 'What', 'narcisist': 'narcissist', 'howdo': 'how do', 'whatare': 'what are', 'howcan': 'how can',\n",
    "                'howmuch': 'how much', 'howmany': 'how many', 'whydo': 'why do', 'doI': 'do I', 'theBest': 'the best', 'howdoes': 'how does', \n",
    "                'mastrubation': 'masturbation', 'mastrubate': 'masturbate', \"mastrubating\": 'masturbating', 'pennis': 'penis', 'Etherium': 'Ethereum', \n",
    "                'narcissit': 'narcissist', 'bigdata': 'big data', '2k17': '2017', '2k18': '2018', 'qouta': 'quota', 'exboyfriend': 'ex boyfriend', \n",
    "                'airhostess': 'air hostess', \"whst\": 'what', 'watsapp': 'whatsapp', 'demonitisation': 'demonetization', 'demonitization': 'demonetization',\n",
    "                'demonetisation': 'demonetization'}\n",
    "\n",
    "def clean_text(text):\n",
    "    '''Clean emoji, Make text lowercase, remove text in square brackets,remove links,remove punctuation\n",
    "    and remove words containing numbers.'''\n",
    "    text = emoji.demojize(text)\n",
    "    text = re.sub(r'\\:(.*?)\\:','',text)\n",
    "    text = str(text).lower()    #Making Text Lowercase\n",
    "    text = re.sub('\\[.*?\\]', '', text)\n",
    "    #The next 2 lines remove html text\n",
    "    text = BeautifulSoup(text, \"html.parser\").get_text()\n",
    "    text = re.sub('https?://\\S+|www\\.\\S+', '', text)\n",
    "    text = re.sub('<.*?>+', '', text)\n",
    "    text = re.sub('\\n', '', text)\n",
    "    text = re.sub('\\w*\\d\\w*', '', text)\n",
    "    # replacing everything with space except (a-z, A-Z, \".\", \"?\", \"!\", \",\", \"'\")\n",
    "    text = re.sub(r\"[^a-zA-Z?.!,¿']+\", \" \", text)\n",
    "    return text\n",
    "\n",
    "def clean_contractions(text, mapping):\n",
    "    '''Clean contraction using contraction mapping'''    \n",
    "    specials = [\"’\", \"‘\", \"´\", \"`\"]\n",
    "    for s in specials:\n",
    "        text = text.replace(s, \"'\")\n",
    "    for word in mapping.keys():\n",
    "        if \"\"+word+\"\" in text:\n",
    "            text = text.replace(\"\"+word+\"\", \"\"+mapping[word]+\"\")\n",
    "    #Remove Punctuations\n",
    "    text = re.sub('[%s]' % re.escape(string.punctuation), '', text)\n",
    "    # creating a space between a word and the punctuation following it\n",
    "    # eg: \"he is a boy.\" => \"he is a boy .\"\n",
    "    text = re.sub(r\"([?.!,¿])\", r\" \\1 \", text)\n",
    "    text = re.sub(r'[\" \"]+', \" \", text)\n",
    "    return text\n",
    "\n",
    "def clean_special_chars(text, punct, mapping):\n",
    "    '''Cleans special characters present(if any)'''   \n",
    "    for p in mapping:\n",
    "        text = text.replace(p, mapping[p])\n",
    "    \n",
    "    for p in punct:\n",
    "        text = text.replace(p, f' {p} ')\n",
    "    \n",
    "    specials = {'\\u200b': ' ', '…': ' ... ', '\\ufeff': '', 'करना': '', 'है': ''}  \n",
    "    for s in specials:\n",
    "        text = text.replace(s, specials[s])\n",
    "    \n",
    "    return text\n",
    "\n",
    "def correct_spelling(x, dic):\n",
    "    '''Corrects common spelling errors'''   \n",
    "    for word in dic.keys():\n",
    "        x = x.replace(word, dic[word])\n",
    "    return x\n",
    "\n",
    "def remove_space(text):\n",
    "    '''Removes awkward spaces'''   \n",
    "    #Removes awkward spaces \n",
    "    text = text.strip()\n",
    "    text = text.split()\n",
    "    return \" \".join(text)\n",
    "\n",
    "def text_preprocessing_pipeline(text):\n",
    "    '''Cleaning and parsing the text.'''\n",
    "    text = clean_text(text)\n",
    "    text = clean_contractions(text, contraction_mapping)\n",
    "    text = clean_special_chars(text, punct, punct_mapping)\n",
    "    text = correct_spelling(text, mispell_dict)\n",
    "    text = remove_space(text)\n",
    "    return text\n",
    "\n",
    "train_df['text'] = train_df['text'].apply(text_preprocessing_pipeline)\n",
    "val_df['text'] = val_df['text'].apply(text_preprocessing_pipeline)\n",
    "\n",
    "'''\n",
    "train_df = train_df.drop(columns=['_neutral'])\n",
    "val_df = val_df.drop(columns=['_neutral'])\n",
    "test_df = test_df.drop(columns=['_neutral'])\n",
    "\n",
    "\n",
    "# Removing samples with only 0 in their labels\n",
    "train_df = train_df.loc[ train_df.apply(lambda x: sum(x[1:]), axis=1)>0 ]\n",
    "val_df = val_df.loc[ val_df.apply(lambda x: sum(x[1:]), axis=1)>0 ]\n",
    "test_df = test_df.loc[ test_df.apply(lambda x: sum(x[1:]), axis=1)>0 ]\n",
    "'''   \n",
    "\n"
   ]
  },
  {
   "cell_type": "code",
   "execution_count": 48,
   "id": "ca925c03-c3f8-4aa2-b36c-a60496eec44b",
   "metadata": {},
   "outputs": [
    {
     "data": {
      "text/plain": [
       "device(type='cuda', index=0)"
      ]
     },
     "execution_count": 48,
     "metadata": {},
     "output_type": "execute_result"
    }
   ],
   "source": [
    "device = torch.device(\"cuda:0\" if torch.cuda.is_available() else \"cpu\")\n",
    "#device=torch.device(\"cpu\")\n",
    "device"
   ]
  },
  {
   "cell_type": "code",
   "execution_count": 49,
   "id": "a24def53-3173-4bb2-924a-de0e3e031e30",
   "metadata": {},
   "outputs": [],
   "source": [
    "#We utilize the uncased version of Bert where both HELLO and Hello will be tokenized as hello\n",
    "tokenizer = BertTokenizer.from_pretrained('bert-base-uncased', do_lower_case=True)"
   ]
  },
  {
   "cell_type": "code",
   "execution_count": 50,
   "id": "44cdd100",
   "metadata": {},
   "outputs": [
    {
     "data": {
      "text/plain": [
       "text         my favorite food is anything i did not have to...\n",
       "_joy                                                     17410\n",
       "_anger                                                    5579\n",
       "_surprise                                                 5367\n",
       "_sadness                                                  3263\n",
       "_disgust                                                   793\n",
       "_fear                                                      726\n",
       "_neutral                                                 14219\n",
       "dtype: object"
      ]
     },
     "execution_count": 50,
     "metadata": {},
     "output_type": "execute_result"
    }
   ],
   "source": [
    "train_df.sum(axis=0)"
   ]
  },
  {
   "cell_type": "code",
   "execution_count": 51,
   "id": "544215d4-a474-4091-b14a-cda017011879",
   "metadata": {},
   "outputs": [],
   "source": [
    "df=train_df\n",
    "tr_text=np.asarray(df[\"text\"])\n",
    "#prima c'era un as_array\n",
    "tr_labels =df.drop(columns=[\"text\"])\n",
    "tr_labels=torch.tensor(tr_labels.values, dtype=torch.float32)"
   ]
  },
  {
   "cell_type": "code",
   "execution_count": 52,
   "id": "5dbce9ca-1434-46b4-88f9-51933dd45a8d",
   "metadata": {},
   "outputs": [
    {
     "name": "stdout",
     "output_type": "stream",
     "text": [
      " Original:  my favorite food is anything i did not have to cook myself\n",
      "Tokenized:  ['my', 'favorite', 'food', 'is', 'anything', 'i', 'did', 'not', 'have', 'to', 'cook', 'myself']\n",
      "Token IDs:  [2026, 5440, 2833, 2003, 2505, 1045, 2106, 2025, 2031, 2000, 5660, 2870]\n"
     ]
    }
   ],
   "source": [
    "print(' Original: ', tr_text[0])\n",
    "\n",
    "# Print the sentence split into tokens.\n",
    "print('Tokenized: ', tokenizer.tokenize(tr_text[0]))\n",
    "\n",
    "# Print the sentence mapped to token ids.\n",
    "print('Token IDs: ', tokenizer.convert_tokens_to_ids(tokenizer.tokenize(tr_text[0])))"
   ]
  },
  {
   "cell_type": "code",
   "execution_count": 16,
   "id": "d22ce3f0-a8ec-4699-b7de-fd8a9b716259",
   "metadata": {},
   "outputs": [
    {
     "name": "stdout",
     "output_type": "stream",
     "text": [
      "77\n"
     ]
    }
   ],
   "source": [
    "max_len = 77\n",
    "temp=[]\n",
    "tempL =[]\n",
    "max=0\n",
    "# For every sentence...\n",
    "#rimuoviamo tutte le entry di lunghezza maggiore di 47 => outliers\n",
    "for i in range(len(tr_text)):\n",
    "\n",
    "    # Tokenize the text and add `[CLS]` and `[SEP]` tokens.\n",
    "    input_ids = tokenizer.encode(tr_text[i], add_special_tokens=True)\n",
    "    if len(input_ids) > max:\n",
    "        max= len(input_ids)\n",
    "    if len(input_ids) <= max_len:\n",
    "        temp.append(tr_text[i])\n",
    "        tempL.append(tr_labels[i])\n",
    "        \n",
    "tr_text=np.asarray(temp)\n",
    "tr_labels=torch.stack(tempL)\n",
    "print(max)"
   ]
  },
  {
   "cell_type": "code",
   "execution_count": 53,
   "id": "14114ef0-f882-4de5-82e5-dabbaef5acc9",
   "metadata": {},
   "outputs": [
    {
     "name": "stderr",
     "output_type": "stream",
     "text": [
      "c:\\Users\\gdema\\Anaconda3\\envs\\Hlt\\Lib\\site-packages\\transformers\\tokenization_utils_base.py:2271: FutureWarning: The `pad_to_max_length` argument is deprecated and will be removed in a future version, use `padding=True` or `padding='longest'` to pad to the longest sequence in the batch, or use `padding='max_length'` to pad to a max length. In this case, you can give a specific length with `max_length` (e.g. `max_length=45`) or leave max_length to None to pad to the maximal input size of the model (e.g. 512 for Bert).\n",
      "  warnings.warn(\n"
     ]
    },
    {
     "name": "stdout",
     "output_type": "stream",
     "text": [
      "Original:  my favorite food is anything i did not have to cook myself\n",
      "Token IDs: tensor([ 101, 2026, 5440, 2833, 2003, 2505, 1045, 2106, 2025, 2031, 2000, 5660,\n",
      "        2870,  102,    0,    0,    0,    0,    0,    0,    0,    0,    0,    0,\n",
      "           0,    0,    0,    0,    0,    0,    0,    0,    0,    0,    0,    0,\n",
      "           0,    0,    0,    0,    0,    0,    0,    0,    0,    0,    0,    0,\n",
      "           0,    0,    0,    0,    0,    0,    0])\n",
      "mask: tensor([1, 1, 1, 1, 1, 1, 1, 1, 1, 1, 1, 1, 1, 1, 0, 0, 0, 0, 0, 0, 0, 0, 0, 0,\n",
      "        0, 0, 0, 0, 0, 0, 0, 0, 0, 0, 0, 0, 0, 0, 0, 0, 0, 0, 0, 0, 0, 0, 0, 0,\n",
      "        0, 0, 0, 0, 0, 0, 0])\n",
      "Token type IDs: tensor([0, 0, 0, 0, 0, 0, 0, 0, 0, 0, 0, 0, 0, 0, 0, 0, 0, 0, 0, 0, 0, 0, 0, 0,\n",
      "        0, 0, 0, 0, 0, 0, 0, 0, 0, 0, 0, 0, 0, 0, 0, 0, 0, 0, 0, 0, 0, 0, 0, 0,\n",
      "        0, 0, 0, 0, 0, 0, 0])\n"
     ]
    }
   ],
   "source": [
    "input_ids = []\n",
    "attention_masks = []\n",
    "token_type_ids = []\n",
    "\n",
    "# For every tweet...\n",
    "for text in tr_text:\n",
    "    # `encode_plus` will:\n",
    "    #   (1) Tokenize the sentence.\n",
    "    #   (2) Prepend the `[CLS]` token to the start.\n",
    "    #   (3) Append the `[SEP]` token to the end.\n",
    "    #   (4) Map tokens to their IDs.\n",
    "    #   (5) Pad or truncate the sentence to `max_length`\n",
    "    #   (6) Create attention masks for [PAD] tokens.\n",
    "    encoded_dict = tokenizer.encode_plus(\n",
    "                        text,      \n",
    "                        truncation=True,               # Sentence to encode.\n",
    "                        add_special_tokens = True, # Add '[CLS]' and '[SEP]'\n",
    "                        max_length = max_len,           # Pad & truncate all sentences.\n",
    "                        pad_to_max_length = True,\n",
    "                        return_attention_mask = True,   # Construct attn. masks.\n",
    "                        return_tensors = 'pt',     # Return pytorch tensors.\n",
    "                   )\n",
    "    \n",
    "    # Add the encoded sentence to the list.    \n",
    "    input_ids.append(encoded_dict['input_ids'])\n",
    "    \n",
    "    # And its attention mask (simply differentiates padding from non-padding).\n",
    "    attention_masks.append(encoded_dict['attention_mask'])\n",
    "    token_type_ids.append(encoded_dict['token_type_ids'])\n",
    "\n",
    "# Convert the lists into tensors.\n",
    "input_ids = torch.cat(input_ids, dim=0)\n",
    "attention_masks = torch.cat(attention_masks, dim=0)\n",
    "token_type_ids = torch.cat(token_type_ids, dim=0)\n",
    "\n",
    "# Print sentence 0, now as a list of IDs.\n",
    "print('Original: ', tr_text[0])\n",
    "print('Token IDs:', input_ids[0])\n",
    "print('mask:', attention_masks[0])\n",
    "print('Token type IDs:', token_type_ids[0])"
   ]
  },
  {
   "cell_type": "code",
   "execution_count": 54,
   "id": "fc6964ba-9bf5-461c-ae46-1bacc053f614",
   "metadata": {},
   "outputs": [
    {
     "name": "stdout",
     "output_type": "stream",
     "text": [
      "43,410 training samples\n"
     ]
    }
   ],
   "source": [
    "# Combine the training inputs into a TensorDataset.\n",
    "train_dataset = TensorDataset(input_ids, attention_masks,token_type_ids, tr_labels)\n",
    "\n",
    "print('{:>5,} training samples'.format(len(train_dataset)))\n"
   ]
  },
  {
   "cell_type": "code",
   "execution_count": 77,
   "id": "5416b068-844f-4730-baa8-d251885d7074",
   "metadata": {},
   "outputs": [],
   "source": [
    "# The DataLoader needs to know our batch size for training, so we specify it \n",
    "# here. For fine-tuning BERT on a specific task, the authors recommend a batch \n",
    "# size of 16 or 32.\n",
    "# 16 for the paper\n",
    "batch_size = 32\n",
    "\n",
    "# Create the DataLoaders for our training and validation sets.\n",
    "# We'll take training samples in random order. \n",
    "train_dataloader = DataLoader(\n",
    "            train_dataset,  # The training samples.\n",
    "            sampler = RandomSampler(train_dataset), # Select batches randomly\n",
    "            batch_size = batch_size # Trains with this batch size.\n",
    "        )\n"
   ]
  },
  {
   "cell_type": "code",
   "execution_count": 78,
   "id": "80ea338e-5152-4ef1-bc52-a787b53b6f53",
   "metadata": {},
   "outputs": [],
   "source": [
    "\n",
    "#overridiamo la classe di bert per modificare la funzione di loss e altri hyperparametri del modello\n",
    "from transformers import BertModel\n",
    "from transformers.modeling_outputs import SequenceClassifierOutput\n",
    "import torch.nn as nn\n",
    "\n",
    "class BertMultiLabelClassifier(nn.Module):\n",
    "    def __init__(self, pretrained_model_name='bert-base-uncased'):\n",
    "        super(BertMultiLabelClassifier, self).__init__()\n",
    "        self.bert = BertModel.from_pretrained(pretrained_model_name)\n",
    "        self.dropout = nn.Dropout(0.1)\n",
    "        self.classifier = nn.Linear(768,7)\n",
    "        self.sigmoid = nn.Sigmoid()\n",
    "\n",
    "    def forward(self, input_ids, attention_mask):\n",
    "        outputs = self.bert(input_ids=input_ids, attention_mask=attention_mask)\n",
    "        pooled_output = outputs.pooler_output\n",
    "        pooled_output = self.dropout(pooled_output)\n",
    "        logits = self.classifier(pooled_output)\n",
    "        probabilities = self.sigmoid(logits)\n",
    "        return probabilities"
   ]
  },
  {
   "cell_type": "code",
   "execution_count": 65,
   "id": "01e0727e",
   "metadata": {},
   "outputs": [
    {
     "data": {
      "text/plain": [
       "(tensor([ 101, 2026, 5440, 2833, 2003, 2505, 1045, 2106, 2025, 2031, 2000, 5660,\n",
       "         2870,  102,    0,    0,    0,    0,    0,    0,    0,    0,    0,    0,\n",
       "            0,    0,    0,    0,    0,    0,    0,    0,    0,    0,    0,    0,\n",
       "            0,    0,    0,    0,    0,    0,    0,    0,    0,    0,    0,    0,\n",
       "            0,    0,    0,    0,    0,    0,    0]),\n",
       " tensor([1, 1, 1, 1, 1, 1, 1, 1, 1, 1, 1, 1, 1, 1, 0, 0, 0, 0, 0, 0, 0, 0, 0, 0,\n",
       "         0, 0, 0, 0, 0, 0, 0, 0, 0, 0, 0, 0, 0, 0, 0, 0, 0, 0, 0, 0, 0, 0, 0, 0,\n",
       "         0, 0, 0, 0, 0, 0, 0]),\n",
       " tensor([0, 0, 0, 0, 0, 0, 0, 0, 0, 0, 0, 0, 0, 0, 0, 0, 0, 0, 0, 0, 0, 0, 0, 0,\n",
       "         0, 0, 0, 0, 0, 0, 0, 0, 0, 0, 0, 0, 0, 0, 0, 0, 0, 0, 0, 0, 0, 0, 0, 0,\n",
       "         0, 0, 0, 0, 0, 0, 0]),\n",
       " tensor([0., 0., 0., 0., 0., 0., 1.]))"
      ]
     },
     "execution_count": 65,
     "metadata": {},
     "output_type": "execute_result"
    }
   ],
   "source": [
    "train_dataset[0]"
   ]
  },
  {
   "cell_type": "code",
   "execution_count": 79,
   "id": "96c15697-f147-446a-8284-de2f68fbd7ff",
   "metadata": {},
   "outputs": [
    {
     "name": "stderr",
     "output_type": "stream",
     "text": [
      "Some weights of the model checkpoint at bert-base-uncased were not used when initializing BertModel: ['cls.predictions.transform.dense.bias', 'cls.seq_relationship.bias', 'cls.predictions.transform.LayerNorm.weight', 'cls.predictions.bias', 'cls.predictions.decoder.weight', 'cls.predictions.transform.dense.weight', 'cls.predictions.transform.LayerNorm.bias', 'cls.seq_relationship.weight']\n",
      "- This IS expected if you are initializing BertModel from the checkpoint of a model trained on another task or with another architecture (e.g. initializing a BertForSequenceClassification model from a BertForPreTraining model).\n",
      "- This IS NOT expected if you are initializing BertModel from the checkpoint of a model that you expect to be exactly identical (initializing a BertForSequenceClassification model from a BertForSequenceClassification model).\n"
     ]
    }
   ],
   "source": [
    "# Load BertForSequenceClassification, the pretrained BERT model with a single \n",
    "# linear classification layer on top. \n",
    "# TODO: provare dropout di 1\n",
    "#model = BertForSequenceClassification.from_pretrained(\"bert-base-uncased\",num_labels=27, problem_type=\"multi_label_classification\" )\n",
    "model = BertMultiLabelClassifier()\n",
    "# if device == \"cuda:0\":\n",
    "# # Tell pytorch to run this model on the GPU.\n",
    "#     model = model.cuda()\n",
    "\n",
    "model = model.to(device)\n"
   ]
  },
  {
   "cell_type": "code",
   "execution_count": 80,
   "id": "185439c1-5615-4ba1-b570-4ed5878e5206",
   "metadata": {},
   "outputs": [],
   "source": [
    "optimizer = torch.optim.AdamW(model.parameters(),weight_decay=1e-6,\n",
    "                  lr = 5e-5, # args.learning_rate - default is 5e-5, our notebook had 2e-5\n",
    "                )"
   ]
  },
  {
   "cell_type": "markdown",
   "id": "66b00f83-cb35-4038-a631-c6d9d5387bd0",
   "metadata": {
    "editable": true,
    "slideshow": {
     "slide_type": ""
    },
    "tags": []
   },
   "source": [
    "### Fine-tuning"
   ]
  },
  {
   "cell_type": "code",
   "execution_count": 81,
   "id": "0b20aaa4-799d-41b2-aad5-7feb713d1add",
   "metadata": {},
   "outputs": [],
   "source": [
    "# Number of training epochs. The BERT authors recommend between 2 and 4. \n",
    "# We chose to run for 4, but we'll see later that this may be over-fitting the\n",
    "# training data.\n",
    "epochs = 4\n"
   ]
  },
  {
   "cell_type": "code",
   "execution_count": 82,
   "id": "1fa5be18-574c-44eb-ad64-2586459324f9",
   "metadata": {},
   "outputs": [],
   "source": [
    "def format_time(elapsed):\n",
    "    '''\n",
    "    Takes a time in seconds and returns a string hh:mm:ss\n",
    "    '''\n",
    "    # Round to the nearest second.\n",
    "    elapsed_rounded = int(round((elapsed)))\n",
    "    # Format as hh:mm:ss\n",
    "    return str(datetime.timedelta(seconds=elapsed_rounded))"
   ]
  },
  {
   "cell_type": "code",
   "execution_count": 70,
   "id": "056d5f04-5d7c-405f-b6d1-658094f1d039",
   "metadata": {},
   "outputs": [
    {
     "data": {
      "text/plain": [
       "'\\nseed_val = 42\\nrandom.seed(seed_val)\\nnp.random.seed(seed_val)\\ntorch.manual_seed(seed_val)\\ntorch.cuda.manual_seed_all(seed_val)\\n'"
      ]
     },
     "execution_count": 70,
     "metadata": {},
     "output_type": "execute_result"
    }
   ],
   "source": [
    "\"\"\"\n",
    "seed_val = 42\n",
    "random.seed(seed_val)\n",
    "np.random.seed(seed_val)\n",
    "torch.manual_seed(seed_val)\n",
    "torch.cuda.manual_seed_all(seed_val)\n",
    "\"\"\""
   ]
  },
  {
   "cell_type": "code",
   "execution_count": 83,
   "id": "05614b9d-4853-427c-bd30-6a86fb2256a4",
   "metadata": {},
   "outputs": [],
   "source": [
    "torch.cuda.empty_cache()"
   ]
  },
  {
   "cell_type": "code",
   "execution_count": 84,
   "id": "e948dbb3-75cd-43c3-99b0-ea3b3edb9a38",
   "metadata": {
    "editable": true,
    "slideshow": {
     "slide_type": ""
    },
    "tags": []
   },
   "outputs": [
    {
     "name": "stdout",
     "output_type": "stream",
     "text": [
      "\n",
      "======== Epoch 1 / 4 ========\n",
      "Training...\n",
      "\n",
      "  Average training loss: 0.25\n",
      "  Training epoch took: 0:09:13\n",
      "\n",
      "======== Epoch 2 / 4 ========\n",
      "Training...\n",
      "\n",
      "  Average training loss: 0.19\n",
      "  Training epoch took: 0:09:18\n",
      "\n",
      "======== Epoch 3 / 4 ========\n",
      "Training...\n",
      "\n",
      "  Average training loss: 0.14\n",
      "  Training epoch took: 0:08:51\n",
      "\n",
      "======== Epoch 4 / 4 ========\n",
      "Training...\n",
      "\n",
      "  Average training loss: 0.09\n",
      "  Training epoch took: 0:09:16\n",
      "\n",
      "Training complete!\n",
      "Total training took 0:36:39 (h:mm:ss)\n"
     ]
    }
   ],
   "source": [
    "loss=0\n",
    "training_stats = []\n",
    "import gc\n",
    "\n",
    "# Measure the total training time for the whole run.\n",
    "total_t0 = time.time()\n",
    "\n",
    "# For each epoch...\n",
    "for epoch_i in range(0, epochs):\n",
    "    \n",
    "    # ========================================\n",
    "    #               Training\n",
    "    # ========================================\n",
    "    # Perform one full pass over the training set.\n",
    "    print(\"\")\n",
    "    print('======== Epoch {:} / {:} ========'.format(epoch_i + 1, epochs))\n",
    "    print('Training...')\n",
    "    # Measure how long the training epoch takes.\n",
    "    t0 = time.time()\n",
    "    total_train_loss = 0\n",
    "    model.train()\n",
    "    for step, batch in enumerate(train_dataloader):\n",
    "        # Unpack this training batch from our dataloader. \n",
    "        #\n",
    "        # As we unpack the batch, we'll also copy each tensor to the device using the \n",
    "        # `to` method.\n",
    "        #\n",
    "        # `batch` contains three pytorch tensors:\n",
    "        #   [0]: input ids \n",
    "        #   [1]: attention masks\n",
    "        #   [2]: labels \n",
    "        b_input_ids = batch[0].to(device)\n",
    "        b_input_mask = batch[1].to(device)\n",
    "        b_labels = batch[3].to(device)\n",
    "        optimizer.zero_grad()\n",
    "        output = model(b_input_ids, \n",
    "                             attention_mask=b_input_mask)\n",
    "        \n",
    "        loss=nn.BCELoss()\n",
    "        loss = loss(output,b_labels.float())\n",
    "        total_train_loss += loss.item()\n",
    "        # Perform a backward pass to calculate the gradients.\n",
    "        loss.backward()\n",
    "        # Clip the norm of the gradients to 1.0.\n",
    "        # This is to help prevent the \"exploding gradients\" problem.\n",
    "        # TODO:\n",
    "        torch.nn.utils.clip_grad_norm_(model.parameters(), 1.0)\n",
    "        # Update parameters and take a step using the computed gradient.\n",
    "        # The optimizer dictates the \"update rule\"--how the parameters are\n",
    "        # modified based on their gradients, the learning rate, etc.\n",
    "        optimizer.step()\n",
    "        del b_input_ids\n",
    "        del b_input_mask\n",
    "        del b_labels\n",
    "        gc.collect()\n",
    "\n",
    "    # Calculate the average loss over all of the batches.\n",
    "    avg_train_loss = total_train_loss / len(train_dataloader)            \n",
    "    \n",
    "    # Measure how long this epoch took.\n",
    "    training_time = format_time(time.time() - t0)\n",
    "    print(\"\")\n",
    "    print(\"  Average training loss: {0:.2f}\".format(avg_train_loss))\n",
    "    print(\"  Training epoch took: {:}\".format(training_time))\n",
    "    torch.save(model, 'bert-emotionsClassification'+str(epoch_i+1))\n",
    "\n",
    "print(\"\")\n",
    "print(\"Training complete!\")\n",
    "\n",
    "\n",
    "print(\"Total training took {:} (h:mm:ss)\".format(format_time(time.time()-total_t0)))"
   ]
  },
  {
   "cell_type": "code",
   "execution_count": 85,
   "id": "961e38bb",
   "metadata": {},
   "outputs": [
    {
     "data": {
      "text/plain": [
       "text         my favorite food is anything i did not have to...\n",
       "_joy                                                     17410\n",
       "_anger                                                    5579\n",
       "_surprise                                                 5367\n",
       "_sadness                                                  3263\n",
       "_disgust                                                   793\n",
       "_fear                                                      726\n",
       "_neutral                                                 14219\n",
       "dtype: object"
      ]
     },
     "execution_count": 85,
     "metadata": {},
     "output_type": "execute_result"
    }
   ],
   "source": [
    "train_df.sum(axis=0)"
   ]
  },
  {
   "cell_type": "markdown",
   "id": "d1b6d05f-2e2d-47e1-a9aa-e959ac08d07e",
   "metadata": {},
   "source": [
    "## Test"
   ]
  },
  {
   "cell_type": "code",
   "execution_count": 86,
   "id": "7dda99e8",
   "metadata": {},
   "outputs": [],
   "source": [
    "# Model evaluation function \n",
    "from sklearn.metrics import precision_recall_fscore_support\n",
    "def model_eval(y_true, y_pred_labels, emotions):\n",
    "    \n",
    "    # Defining variables\n",
    "    precision = []\n",
    "    recall = []\n",
    "    f1 = []\n",
    "    \n",
    "    # Per emotion evaluation      \n",
    "    idx2emotion = {i: e for i, e in enumerate(emotions)}\n",
    "    \n",
    "    for i in range(len(emotions)):\n",
    "   \n",
    "        # Computing precision, recall and f1-score\n",
    "        p, r, f1_score, _ = precision_recall_fscore_support(y_true[:, i], y_pred_labels[:, i], average=\"binary\")\n",
    "        \n",
    "        # Append results in lists\n",
    "        precision.append(round(p, 2))\n",
    "        recall.append(round(r, 2))\n",
    "        f1.append(round(f1_score, 2))\n",
    "    \n",
    "    # Macro evaluation\n",
    "    macro_p, macro_r, macro_f1_score, _ = precision_recall_fscore_support(y_true, y_pred_labels, average=\"macro\")\n",
    "    \n",
    "    # Append results in lists\n",
    "    precision.append(round(macro_p, 2))\n",
    "    recall.append(round(macro_r, 2))\n",
    "    f1.append(round(macro_f1_score, 2))\n",
    "    \n",
    "    # Converting results to a dataframe\n",
    "    df_results = pd.DataFrame({\"Precision\":precision, \"Recall\":recall, 'F1':f1})\n",
    "    df_results.index = emotions+['MACRO-AVERAGE']\n",
    "    \n",
    "    return df_results"
   ]
  },
  {
   "cell_type": "code",
   "execution_count": 88,
   "id": "7182838b-5232-4ffe-80fa-38e00b313829",
   "metadata": {},
   "outputs": [
    {
     "name": "stdout",
     "output_type": "stream",
     "text": [
      "Max sentence length:  55\n"
     ]
    },
    {
     "name": "stderr",
     "output_type": "stream",
     "text": [
      "c:\\Users\\gdema\\Anaconda3\\envs\\Hlt\\Lib\\site-packages\\transformers\\tokenization_utils_base.py:2271: FutureWarning: The `pad_to_max_length` argument is deprecated and will be removed in a future version, use `padding=True` or `padding='longest'` to pad to the longest sequence in the batch, or use `padding='max_length'` to pad to a max length. In this case, you can give a specific length with `max_length` (e.g. `max_length=45`) or leave max_length to None to pad to the maximal input size of the model (e.g. 512 for Bert).\n",
      "  warnings.warn(\n",
      "C:\\Users\\gdema\\AppData\\Local\\Temp\\ipykernel_11040\\285723566.py:46: UserWarning: To copy construct from a tensor, it is recommended to use sourceTensor.clone().detach() or sourceTensor.clone().detach().requires_grad_(True), rather than torch.tensor(sourceTensor).\n",
      "  val_labels = torch.tensor(val_labels,dtype=torch.long)\n",
      "C:\\Users\\gdema\\AppData\\Local\\Temp\\ipykernel_11040\\285723566.py:74: UserWarning: To copy construct from a tensor, it is recommended to use sourceTensor.clone().detach() or sourceTensor.clone().detach().requires_grad_(True), rather than torch.tensor(sourceTensor).\n",
      "  predictions = torch.cat((predictions,torch.tensor(output)),dim=0)\n"
     ]
    },
    {
     "name": "stdout",
     "output_type": "stream",
     "text": [
      "5,427 training samples\n",
      "f1-score = 0.17290707707272587\n"
     ]
    },
    {
     "data": {
      "text/html": [
       "<div>\n",
       "<style scoped>\n",
       "    .dataframe tbody tr th:only-of-type {\n",
       "        vertical-align: middle;\n",
       "    }\n",
       "\n",
       "    .dataframe tbody tr th {\n",
       "        vertical-align: top;\n",
       "    }\n",
       "\n",
       "    .dataframe thead th {\n",
       "        text-align: right;\n",
       "    }\n",
       "</style>\n",
       "<table border=\"1\" class=\"dataframe\">\n",
       "  <thead>\n",
       "    <tr style=\"text-align: right;\">\n",
       "      <th></th>\n",
       "      <th>Precision</th>\n",
       "      <th>Recall</th>\n",
       "      <th>F1</th>\n",
       "    </tr>\n",
       "  </thead>\n",
       "  <tbody>\n",
       "    <tr>\n",
       "      <th>_disgust</th>\n",
       "      <td>0.39</td>\n",
       "      <td>0.43</td>\n",
       "      <td>0.41</td>\n",
       "    </tr>\n",
       "    <tr>\n",
       "      <th>_joy</th>\n",
       "      <td>0.14</td>\n",
       "      <td>0.24</td>\n",
       "      <td>0.18</td>\n",
       "    </tr>\n",
       "    <tr>\n",
       "      <th>_surprise</th>\n",
       "      <td>0.12</td>\n",
       "      <td>0.14</td>\n",
       "      <td>0.13</td>\n",
       "    </tr>\n",
       "    <tr>\n",
       "      <th>_anger</th>\n",
       "      <td>0.07</td>\n",
       "      <td>0.08</td>\n",
       "      <td>0.08</td>\n",
       "    </tr>\n",
       "    <tr>\n",
       "      <th>_sadness</th>\n",
       "      <td>0.02</td>\n",
       "      <td>0.03</td>\n",
       "      <td>0.03</td>\n",
       "    </tr>\n",
       "    <tr>\n",
       "      <th>_fear</th>\n",
       "      <td>0.02</td>\n",
       "      <td>0.02</td>\n",
       "      <td>0.02</td>\n",
       "    </tr>\n",
       "    <tr>\n",
       "      <th>_neutral</th>\n",
       "      <td>0.33</td>\n",
       "      <td>0.43</td>\n",
       "      <td>0.38</td>\n",
       "    </tr>\n",
       "    <tr>\n",
       "      <th>MACRO-AVERAGE</th>\n",
       "      <td>0.16</td>\n",
       "      <td>0.20</td>\n",
       "      <td>0.17</td>\n",
       "    </tr>\n",
       "  </tbody>\n",
       "</table>\n",
       "</div>"
      ],
      "text/plain": [
       "               Precision  Recall    F1\n",
       "_disgust            0.39    0.43  0.41\n",
       "_joy                0.14    0.24  0.18\n",
       "_surprise           0.12    0.14  0.13\n",
       "_anger              0.07    0.08  0.08\n",
       "_sadness            0.02    0.03  0.03\n",
       "_fear               0.02    0.02  0.02\n",
       "_neutral            0.33    0.43  0.38\n",
       "MACRO-AVERAGE       0.16    0.20  0.17"
      ]
     },
     "execution_count": 88,
     "metadata": {},
     "output_type": "execute_result"
    }
   ],
   "source": [
    "#loading the best model\n",
    "from sklearn.metrics import f1_score\n",
    "import torchvision.models as models\n",
    "\n",
    "model = torch.load('bert-emotionsClassification4')\n",
    "val_text = np.asarray(test_df[\"text\"])\n",
    "val_labels =test_df.drop(columns=[\"text\"])\n",
    "val_labels=torch.tensor(val_labels.values, dtype=torch.float32)\n",
    "\n",
    "max_len = 0\n",
    "\n",
    "# For every sentence...\n",
    "for text in val_text:\n",
    "\n",
    "    # Tokenize the text and add `[CLS]` and `[SEP]` tokens.\n",
    "    val_ids = tokenizer.encode(text, add_special_tokens=True)\n",
    "\n",
    "    if len(val_ids) > max_len:\n",
    "        max_len=len(val_ids)\n",
    "\n",
    "print('Max sentence length: ', max_len)\n",
    "\n",
    "val_ids = []\n",
    "attention_masks = []\n",
    "\n",
    "# For every tweet...\n",
    "for text in val_text:\n",
    "    encoded_dict = tokenizer.encode_plus(\n",
    "                        text,                      # Sentence to encode.\n",
    "                        add_special_tokens = True, # Add '[CLS]' and '[SEP]'\n",
    "                        max_length = 55,           # Pad & truncate all sentences.\n",
    "                        pad_to_max_length = True,\n",
    "                        return_attention_mask = True,   # Construct attn. masks.\n",
    "                        return_tensors = 'pt',     # Return pytorch tensors.\n",
    "                   )\n",
    "    \n",
    "    # Add the encoded sentence to the list.    \n",
    "    val_ids.append(encoded_dict['input_ids'])\n",
    "    \n",
    "    # And its attention mask (simply differentiates padding from non-padding).\n",
    "    attention_masks.append(encoded_dict['attention_mask'])\n",
    "\n",
    "# Convert the lists into tensors.\n",
    "val_ids = torch.cat(val_ids, dim=0)\n",
    "attention_masks = torch.cat(attention_masks, dim=0)\n",
    "val_labels = torch.tensor(val_labels,dtype=torch.long)\n",
    "\n",
    "# Combine the training inputs into a TensorDataset.\n",
    "val_dataset = TensorDataset(val_ids, attention_masks)\n",
    "\n",
    "print('{:>5,} training samples'.format(len(val_dataset)))\n",
    "\n",
    "batch_size = 16\n",
    "\n",
    "# Create the DataLoaders for our training and validation sets.\n",
    "# We'll take training samples in random order. \n",
    "val_dataloader = DataLoader(\n",
    "            val_dataset,  # The training samples.\n",
    "            sampler = RandomSampler(val_dataset), # Select batches randomly\n",
    "            batch_size = batch_size # Trains with this batch size.\n",
    "        )\n",
    "\n",
    "model.eval()\n",
    "predictions = torch.tensor([])\n",
    "predictions=predictions.to(device)\n",
    "with torch.no_grad():  \n",
    "    for batch in val_dataloader:\n",
    "        \n",
    "        b_input_ids = batch[0].to(device)\n",
    "        b_input_mask = batch[1].to(device)\n",
    "        output= model(b_input_ids, \n",
    "                            attention_mask=b_input_mask)\n",
    "        logits = output        \n",
    "        predictions = torch.cat((predictions,torch.tensor(output)),dim=0)\n",
    "        logits = logits.detach().cpu().numpy()\n",
    "\n",
    "predictions_=predictions.cpu()\n",
    "\n",
    "newPred=np.where( predictions_>= 0.2, 1,0)\n",
    "print(\"f1-score = \"+str(f1_score(val_labels,newPred,average=\"macro\")))\n",
    "\n",
    "model_eval(val_labels,newPred,[ '_disgust', '_joy','_surprise', '_anger', '_sadness', '_fear',\"_neutral\"])"
   ]
  },
  {
   "cell_type": "code",
   "execution_count": 93,
   "id": "8b6616b2",
   "metadata": {},
   "outputs": [
    {
     "name": "stdout",
     "output_type": "stream",
     "text": [
      "f1-score = 0.1829584089409832\n"
     ]
    },
    {
     "data": {
      "text/html": [
       "<div>\n",
       "<style scoped>\n",
       "    .dataframe tbody tr th:only-of-type {\n",
       "        vertical-align: middle;\n",
       "    }\n",
       "\n",
       "    .dataframe tbody tr th {\n",
       "        vertical-align: top;\n",
       "    }\n",
       "\n",
       "    .dataframe thead th {\n",
       "        text-align: right;\n",
       "    }\n",
       "</style>\n",
       "<table border=\"1\" class=\"dataframe\">\n",
       "  <thead>\n",
       "    <tr style=\"text-align: right;\">\n",
       "      <th></th>\n",
       "      <th>Precision</th>\n",
       "      <th>Recall</th>\n",
       "      <th>F1</th>\n",
       "    </tr>\n",
       "  </thead>\n",
       "  <tbody>\n",
       "    <tr>\n",
       "      <th>_disgust</th>\n",
       "      <td>0.39</td>\n",
       "      <td>0.46</td>\n",
       "      <td>0.42</td>\n",
       "    </tr>\n",
       "    <tr>\n",
       "      <th>_joy</th>\n",
       "      <td>0.14</td>\n",
       "      <td>0.29</td>\n",
       "      <td>0.19</td>\n",
       "    </tr>\n",
       "    <tr>\n",
       "      <th>_surprise</th>\n",
       "      <td>0.11</td>\n",
       "      <td>0.18</td>\n",
       "      <td>0.14</td>\n",
       "    </tr>\n",
       "    <tr>\n",
       "      <th>_anger</th>\n",
       "      <td>0.07</td>\n",
       "      <td>0.09</td>\n",
       "      <td>0.08</td>\n",
       "    </tr>\n",
       "    <tr>\n",
       "      <th>_sadness</th>\n",
       "      <td>0.03</td>\n",
       "      <td>0.06</td>\n",
       "      <td>0.04</td>\n",
       "    </tr>\n",
       "    <tr>\n",
       "      <th>_fear</th>\n",
       "      <td>0.01</td>\n",
       "      <td>0.02</td>\n",
       "      <td>0.02</td>\n",
       "    </tr>\n",
       "    <tr>\n",
       "      <th>_neutral</th>\n",
       "      <td>0.33</td>\n",
       "      <td>0.50</td>\n",
       "      <td>0.40</td>\n",
       "    </tr>\n",
       "    <tr>\n",
       "      <th>MACRO-AVERAGE</th>\n",
       "      <td>0.16</td>\n",
       "      <td>0.23</td>\n",
       "      <td>0.18</td>\n",
       "    </tr>\n",
       "  </tbody>\n",
       "</table>\n",
       "</div>"
      ],
      "text/plain": [
       "               Precision  Recall    F1\n",
       "_disgust            0.39    0.46  0.42\n",
       "_joy                0.14    0.29  0.19\n",
       "_surprise           0.11    0.18  0.14\n",
       "_anger              0.07    0.09  0.08\n",
       "_sadness            0.03    0.06  0.04\n",
       "_fear               0.01    0.02  0.02\n",
       "_neutral            0.33    0.50  0.40\n",
       "MACRO-AVERAGE       0.16    0.23  0.18"
      ]
     },
     "execution_count": 93,
     "metadata": {},
     "output_type": "execute_result"
    }
   ],
   "source": [
    "newPred=np.where( predictions_>= 0.1, 1,0)\n",
    "print(\"f1-score = \"+str(f1_score(val_labels,newPred,average=\"macro\")))\n",
    "\n",
    "model_eval(val_labels,newPred,[ '_disgust', '_joy','_surprise', '_anger', '_sadness', '_fear',\"_neutral\"])"
   ]
  },
  {
   "cell_type": "markdown",
   "id": "60fdd924-28d8-4812-9c4c-8e4ac6599a83",
   "metadata": {},
   "source": [
    "Dato che stiamo facendo test non ha senso rimuovere entry con lunghezza maggiore di 47, si fa padding alla lunghezza dell'entry di lunghezza massima del test set (rispettando i limiti di BERT ( 512))"
   ]
  },
  {
   "cell_type": "code",
   "execution_count": 174,
   "id": "009cbe4b-c1b9-4a34-a559-fa5310206625",
   "metadata": {},
   "outputs": [],
   "source": [
    "#verifichiamo con cross validation per f1-score il miglior threshold per determinare quando viene classificata o meno un emozione"
   ]
  },
  {
   "cell_type": "code",
   "execution_count": 175,
   "id": "2365207f-3f87-49d6-883e-08ada2b85612",
   "metadata": {},
   "outputs": [],
   "source": [
    "def applyThreshold(x,threshold):\n",
    "    if x>= threshold:\n",
    "        return 1\n",
    "    return 0\n",
    "from sklearn.metrics import f1_score\n",
    "results=[]\n",
    "newPred=np.where( predictions_>= 0.3, 1,0)\n",
    "results.append( f1_score(val_labels,newPred,average=\"macro\"))\n"
   ]
  },
  {
   "cell_type": "code",
   "execution_count": 176,
   "id": "27462ab6",
   "metadata": {},
   "outputs": [
    {
     "data": {
      "text/plain": [
       "array([0, 0, 0, 0, 0, 0, 0, 0, 0, 0, 0, 0, 0, 0, 0, 0, 0, 0, 0, 0, 0, 0,\n",
       "       0, 0, 0, 0, 0])"
      ]
     },
     "execution_count": 127,
     "metadata": {},
     "output_type": "execute_result"
    }
   ],
   "source": [
    "newPred[30]"
   ]
  },
  {
   "cell_type": "code",
   "execution_count": 177,
   "id": "c16ff550-1090-4d05-9091-72ec4e125339",
   "metadata": {},
   "outputs": [
    {
     "data": {
      "text/plain": [
       "Text(0.5, 0, 'threshold')"
      ]
     },
     "execution_count": 128,
     "metadata": {},
     "output_type": "execute_result"
    },
    {
     "data": {
      "image/png": "[encoded data removed]",
      "text/plain": [
       "<Figure size 640x480 with 1 Axes>"
      ]
     },
     "metadata": {},
     "output_type": "display_data"
    }
   ],
   "source": [
    "plt.plot(np.arange(0.001,1.1,0.01),results)\n",
    "plt.ylabel(\"macro-average (weighted) f1-score\",size=12)\n",
    "plt.xlabel(\"threshold\",size=12)"
   ]
  },
  {
   "cell_type": "code",
   "execution_count": 178,
   "id": "bec52d6d-eed4-4400-b4e9-88e6c1980c82",
   "metadata": {},
   "outputs": [
    {
     "data": {
      "text/plain": [
       "0.04225295622185826"
      ]
     },
     "execution_count": 129,
     "metadata": {},
     "output_type": "execute_result"
    }
   ],
   "source": [
    "newPred=np.where( predictions_>= 0.3, 1,0)\n",
    "f1_score(val_labels,newPred,average=\"macro\")"
   ]
  },
  {
   "cell_type": "code",
   "execution_count": 115,
   "id": "ae9e5b84-c163-45ef-8181-5e5a0c0aaa93",
   "metadata": {},
   "outputs": [
    {
     "data": {
      "text/plain": [
       "[]"
      ]
     },
     "execution_count": 78,
     "metadata": {},
     "output_type": "execute_result"
    },
    {
     "data": {
      "image/png": "[encoded data removed]",
      "text/plain": [
       "<Figure size 640x480 with 1 Axes>"
      ]
     },
     "metadata": {},
     "output_type": "display_data"
    }
   ],
   "source": [
    "import matplotlib.pyplot as plt\n",
    "from matplotlib.colors import LinearSegmentedColormap\n",
    "cmap = LinearSegmentedColormap.from_list('custom_cmap', ['#0000ff',\"#00FF00\" ,'#ff0000'])\n",
    "\n",
    "figure, axs = plt.subplots(1)\n",
    "axs.bar(range(len(a)),a,color=cmap(np.linspace(0, 1, len(a))))\n",
    "axs.set_ylabel(\"f1-score\",size=12)\n",
    "axs.set_title(\"macro-average (weighted) f1-score = 0.195\",size=14)\n",
    "axs.set_xlabel(\"emotions\",size=12)\n",
    "axs.set_xticks([])\n"
   ]
  },
  {
   "cell_type": "code",
   "execution_count": 132,
   "id": "3a1abb69",
   "metadata": {},
   "outputs": [
    {
     "data": {
      "text/plain": [
       "Index(['admiration', 'amusement', 'disapproval', 'disgust', 'embarrassment',\n",
       "       'excitement', 'fear', 'gratitude', 'grief', 'joy', 'love',\n",
       "       'nervousness', 'anger', 'optimism', 'pride', 'realization', 'relief',\n",
       "       'remorse', 'sadness', 'surprise', 'neutral', 'annoyance', 'approval',\n",
       "       'caring', 'confusion', 'curiosity', 'desire', 'disappointment'],\n",
       "      dtype='object')"
      ]
     },
     "execution_count": 96,
     "metadata": {},
     "output_type": "execute_result"
    }
   ],
   "source": [
    "label_names=label_names.remove"
   ]
  },
  {
   "cell_type": "code",
   "execution_count": null,
   "id": "b102f3ac",
   "metadata": {},
   "outputs": [],
   "source": []
  }
 ],
 "metadata": {
  "kernelspec": {
   "display_name": "base",
   "language": "python",
   "name": "python3"
  },
  "language_info": {
   "codemirror_mode": {
    "name": "ipython",
    "version": 3
   },
   "file_extension": ".py",
   "mimetype": "text/x-python",
   "name": "python",
   "nbconvert_exporter": "python",
   "pygments_lexer": "ipython3",
   "version": "3.11.8"
  }
 },
 "nbformat": 4,
 "nbformat_minor": 5
}
