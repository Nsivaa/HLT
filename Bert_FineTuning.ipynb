{
 "cells": [
  {
   "cell_type": "code",
   "execution_count": 1,
   "metadata": {},
   "outputs": [
    {
     "name": "stderr",
     "output_type": "stream",
     "text": [
      "c:\\Users\\gdema\\Anaconda3\\envs\\hlt_projevct\\lib\\site-packages\\huggingface_hub\\file_download.py:1132: FutureWarning: `resume_download` is deprecated and will be removed in version 1.0.0. Downloads always resume when possible. If you want to force a new download, use `force_download=True`.\n",
      "  warnings.warn(\n"
     ]
    }
   ],
   "source": [
    "# Importing the libraries needed\n",
    "import pandas as pd\n",
    "import numpy as np\n",
    "import torch\n",
    "import seaborn as sns\n",
    "import transformers\n",
    "import json\n",
    "from tqdm import tqdm\n",
    "from torch.utils.data import Dataset, DataLoader\n",
    "from transformers import BertTokenizer\n",
    "import logging\n",
    "logging.basicConfig(level=logging.ERROR)\n",
    "from torch import cuda\n",
    "from lib.dataset_utils import *\n",
    "from lib.plot_utils import *\n",
    "from lib.scores import *\n",
    "from lib.models import *\n",
    "from lib.cross_validation import *\n",
    "from sklearn.metrics import accuracy_score, jaccard_score, f1_score, multilabel_confusion_matrix\n",
    "import matplotlib.pyplot as plt\n",
    "import random"
   ]
  },
  {
   "cell_type": "code",
   "execution_count": 2,
   "metadata": {},
   "outputs": [],
   "source": [
    "# Defining some key variables that will be used later on in the training\n",
    "DATASET = DatasetEnum.GoEmotionsCleaned\n",
    "DATASET_NAME = 'GoEmotions'\n",
    "MODEL_NAME = 'Bert'\n",
    "CHECKPOINT_DIR = './checkpoints/' + DATASET_NAME + '/'\n",
    "CHECKPOINT_MODEL_FILE = CHECKPOINT_DIR + DATASET_NAME + '_' + MODEL_NAME + '.pth'\n",
    "MINIBATCH_SIZE = 16\n",
    "EPOCHS = 4\n",
    "LAMBDA = 0\n",
    "LEARNING_RATE = 5e-05\n",
    "# Creating the loss function and optimizer\n",
    "loss_function = torch.nn.BCEWithLogitsLoss()\n",
    "train_df, val_df, test_df = load_dataset(DATASET)\n",
    "LABEL_COLS = train_df.columns[1:].tolist()"
   ]
  },
  {
   "cell_type": "code",
   "execution_count": 4,
   "metadata": {},
   "outputs": [
    {
     "name": "stderr",
     "output_type": "stream",
     "text": [
      "Some weights of the model checkpoint at bert-base-cased were not used when initializing BertModel: ['cls.predictions.transform.LayerNorm.weight', 'cls.predictions.transform.dense.bias', 'cls.predictions.bias', 'cls.seq_relationship.weight', 'cls.seq_relationship.bias', 'cls.predictions.transform.LayerNorm.bias', 'cls.predictions.transform.dense.weight', 'cls.predictions.decoder.weight']\n",
      "- This IS expected if you are initializing BertModel from the checkpoint of a model trained on another task or with another architecture (e.g. initializing a BertForSequenceClassification model from a BertForPreTraining model).\n",
      "- This IS NOT expected if you are initializing BertModel from the checkpoint of a model that you expect to be exactly identical (initializing a BertForSequenceClassification model from a BertForSequenceClassification model).\n"
     ]
    }
   ],
   "source": [
    "# model parameters\n",
    "PARAMS = {'batch_size':MINIBATCH_SIZE, \n",
    "          'learning_rate':LEARNING_RATE, \n",
    "          'epochs':EPOCHS, \n",
    "          'loss_function':loss_function, \n",
    "          'regularization':LAMBDA,\n",
    "          'n_classes':len(LABEL_COLS)}\n",
    "# scores dictionary\n",
    "SCORES = {'accuracy': accuracy,\n",
    "          'jaccard_macro': jaccard,\n",
    "          'f1_macro': f1,\n",
    "          'jaccard_samples': jaccard_samples,\n",
    "          'f1_micro':f1_micro,\n",
    "          'membership':membership_score}\n",
    "# creating the \n",
    "# we set a seed ti get the sane weight initializzazion for the data prep validation\n",
    "seed_val = 14\n",
    "random.seed(seed_val)\n",
    "torch.manual_seed(seed_val)\n",
    "np.random.seed(seed_val)\n",
    "torch.cuda.manual_seed_all(seed_val)\n",
    "model = Bert(SCORES,\n",
    "             PARAMS)                 "
   ]
  },
  {
   "cell_type": "code",
   "execution_count": null,
   "metadata": {},
   "outputs": [],
   "source": [
    "model.fit(train_df, validation_df=val_df, progress_bar_epoch=True, progress_bar_step=True, checkpoint_path=CHECKPOINT_MODEL_FILE,checkpoint_score=\"f1_macro\",checkpoint_score_maximize=True,shuffle_training=False)"
   ]
  },
  {
   "cell_type": "code",
   "execution_count": null,
   "metadata": {},
   "outputs": [],
   "source": [
    "model = Bert(SCORES,\n",
    "                PARAMS,checkpoint=CHECKPOINT_MODEL_FILE) "
   ]
  },
  {
   "cell_type": "code",
   "execution_count": 7,
   "metadata": {},
   "outputs": [
    {
     "name": "stderr",
     "output_type": "stream",
     "text": [
      "Some weights of the model checkpoint at bert-base-cased were not used when initializing BertModel: ['cls.predictions.transform.LayerNorm.weight', 'cls.predictions.transform.dense.bias', 'cls.predictions.bias', 'cls.seq_relationship.weight', 'cls.seq_relationship.bias', 'cls.predictions.transform.LayerNorm.bias', 'cls.predictions.transform.dense.weight', 'cls.predictions.decoder.weight']\n",
      "- This IS expected if you are initializing BertModel from the checkpoint of a model trained on another task or with another architecture (e.g. initializing a BertForSequenceClassification model from a BertForPreTraining model).\n",
      "- This IS NOT expected if you are initializing BertModel from the checkpoint of a model that you expect to be exactly identical (initializing a BertForSequenceClassification model from a BertForSequenceClassification model).\n"
     ]
    }
   ],
   "source": [
    "model_analysis(model, val_df, LABEL_COLS)"
   ]
  },
  {
   "cell_type": "code",
   "execution_count": null,
   "metadata": {},
   "outputs": [],
   "source": [
    "out_cleaned = model.predict(val_df)\n",
    "target_cleaned = val_df.iloc[:, 1:].values\n",
    "thresh_cleaned, _ = tune_sigmoid_threshold(target_cleaned, out_cleaned, metric_params={'average':'macro', 'zero_division':0}, metric_fun=f1_score)"
   ]
  },
  {
   "cell_type": "markdown",
   "metadata": {},
   "source": [
    "## Goemotions:NoDataCleaning\n",
    "We try to validate our datacleaning process training a bert model with vanilla tr-set"
   ]
  },
  {
   "cell_type": "code",
   "execution_count": 4,
   "metadata": {},
   "outputs": [
    {
     "name": "stderr",
     "output_type": "stream",
     "text": [
      "Some weights of the model checkpoint at bert-base-cased were not used when initializing BertModel: ['cls.predictions.transform.LayerNorm.weight', 'cls.seq_relationship.bias', 'cls.predictions.bias', 'cls.predictions.transform.dense.bias', 'cls.predictions.transform.LayerNorm.bias', 'cls.predictions.transform.dense.weight', 'cls.seq_relationship.weight', 'cls.predictions.decoder.weight']\n",
      "- This IS expected if you are initializing BertModel from the checkpoint of a model trained on another task or with another architecture (e.g. initializing a BertForSequenceClassification model from a BertForPreTraining model).\n",
      "- This IS NOT expected if you are initializing BertModel from the checkpoint of a model that you expect to be exactly identical (initializing a BertForSequenceClassification model from a BertForSequenceClassification model).\n"
     ]
    },
    {
     "data": {
      "application/vnd.jupyter.widget-view+json": {
       "model_id": "f7bc7b8161b14de7b6ebb9ea787f7d2f",
       "version_major": 2,
       "version_minor": 0
      },
      "text/plain": [
       "  0%|          | 0/4 [00:00<?, ?it/s]"
      ]
     },
     "metadata": {},
     "output_type": "display_data"
    },
    {
     "name": "stdout",
     "output_type": "stream",
     "text": [
      "Epoch 1/4\n"
     ]
    },
    {
     "data": {
      "application/vnd.jupyter.widget-view+json": {
       "model_id": "86878c8e68a84ebe9f0851305f9182cb",
       "version_major": 2,
       "version_minor": 0
      },
      "text/plain": [
       "  0%|          | 0/2714 [00:00<?, ?it/s]"
      ]
     },
     "metadata": {},
     "output_type": "display_data"
    },
    {
     "data": {
      "application/vnd.jupyter.widget-view+json": {
       "model_id": "408bdbf3ac5442f3afe9deab38ccdd50",
       "version_major": 2,
       "version_minor": 0
      },
      "text/plain": [
       "  0%|          | 0/340 [00:00<?, ?it/s]"
      ]
     },
     "metadata": {},
     "output_type": "display_data"
    },
    {
     "name": "stdout",
     "output_type": "stream",
     "text": [
      "Epoch 2/4\n"
     ]
    },
    {
     "data": {
      "application/vnd.jupyter.widget-view+json": {
       "model_id": "a04d8224065442d5a81f64bac0e375f6",
       "version_major": 2,
       "version_minor": 0
      },
      "text/plain": [
       "  0%|          | 0/2714 [00:00<?, ?it/s]"
      ]
     },
     "metadata": {},
     "output_type": "display_data"
    },
    {
     "data": {
      "application/vnd.jupyter.widget-view+json": {
       "model_id": "40debe8cee0b45239cc75f3950d221ff",
       "version_major": 2,
       "version_minor": 0
      },
      "text/plain": [
       "  0%|          | 0/340 [00:00<?, ?it/s]"
      ]
     },
     "metadata": {},
     "output_type": "display_data"
    },
    {
     "name": "stdout",
     "output_type": "stream",
     "text": [
      "Epoch 3/4\n"
     ]
    },
    {
     "data": {
      "application/vnd.jupyter.widget-view+json": {
       "model_id": "4b1be9595349498091365d514d314a5d",
       "version_major": 2,
       "version_minor": 0
      },
      "text/plain": [
       "  0%|          | 0/2714 [00:00<?, ?it/s]"
      ]
     },
     "metadata": {},
     "output_type": "display_data"
    },
    {
     "data": {
      "application/vnd.jupyter.widget-view+json": {
       "model_id": "57afe43be17543038ccf7d524b431043",
       "version_major": 2,
       "version_minor": 0
      },
      "text/plain": [
       "  0%|          | 0/340 [00:00<?, ?it/s]"
      ]
     },
     "metadata": {},
     "output_type": "display_data"
    },
    {
     "name": "stdout",
     "output_type": "stream",
     "text": [
      "Epoch 4/4\n"
     ]
    },
    {
     "data": {
      "application/vnd.jupyter.widget-view+json": {
       "model_id": "0ddc483654af4637a7b98daf24758e96",
       "version_major": 2,
       "version_minor": 0
      },
      "text/plain": [
       "  0%|          | 0/2714 [00:00<?, ?it/s]"
      ]
     },
     "metadata": {},
     "output_type": "display_data"
    },
    {
     "data": {
      "application/vnd.jupyter.widget-view+json": {
       "model_id": "01206b63a4584be2ae7cfea75b806585",
       "version_major": 2,
       "version_minor": 0
      },
      "text/plain": [
       "  0%|          | 0/340 [00:00<?, ?it/s]"
      ]
     },
     "metadata": {},
     "output_type": "display_data"
    },
    {
     "name": "stdout",
     "output_type": "stream",
     "text": [
      "Threshold = 0.12\n"
     ]
    },
    {
     "data": {
      "image/png": "[encoded data removed]",
      "text/plain": [
       "<Figure size 1000x500 with 1 Axes>"
      ]
     },
     "metadata": {},
     "output_type": "display_data"
    }
   ],
   "source": [
    "train_df, val_df, test_df = load_dataset(DatasetEnum.GoEmotions, k_hot_encode=True)\n",
    "MODEL_NAME = 'BertUncleaned'\n",
    "CHECKPOINT_MODEL_FILE = CHECKPOINT_DIR + DATASET_NAME + '_' + MODEL_NAME + '.pth'\n",
    "PARAMS = {'batch_size':MINIBATCH_SIZE, \n",
    "          'learning_rate':LEARNING_RATE, \n",
    "          'epochs':EPOCHS, \n",
    "          'loss_function':loss_function, \n",
    "          'regularization':LAMBDA,\n",
    "          'n_classes':28\n",
    "}\n",
    "\n",
    "SCORES = {'accuracy': accuracy,\n",
    "          'jaccard_macro': jaccard,\n",
    "          'f1_macro': f1,\n",
    "          'jaccard_samples': jaccard_samples,\n",
    "          'f1_micro':f1_micro,\n",
    "          'membership':membership_score}\n",
    "\n",
    "# creating the model with the same seed as the cleaned version\n",
    "seed_val = 14\n",
    "random.seed(seed_val)\n",
    "torch.manual_seed(seed_val)\n",
    "np.random.seed(seed_val)\n",
    "torch.cuda.manual_seed_all(seed_val)\n",
    "model_uncleaned = Bert(SCORES,\n",
    "                PARAMS)    \n",
    "model_uncleaned.fit(train_df, validation_df=val_df, progress_bar_epoch=True, progress_bar_step=True, checkpoint_path=CHECKPOINT_MODEL_FILE,checkpoint_score=\"f1_macro\",checkpoint_score_maximize=True,shuffle_training=False)\n",
    "out_uncleaned = model_uncleaned.predict(val_df)\n",
    "target_uncleaned = val_df.iloc[:, 1:].values\n",
    "thresh_uncleaned, _ = tune_sigmoid_threshold(target_uncleaned, out_uncleaned, metric_params={'average':'macro', 'zero_division':0}, metric_fun=f1_score)\n",
    "print(f\"Threshold = {thresh_uncleaned}\")\n",
    "best_out_uncleaned = (out_uncleaned > thresh_uncleaned).astype(int)\n",
    "plot_score_barplot(target_uncleaned, best_out_uncleaned, LABEL_COLS)"
   ]
  },
  {
   "cell_type": "markdown",
   "metadata": {},
   "source": [
    "Now we can compare the graphical results of the obtained models"
   ]
  },
  {
   "cell_type": "code",
   "execution_count": 7,
   "metadata": {},
   "outputs": [
    {
     "name": "stderr",
     "output_type": "stream",
     "text": [
      "Some weights of the model checkpoint at bert-base-cased were not used when initializing BertModel: ['cls.predictions.transform.LayerNorm.weight', 'cls.seq_relationship.bias', 'cls.predictions.bias', 'cls.predictions.transform.dense.bias', 'cls.predictions.transform.LayerNorm.bias', 'cls.predictions.transform.dense.weight', 'cls.seq_relationship.weight', 'cls.predictions.decoder.weight']\n",
      "- This IS expected if you are initializing BertModel from the checkpoint of a model trained on another task or with another architecture (e.g. initializing a BertForSequenceClassification model from a BertForPreTraining model).\n",
      "- This IS NOT expected if you are initializing BertModel from the checkpoint of a model that you expect to be exactly identical (initializing a BertForSequenceClassification model from a BertForSequenceClassification model).\n",
      "Some weights of the model checkpoint at bert-base-cased were not used when initializing BertModel: ['cls.predictions.transform.LayerNorm.weight', 'cls.seq_relationship.bias', 'cls.predictions.bias', 'cls.predictions.transform.dense.bias', 'cls.predictions.transform.LayerNorm.bias', 'cls.predictions.transform.dense.weight', 'cls.seq_relationship.weight', 'cls.predictions.decoder.weight']\n",
      "- This IS expected if you are initializing BertModel from the checkpoint of a model trained on another task or with another architecture (e.g. initializing a BertForSequenceClassification model from a BertForPreTraining model).\n",
      "- This IS NOT expected if you are initializing BertModel from the checkpoint of a model that you expect to be exactly identical (initializing a BertForSequenceClassification model from a BertForSequenceClassification model).\n"
     ]
    }
   ],
   "source": [
    "_,val_df_uncleaned,_ = load_dataset(DatasetEnum.GoEmotions, k_hot_encode=True)\n",
    "_,val_df,_ = load_dataset(DatasetEnum.GoEmotionsCleaned)\n",
    "\n",
    "model_cleaned = Bert(SCORES,\n",
    "                PARAMS,checkpoint=CHECKPOINT_MODEL_FILE)\n",
    "\n",
    "PARAMS = {'batch_size':MINIBATCH_SIZE, \n",
    "          'learning_rate':LEARNING_RATE, \n",
    "          'epochs':EPOCHS, \n",
    "          'loss_function':loss_function, \n",
    "          'regularization':LAMBDA,\n",
    "          'n_classes':28\n",
    "}\n",
    "\n",
    "SCORES = {'accuracy': accuracy,\n",
    "          'jaccard_macro': jaccard,\n",
    "          'f1_macro': f1,\n",
    "          'jaccard_samples': jaccard_samples,\n",
    "          'f1_micro':f1_micro,\n",
    "          'membership':membership_score}\n",
    "\n",
    "out_uncleaned = model_uncleaned.predict(val_df_uncleaned)\n",
    "target_uncleaned = val_df_uncleaned.iloc[:, 1:].values\n",
    "best_out_uncleaned = (out_uncleaned > thresh_uncleaned).astype(int)\n",
    "   \n",
    "out_cleaned = model_cleaned.predict(val_df)\n",
    "target_cleaned = val_df.iloc[:, 1:].values\n",
    "best_out_cleaned = (out_cleaned > thresh_cleaned).astype(int)\n"
   ]
  },
  {
   "cell_type": "code",
   "execution_count": 9,
   "metadata": {},
   "outputs": [
    {
     "name": "stderr",
     "output_type": "stream",
     "text": [
      "C:\\Users\\gdema\\AppData\\Local\\Temp\\ipykernel_8748\\2501826934.py:9: UserWarning: set_ticklabels() should only be used with a fixed number of ticks, i.e. after set_ticks() or using a FixedLocator.\n",
      "  barplot.set_xticklabels(barplot.get_xticklabels(),\n"
     ]
    },
    {
     "data": {
      "image/png": "[encoded data removed]",
      "text/plain": [
       "<Figure size 1000x600 with 1 Axes>"
      ]
     },
     "metadata": {},
     "output_type": "display_data"
    },
    {
     "name": "stdout",
     "output_type": "stream",
     "text": [
      "cleaned mean = 0.489169243740462\n",
      "uncleaned mean = 0.46337629390048524\n"
     ]
    }
   ],
   "source": [
    "\n",
    "cleaned_score = f1_score(target_cleaned, best_out_cleaned,average=None)\n",
    "uncleaned_score = f1_score(target_uncleaned, best_out_uncleaned,average=None)\n",
    "\n",
    "# we create a dataframe with for each label the f1 score for both the models\n",
    "results_df=pd.DataFrame(zip(LABEL_COLS,cleaned_score,uncleaned_score),columns=[\"labels\",\"CLEANED SCORE\",\"UNCLEANED SCORE\"])\n",
    "results_df = pd.melt(results_df, id_vars=\"labels\", var_name=\"models\", value_name=\"f1_score\")\n",
    "plt.figure(figsize=(10, 6))\n",
    "barplot=sns.barplot(x=\"labels\", hue=\"models\", y=\"f1_score\", data=results_df)\n",
    "barplot.set_xticklabels(barplot.get_xticklabels(), \n",
    "                          rotation=90, \n",
    "                          horizontalalignment='right')\n",
    "plt.show()\n",
    "\n",
    "print(f\"cleaned mean = {np.mean(cleaned_score)}\\nuncleaned mean = {np.mean(uncleaned_score)}\")"
   ]
  },
  {
   "cell_type": "markdown",
   "metadata": {},
   "source": [
    "# GO Emotions: 6 emotions\n",
    "We can try to map the 27 emtions to Ekman standard and finetune a new model. <br>\n",
    "We compare mapping first the dataset and then training the model with training the model and mapping the results to get the better alternative"
   ]
  },
  {
   "cell_type": "markdown",
   "metadata": {},
   "source": [
    "### Post-training mapping\n",
    "Si riallena il modello fissando dataset post shuffle e il seme per l'inizializzaizone dei pesi\n"
   ]
  },
  {
   "cell_type": "code",
   "execution_count": 4,
   "metadata": {},
   "outputs": [
    {
     "name": "stderr",
     "output_type": "stream",
     "text": [
      "Some weights of the model checkpoint at bert-base-cased were not used when initializing BertModel: ['cls.seq_relationship.bias', 'cls.seq_relationship.weight', 'cls.predictions.bias', 'cls.predictions.transform.dense.weight', 'cls.predictions.decoder.weight', 'cls.predictions.transform.dense.bias', 'cls.predictions.transform.LayerNorm.bias', 'cls.predictions.transform.LayerNorm.weight']\n",
      "- This IS expected if you are initializing BertModel from the checkpoint of a model trained on another task or with another architecture (e.g. initializing a BertForSequenceClassification model from a BertForPreTraining model).\n",
      "- This IS NOT expected if you are initializing BertModel from the checkpoint of a model that you expect to be exactly identical (initializing a BertForSequenceClassification model from a BertForSequenceClassification model).\n"
     ]
    },
    {
     "data": {
      "application/vnd.jupyter.widget-view+json": {
       "model_id": "0be4d71fdc5d4772acb45600fb7e4fec",
       "version_major": 2,
       "version_minor": 0
      },
      "text/plain": [
       "  0%|          | 0/4 [00:00<?, ?it/s]"
      ]
     },
     "metadata": {},
     "output_type": "display_data"
    },
    {
     "name": "stdout",
     "output_type": "stream",
     "text": [
      "Epoch 1/4\n"
     ]
    },
    {
     "data": {
      "application/vnd.jupyter.widget-view+json": {
       "model_id": "04cca3dd6d004718a97cee06f2d16005",
       "version_major": 2,
       "version_minor": 0
      },
      "text/plain": [
       "  0%|          | 0/2714 [00:00<?, ?it/s]"
      ]
     },
     "metadata": {},
     "output_type": "display_data"
    },
    {
     "data": {
      "application/vnd.jupyter.widget-view+json": {
       "model_id": "e13a0d1bf3c34f8a830d5602a12cb24a",
       "version_major": 2,
       "version_minor": 0
      },
      "text/plain": [
       "  0%|          | 0/340 [00:00<?, ?it/s]"
      ]
     },
     "metadata": {},
     "output_type": "display_data"
    },
    {
     "name": "stdout",
     "output_type": "stream",
     "text": [
      "Epoch 2/4\n"
     ]
    },
    {
     "data": {
      "application/vnd.jupyter.widget-view+json": {
       "model_id": "cf8c134d5354411bbb27a5c6028a8013",
       "version_major": 2,
       "version_minor": 0
      },
      "text/plain": [
       "  0%|          | 0/2714 [00:00<?, ?it/s]"
      ]
     },
     "metadata": {},
     "output_type": "display_data"
    },
    {
     "data": {
      "application/vnd.jupyter.widget-view+json": {
       "model_id": "17715c0ac25d4433b8e557bd5c05a132",
       "version_major": 2,
       "version_minor": 0
      },
      "text/plain": [
       "  0%|          | 0/340 [00:00<?, ?it/s]"
      ]
     },
     "metadata": {},
     "output_type": "display_data"
    },
    {
     "name": "stdout",
     "output_type": "stream",
     "text": [
      "Epoch 3/4\n"
     ]
    },
    {
     "data": {
      "application/vnd.jupyter.widget-view+json": {
       "model_id": "9e47d8596f7b4615af0160e952983c68",
       "version_major": 2,
       "version_minor": 0
      },
      "text/plain": [
       "  0%|          | 0/2714 [00:00<?, ?it/s]"
      ]
     },
     "metadata": {},
     "output_type": "display_data"
    },
    {
     "data": {
      "application/vnd.jupyter.widget-view+json": {
       "model_id": "e5a3ea0934df465aa9b73317690b90c9",
       "version_major": 2,
       "version_minor": 0
      },
      "text/plain": [
       "  0%|          | 0/340 [00:00<?, ?it/s]"
      ]
     },
     "metadata": {},
     "output_type": "display_data"
    },
    {
     "name": "stdout",
     "output_type": "stream",
     "text": [
      "Epoch 4/4\n"
     ]
    },
    {
     "data": {
      "application/vnd.jupyter.widget-view+json": {
       "model_id": "c558389c0b8a409faae23752aa24b29c",
       "version_major": 2,
       "version_minor": 0
      },
      "text/plain": [
       "  0%|          | 0/2714 [00:00<?, ?it/s]"
      ]
     },
     "metadata": {},
     "output_type": "display_data"
    },
    {
     "data": {
      "application/vnd.jupyter.widget-view+json": {
       "model_id": "79c9f9e8f20747999e6e98c26b85ac26",
       "version_major": 2,
       "version_minor": 0
      },
      "text/plain": [
       "  0%|          | 0/340 [00:00<?, ?it/s]"
      ]
     },
     "metadata": {},
     "output_type": "display_data"
    },
    {
     "name": "stdout",
     "output_type": "stream",
     "text": [
      "Threshold = 0.12\n"
     ]
    }
   ],
   "source": [
    "train_df, val_df, test_df = load_dataset(DatasetEnum.GoEmotionsCleaned)\n",
    "#we first shuffle the train-set\n",
    "seed_val = 14\n",
    "random.seed(seed_val)\n",
    "torch.manual_seed(seed_val)\n",
    "np.random.seed(seed_val)\n",
    "torch.cuda.manual_seed_all(seed_val)\n",
    "\n",
    "CHECKPOINT_MODEL_FILE=CHECKPOINT_DIR + 'bert_model_NoReg.pth'\n",
    "# creating the model with the same seed as the cleaned version\n",
    "PARAMS = {'batch_size':MINIBATCH_SIZE, \n",
    "          'learning_rate':LEARNING_RATE, \n",
    "          'epochs':EPOCHS, \n",
    "          'loss_function':loss_function, \n",
    "          'regularization':LAMBDA,\n",
    "          'n_classes':28\n",
    "}\n",
    "\n",
    "SCORES = {'accuracy': accuracy,\n",
    "          'jaccard_macro': jaccard,\n",
    "          'f1_macro': f1,\n",
    "          'jaccard_samples': jaccard_samples,\n",
    "          'f1_micro':f1_micro,\n",
    "          'membership':membership_score}\n",
    "\n",
    "\n",
    "\n",
    "\n",
    "torch.manual_seed(seed_val)\n",
    "torch.cuda.manual_seed_all(seed_val)\n",
    "model = Bert(SCORES,\n",
    "                PARAMS) \n",
    "\n",
    "model.fit(train_df, validation_df=val_df, progress_bar_epoch=True, progress_bar_step=True, checkpoint_path=CHECKPOINT_MODEL_FILE,checkpoint_score=\"f1_macro\",checkpoint_score_maximize=True,shuffle_training=True)\n",
    "out = model.predict(val_df)\n",
    "target = val_df.iloc[:, 1:].values\n",
    "threshold, _ = tune_sigmoid_threshold(target, out, metric_params={'average':'macro', 'zero_division':0}, metric_fun=f1_score)\n",
    "print(f\"Threshold = {threshold}\")\n",
    "\n",
    "#now we predìct to the test values and map the results\n",
    "#first we map the test set\n",
    "test_df = goemotions_apply_emotion_mapping(test_df)\n",
    "\n",
    "out= model.predict(test_df)\n",
    "target= test_df.iloc[:, 1:].values\n",
    "best_out = (out> threshold).astype(int)\n",
    "\n"
   ]
  },
  {
   "cell_type": "code",
   "execution_count": 8,
   "metadata": {},
   "outputs": [
    {
     "name": "stdout",
     "output_type": "stream",
     "text": [
      "F1-score = 0.6521092002149022\n"
     ]
    },
    {
     "data": {
      "image/png": "[encoded data removed]",
      "text/plain": [
       "<Figure size 1000x500 with 1 Axes>"
      ]
     },
     "metadata": {},
     "output_type": "display_data"
    }
   ],
   "source": [
    "threshold = 0.12\n",
    "best_out=goemotions_apply_emotion_mapping(best_out,isDataframe=False)\n",
    "score_postMap = f1_score(target, best_out,average=None)\n",
    "plot_score_barplot(target, best_out,[\"joy\",\"anger\",\"surprise\",\"sadness\",\"disgust\",\"fear\"])\n",
    "print (f\"F1-score = {np.mean(score_postMap)}\")"
   ]
  },
  {
   "cell_type": "markdown",
   "metadata": {},
   "source": [
    "We expect to get a better results training with a mapped tr-set because we will drop the \"neutral\" entries, so we will not have all the predicted \"neutral\" entries automatically as a false positive because the model will not be able to classify the test entries with the neutral label"
   ]
  },
  {
   "cell_type": "markdown",
   "metadata": {},
   "source": [
    "### Pre mapping training"
   ]
  },
  {
   "cell_type": "code",
   "execution_count": 4,
   "metadata": {},
   "outputs": [
    {
     "name": "stderr",
     "output_type": "stream",
     "text": [
      "c:\\Users\\gdema\\Desktop\\HLT\\_project\\HLT\\lib\\dataset_utils.py:53: FutureWarning: Operation between non boolean Series with different indexes will no longer return a boolean result in a future version. Cast both Series to object type to maintain the prior behavior.\n",
      "  value = value | dataset[column]\n",
      "c:\\Users\\gdema\\Desktop\\HLT\\_project\\HLT\\lib\\dataset_utils.py:53: FutureWarning: Operation between non boolean Series with different indexes will no longer return a boolean result in a future version. Cast both Series to object type to maintain the prior behavior.\n",
      "  value = value | dataset[column]\n",
      "c:\\Users\\gdema\\Desktop\\HLT\\_project\\HLT\\lib\\dataset_utils.py:53: FutureWarning: Operation between non boolean Series with different indexes will no longer return a boolean result in a future version. Cast both Series to object type to maintain the prior behavior.\n",
      "  value = value | dataset[column]\n",
      "c:\\Users\\gdema\\Desktop\\HLT\\_project\\HLT\\lib\\dataset_utils.py:53: FutureWarning: Operation between non boolean Series with different indexes will no longer return a boolean result in a future version. Cast both Series to object type to maintain the prior behavior.\n",
      "  value = value | dataset[column]\n",
      "c:\\Users\\gdema\\Desktop\\HLT\\_project\\HLT\\lib\\dataset_utils.py:53: FutureWarning: Operation between non boolean Series with different indexes will no longer return a boolean result in a future version. Cast both Series to object type to maintain the prior behavior.\n",
      "  value = value | dataset[column]\n",
      "c:\\Users\\gdema\\Desktop\\HLT\\_project\\HLT\\lib\\dataset_utils.py:53: FutureWarning: Operation between non boolean Series with different indexes will no longer return a boolean result in a future version. Cast both Series to object type to maintain the prior behavior.\n",
      "  value = value | dataset[column]\n",
      "c:\\Users\\gdema\\Desktop\\HLT\\_project\\HLT\\lib\\dataset_utils.py:53: FutureWarning: Operation between non boolean Series with different indexes will no longer return a boolean result in a future version. Cast both Series to object type to maintain the prior behavior.\n",
      "  value = value | dataset[column]\n",
      "c:\\Users\\gdema\\Desktop\\HLT\\_project\\HLT\\lib\\dataset_utils.py:53: FutureWarning: Operation between non boolean Series with different indexes will no longer return a boolean result in a future version. Cast both Series to object type to maintain the prior behavior.\n",
      "  value = value | dataset[column]\n",
      "c:\\Users\\gdema\\Desktop\\HLT\\_project\\HLT\\lib\\dataset_utils.py:53: FutureWarning: Operation between non boolean Series with different indexes will no longer return a boolean result in a future version. Cast both Series to object type to maintain the prior behavior.\n",
      "  value = value | dataset[column]\n",
      "c:\\Users\\gdema\\Desktop\\HLT\\_project\\HLT\\lib\\dataset_utils.py:53: FutureWarning: Operation between non boolean Series with different indexes will no longer return a boolean result in a future version. Cast both Series to object type to maintain the prior behavior.\n",
      "  value = value | dataset[column]\n",
      "c:\\Users\\gdema\\Desktop\\HLT\\_project\\HLT\\lib\\dataset_utils.py:53: FutureWarning: Operation between non boolean Series with different indexes will no longer return a boolean result in a future version. Cast both Series to object type to maintain the prior behavior.\n",
      "  value = value | dataset[column]\n",
      "c:\\Users\\gdema\\Desktop\\HLT\\_project\\HLT\\lib\\dataset_utils.py:53: FutureWarning: Operation between non boolean Series with different indexes will no longer return a boolean result in a future version. Cast both Series to object type to maintain the prior behavior.\n",
      "  value = value | dataset[column]\n",
      "c:\\Users\\gdema\\Desktop\\HLT\\_project\\HLT\\lib\\dataset_utils.py:53: FutureWarning: Operation between non boolean Series with different indexes will no longer return a boolean result in a future version. Cast both Series to object type to maintain the prior behavior.\n",
      "  value = value | dataset[column]\n",
      "c:\\Users\\gdema\\Desktop\\HLT\\_project\\HLT\\lib\\dataset_utils.py:53: FutureWarning: Operation between non boolean Series with different indexes will no longer return a boolean result in a future version. Cast both Series to object type to maintain the prior behavior.\n",
      "  value = value | dataset[column]\n",
      "c:\\Users\\gdema\\Desktop\\HLT\\_project\\HLT\\lib\\dataset_utils.py:53: FutureWarning: Operation between non boolean Series with different indexes will no longer return a boolean result in a future version. Cast both Series to object type to maintain the prior behavior.\n",
      "  value = value | dataset[column]\n",
      "c:\\Users\\gdema\\Desktop\\HLT\\_project\\HLT\\lib\\dataset_utils.py:53: FutureWarning: Operation between non boolean Series with different indexes will no longer return a boolean result in a future version. Cast both Series to object type to maintain the prior behavior.\n",
      "  value = value | dataset[column]\n",
      "c:\\Users\\gdema\\Desktop\\HLT\\_project\\HLT\\lib\\dataset_utils.py:53: FutureWarning: Operation between non boolean Series with different indexes will no longer return a boolean result in a future version. Cast both Series to object type to maintain the prior behavior.\n",
      "  value = value | dataset[column]\n",
      "c:\\Users\\gdema\\Desktop\\HLT\\_project\\HLT\\lib\\dataset_utils.py:53: FutureWarning: Operation between non boolean Series with different indexes will no longer return a boolean result in a future version. Cast both Series to object type to maintain the prior behavior.\n",
      "  value = value | dataset[column]\n",
      "c:\\Users\\gdema\\Desktop\\HLT\\_project\\HLT\\lib\\dataset_utils.py:53: FutureWarning: Operation between non boolean Series with different indexes will no longer return a boolean result in a future version. Cast both Series to object type to maintain the prior behavior.\n",
      "  value = value | dataset[column]\n",
      "c:\\Users\\gdema\\Desktop\\HLT\\_project\\HLT\\lib\\dataset_utils.py:53: FutureWarning: Operation between non boolean Series with different indexes will no longer return a boolean result in a future version. Cast both Series to object type to maintain the prior behavior.\n",
      "  value = value | dataset[column]\n",
      "c:\\Users\\gdema\\Desktop\\HLT\\_project\\HLT\\lib\\dataset_utils.py:53: FutureWarning: Operation between non boolean Series with different indexes will no longer return a boolean result in a future version. Cast both Series to object type to maintain the prior behavior.\n",
      "  value = value | dataset[column]\n",
      "c:\\Users\\gdema\\Desktop\\HLT\\_project\\HLT\\lib\\dataset_utils.py:53: FutureWarning: Operation between non boolean Series with different indexes will no longer return a boolean result in a future version. Cast both Series to object type to maintain the prior behavior.\n",
      "  value = value | dataset[column]\n",
      "c:\\Users\\gdema\\Desktop\\HLT\\_project\\HLT\\lib\\dataset_utils.py:53: FutureWarning: Operation between non boolean Series with different indexes will no longer return a boolean result in a future version. Cast both Series to object type to maintain the prior behavior.\n",
      "  value = value | dataset[column]\n",
      "c:\\Users\\gdema\\Desktop\\HLT\\_project\\HLT\\lib\\dataset_utils.py:53: FutureWarning: Operation between non boolean Series with different indexes will no longer return a boolean result in a future version. Cast both Series to object type to maintain the prior behavior.\n",
      "  value = value | dataset[column]\n",
      "c:\\Users\\gdema\\Desktop\\HLT\\_project\\HLT\\lib\\dataset_utils.py:53: FutureWarning: Operation between non boolean Series with different indexes will no longer return a boolean result in a future version. Cast both Series to object type to maintain the prior behavior.\n",
      "  value = value | dataset[column]\n",
      "c:\\Users\\gdema\\Desktop\\HLT\\_project\\HLT\\lib\\dataset_utils.py:53: FutureWarning: Operation between non boolean Series with different indexes will no longer return a boolean result in a future version. Cast both Series to object type to maintain the prior behavior.\n",
      "  value = value | dataset[column]\n",
      "c:\\Users\\gdema\\Desktop\\HLT\\_project\\HLT\\lib\\dataset_utils.py:53: FutureWarning: Operation between non boolean Series with different indexes will no longer return a boolean result in a future version. Cast both Series to object type to maintain the prior behavior.\n",
      "  value = value | dataset[column]\n",
      "Some weights of the model checkpoint at bert-base-cased were not used when initializing BertModel: ['cls.predictions.transform.dense.bias', 'cls.predictions.decoder.weight', 'cls.seq_relationship.bias', 'cls.predictions.transform.LayerNorm.bias', 'cls.predictions.bias', 'cls.seq_relationship.weight', 'cls.predictions.transform.LayerNorm.weight', 'cls.predictions.transform.dense.weight']\n",
      "- This IS expected if you are initializing BertModel from the checkpoint of a model trained on another task or with another architecture (e.g. initializing a BertForSequenceClassification model from a BertForPreTraining model).\n",
      "- This IS NOT expected if you are initializing BertModel from the checkpoint of a model that you expect to be exactly identical (initializing a BertForSequenceClassification model from a BertForSequenceClassification model).\n"
     ]
    },
    {
     "data": {
      "application/vnd.jupyter.widget-view+json": {
       "model_id": "55438704bd7145f4aad30b5d54e96aed",
       "version_major": 2,
       "version_minor": 0
      },
      "text/plain": [
       "  0%|          | 0/4 [00:00<?, ?it/s]"
      ]
     },
     "metadata": {},
     "output_type": "display_data"
    },
    {
     "name": "stdout",
     "output_type": "stream",
     "text": [
      "Epoch 1/4\n"
     ]
    },
    {
     "data": {
      "application/vnd.jupyter.widget-view+json": {
       "model_id": "f4a3e40fbaaa4d22a873b95be2627253",
       "version_major": 2,
       "version_minor": 0
      },
      "text/plain": [
       "  0%|          | 0/1912 [00:00<?, ?it/s]"
      ]
     },
     "metadata": {},
     "output_type": "display_data"
    },
    {
     "data": {
      "application/vnd.jupyter.widget-view+json": {
       "model_id": "b705d0426a0b46b58ccdf11a9530893a",
       "version_major": 2,
       "version_minor": 0
      },
      "text/plain": [
       "  0%|          | 0/240 [00:00<?, ?it/s]"
      ]
     },
     "metadata": {},
     "output_type": "display_data"
    },
    {
     "name": "stdout",
     "output_type": "stream",
     "text": [
      "Epoch 2/4\n"
     ]
    },
    {
     "data": {
      "application/vnd.jupyter.widget-view+json": {
       "model_id": "038fefd7b58e493c8e72d1476a039b23",
       "version_major": 2,
       "version_minor": 0
      },
      "text/plain": [
       "  0%|          | 0/1912 [00:00<?, ?it/s]"
      ]
     },
     "metadata": {},
     "output_type": "display_data"
    },
    {
     "data": {
      "application/vnd.jupyter.widget-view+json": {
       "model_id": "151e1a24966a49438532cab0296b129b",
       "version_major": 2,
       "version_minor": 0
      },
      "text/plain": [
       "  0%|          | 0/240 [00:00<?, ?it/s]"
      ]
     },
     "metadata": {},
     "output_type": "display_data"
    },
    {
     "name": "stdout",
     "output_type": "stream",
     "text": [
      "Epoch 3/4\n"
     ]
    },
    {
     "data": {
      "application/vnd.jupyter.widget-view+json": {
       "model_id": "5535ba5f48fc4919a19b2cb09c794e48",
       "version_major": 2,
       "version_minor": 0
      },
      "text/plain": [
       "  0%|          | 0/1912 [00:00<?, ?it/s]"
      ]
     },
     "metadata": {},
     "output_type": "display_data"
    },
    {
     "data": {
      "application/vnd.jupyter.widget-view+json": {
       "model_id": "6758674176804fb7bfab12506a5ee48e",
       "version_major": 2,
       "version_minor": 0
      },
      "text/plain": [
       "  0%|          | 0/240 [00:00<?, ?it/s]"
      ]
     },
     "metadata": {},
     "output_type": "display_data"
    },
    {
     "name": "stdout",
     "output_type": "stream",
     "text": [
      "Epoch 4/4\n"
     ]
    },
    {
     "data": {
      "application/vnd.jupyter.widget-view+json": {
       "model_id": "b741f50fea8240a6b015ca8cd3d8c2c4",
       "version_major": 2,
       "version_minor": 0
      },
      "text/plain": [
       "  0%|          | 0/1912 [00:00<?, ?it/s]"
      ]
     },
     "metadata": {},
     "output_type": "display_data"
    },
    {
     "data": {
      "application/vnd.jupyter.widget-view+json": {
       "model_id": "c0fd7feeafe141bcb54758e40aa70f28",
       "version_major": 2,
       "version_minor": 0
      },
      "text/plain": [
       "  0%|          | 0/240 [00:00<?, ?it/s]"
      ]
     },
     "metadata": {},
     "output_type": "display_data"
    },
    {
     "name": "stdout",
     "output_type": "stream",
     "text": [
      "Threshold = 0.27\n"
     ]
    }
   ],
   "source": [
    "train_df, val_df, test_df = load_dataset(DatasetEnum.GoEmotionsCleaned)\n",
    "#we first shuffle the train-set\n",
    "seed_val = 14\n",
    "random.seed(seed_val)\n",
    "torch.manual_seed(seed_val)\n",
    "np.random.seed(seed_val)\n",
    "torch.cuda.manual_seed_all(seed_val)\n",
    "\n",
    "train_df=goemotions_apply_emotion_mapping(train_df)\n",
    "val_df=goemotions_apply_emotion_mapping(val_df)\n",
    "test_df = goemotions_apply_emotion_mapping(test_df)\n",
    "\n",
    "CHECKPOINT_MODEL_FILE=CHECKPOINT_DIR + 'bert_model_preMapTraining.pth'\n",
    "# creating the model with the same seed as the cleaned version\n",
    "PARAMS = {'batch_size':MINIBATCH_SIZE, \n",
    "          'learning_rate':LEARNING_RATE, \n",
    "          'epochs':EPOCHS, \n",
    "          'loss_function':loss_function, \n",
    "          'regularization':LAMBDA,\n",
    "          'n_classes':6\n",
    "}\n",
    "\n",
    "SCORES = {'accuracy': accuracy,\n",
    "          'jaccard_macro': jaccard,\n",
    "          'f1_macro': f1,\n",
    "          'jaccard_samples': jaccard_samples,\n",
    "          'f1_micro':f1_micro,\n",
    "          'membership':membership_score}\n",
    "\n",
    "\n",
    "torch.manual_seed(seed_val)\n",
    "torch.cuda.manual_seed_all(seed_val)\n",
    "model_preMap = Bert(SCORES,\n",
    "                PARAMS) \n",
    "\n",
    "model_preMap.fit(train_df, validation_df=val_df, progress_bar_epoch=True, progress_bar_step=True, checkpoint_path=CHECKPOINT_MODEL_FILE,checkpoint_score=\"f1_macro\",checkpoint_score_maximize=True,shuffle_training=True)\n",
    "out = model_preMap.predict(val_df)\n",
    "target = val_df.iloc[:, 1:].values\n",
    "threshold_premap, _ = tune_sigmoid_threshold(target, out, metric_params={'average':'macro', 'zero_division':0}, metric_fun=f1_score)\n",
    "print(f\"Threshold = {threshold_premap}\")\n",
    "\n",
    "out= model_preMap.predict(test_df)\n",
    "target= test_df.iloc[:, 1:].values\n",
    "best_out = (out> threshold_premap).astype(int)\n"
   ]
  },
  {
   "cell_type": "code",
   "execution_count": 5,
   "metadata": {},
   "outputs": [
    {
     "name": "stdout",
     "output_type": "stream",
     "text": [
      "F1-score = 0.6786036795159606\n"
     ]
    },
    {
     "data": {
      "image/png": "[encoded data removed]",
      "text/plain": [
       "<Figure size 1000x500 with 1 Axes>"
      ]
     },
     "metadata": {},
     "output_type": "display_data"
    }
   ],
   "source": [
    "threshold_premap = 0.27\n",
    "score_postMap = f1_score(target, best_out,average=None)\n",
    "plot_score_barplot(target, best_out,[\"joy\",\"anger\",\"surprise\",\"sadness\",\"love\",\"fear\"])\n",
    "print (f\"F1-score = {np.mean(score_postMap)}\")"
   ]
  },
  {
   "cell_type": "markdown",
   "metadata": {},
   "source": [
    "Per validare il datapreparation va usato validation o test nel confronto finale?"
   ]
  },
  {
   "cell_type": "markdown",
   "metadata": {},
   "source": []
  }
 ],
 "metadata": {
  "kernelspec": {
   "display_name": "HLT",
   "language": "python",
   "name": "python3"
  },
  "language_info": {
   "codemirror_mode": {
    "name": "ipython",
    "version": 3
   },
   "file_extension": ".py",
   "mimetype": "text/x-python",
   "name": "python",
   "nbconvert_exporter": "python",
   "pygments_lexer": "ipython3",
   "version": "3.10.14"
  }
 },
 "nbformat": 4,
 "nbformat_minor": 2
}
