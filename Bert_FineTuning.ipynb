{
 "cells": [
  {
   "cell_type": "markdown",
   "id": "0482609f-0f7b-483a-952b-980c6497d9d2",
   "metadata": {
    "editable": true,
    "slideshow": {
     "slide_type": ""
    },
    "tags": []
   },
   "source": [
    "# Bert fine-tuning"
   ]
  },
  {
   "cell_type": "markdown",
   "id": "227937b1-175c-4d3f-8f15-6c9e89adff60",
   "metadata": {},
   "source": [
    "## Go emotions"
   ]
  },
  {
   "cell_type": "markdown",
   "id": "07bba815-3be1-4537-89b7-d24da9200209",
   "metadata": {},
   "source": [
    "It's a classification task dataset made of 58k reddit comments.\n",
    "Goemotions is a very unique dataset because quite often emotion classification task follows the directive to classify within only 6 emotions (which are very often joy, anger, fear, sadness, disgust, and surprise) proposed by Ekman in 1992 while goemotions classify the entries in 27 emotions + 1 neutral.<br>\n",
    "What follows is based on the official goemotion paper analysis for fine tuning bert."
   ]
  },
  {
   "cell_type": "markdown",
   "id": "679dfccd-5eba-4fa9-a7e2-c97d15c2c7b3",
   "metadata": {},
   "source": [
    "### Data preparation\n",
    "The twitter dataset is full of biases and is very toxic so we will take the already prepared data got from the paper work, which provide for example:\n",
    "1. Reducing profanity\n",
    "2. Sentiment balancing\n",
    "3. Subreddit balancing\n",
    "4. Length filtering\n",
    "5. mask proper names referring to people with a [NAME] token and religion terms with a [RELIGION] token.\n",
    "\n",
    "\n",
    "To minimize the noise in our data, we filter out emotion labels selected by only a single annotator. We keep examples with at least one label after this filtering is performed—this amounts to 93% of the original data. We randomly split this data into train (80%), dev (10%) and test (10%) sets."
   ]
  },
  {
   "cell_type": "code",
   "execution_count": 1,
   "id": "292b79fa-d87c-4598-b5c7-11353fa5f709",
   "metadata": {},
   "outputs": [],
   "source": [
    "import numpy as np\n",
    "import pandas as pd\n",
    "import time\n",
    "import datetime\n",
    "import gc\n",
    "import random\n",
    "from nltk.corpus import stopwords\n",
    "import re\n",
    "import matplotlib.pyplot as plt\n",
    "from lib.dataset_utils import *\n",
    "from sklearn.preprocessing import MultiLabelBinarizer\n",
    "import seaborn as sns\n",
    "import os\n",
    "import torch\n",
    "import torch.nn as nn\n",
    "from torch.utils.data import TensorDataset, DataLoader, RandomSampler, SequentialSampler,random_split\n",
    "from sklearn.model_selection import train_test_split\n",
    "from sklearn.metrics import classification_report\n",
    "from lib import dataset_utils\n",
    "import transformers\n",
    "from transformers import BertForSequenceClassification, AdamW, BertConfig,BertTokenizer,get_linear_schedule_with_warmup"
   ]
  },
  {
   "cell_type": "code",
   "execution_count": 2,
   "id": "84bf9063-eda3-4fe7-ac33-ca5c7264546b",
   "metadata": {},
   "outputs": [
    {
     "data": {
      "text/plain": [
       "Index(['admiration', 'amusement', 'disapproval', 'disgust', 'embarrassment',\n",
       "       'excitement', 'fear', 'gratitude', 'grief', 'joy', 'love',\n",
       "       'nervousness', 'anger', 'optimism', 'pride', 'realization', 'relief',\n",
       "       'remorse', 'sadness', 'surprise', 'neutral', 'annoyance', 'approval',\n",
       "       'caring', 'confusion', 'curiosity', 'desire', 'disappointment'],\n",
       "      dtype='object')"
      ]
     },
     "execution_count": 2,
     "metadata": {},
     "output_type": "execute_result"
    }
   ],
   "source": [
    "train_df, val_df, test_df = load_dataset(DatasetEnum.GoEmotions, k_hot_encode=True)\n",
    "label_names = train_df.columns[1:]\n",
    "label_names"
   ]
  },
  {
   "cell_type": "code",
   "execution_count": 3,
   "id": "eee4794c-7ece-4ac4-a1b4-840329ac10e6",
   "metadata": {},
   "outputs": [],
   "source": [
    "# Substitute user tags with [NAME]\n",
    "train_df['text'] = train_df['text'].str.replace(r\"(?: ^|\\b)/?u/\\w+\", '[NAME]', regex=True)\n",
    "val_df['text'] = val_df['text'].str.replace(r\"(?: ^|\\b)/?u/\\w+\", '[NAME]', regex=True)\n",
    "test_df['text'] = test_df['text'].str.replace(r\"(?: ^|\\b)/?u/\\w+\", '[NAME]', regex=True)\n",
    "\n",
    "# Substitute subreddit tags with [LINK]\n",
    "train_df['text'] = train_df['text'].str.replace(r\"(?: ^|\\b)/?r\\/\\w+\", '[LINK]', regex=True)\n",
    "val_df['text'] = val_df['text'].str.replace(r\"(?: ^|\\b)/?r\\/\\w+\", '[LINK]', regex=True)\n",
    "test_df['text'] = test_df['text'].str.replace(r\"(?: ^|\\b)/?r\\/\\w+\", '[LINK]', regex=True)\n",
    "\n",
    "OUT_DIR = \"./dataset/GoEmotionsCleaned/\"\n",
    "\n",
    "# Save the cleaned dataset\n",
    "if not os.path.exists(OUT_DIR):\n",
    "    os.makedirs(OUT_DIR)\n",
    "train_df.to_csv(OUT_DIR + \"train.tsv\", sep='\\t', index=False)\n",
    "val_df.to_csv(OUT_DIR + \"val.tsv\", sep='\\t', index=False)\n",
    "test_df.to_csv(OUT_DIR + \"test.tsv\", sep='\\t', index=False)\n"
   ]
  },
  {
   "cell_type": "code",
   "execution_count": 4,
   "id": "ca925c03-c3f8-4aa2-b36c-a60496eec44b",
   "metadata": {},
   "outputs": [
    {
     "data": {
      "text/plain": [
       "device(type='cuda', index=0)"
      ]
     },
     "execution_count": 4,
     "metadata": {},
     "output_type": "execute_result"
    }
   ],
   "source": [
    "device = torch.device(\"cuda:0\" if torch.cuda.is_available() else \"cpu\")\n",
    "#device=torch.device(\"cpu\")\n",
    "device"
   ]
  },
  {
   "cell_type": "code",
   "execution_count": 5,
   "id": "c31a20b4-0713-4283-88b1-570a367dd037",
   "metadata": {},
   "outputs": [
    {
     "data": {
      "text/html": [
       "<div>\n",
       "<style scoped>\n",
       "    .dataframe tbody tr th:only-of-type {\n",
       "        vertical-align: middle;\n",
       "    }\n",
       "\n",
       "    .dataframe tbody tr th {\n",
       "        vertical-align: top;\n",
       "    }\n",
       "\n",
       "    .dataframe thead th {\n",
       "        text-align: right;\n",
       "    }\n",
       "</style>\n",
       "<table border=\"1\" class=\"dataframe\">\n",
       "  <thead>\n",
       "    <tr style=\"text-align: right;\">\n",
       "      <th></th>\n",
       "      <th>text</th>\n",
       "      <th>admiration</th>\n",
       "      <th>amusement</th>\n",
       "      <th>disapproval</th>\n",
       "      <th>disgust</th>\n",
       "      <th>embarrassment</th>\n",
       "      <th>excitement</th>\n",
       "      <th>fear</th>\n",
       "      <th>gratitude</th>\n",
       "      <th>grief</th>\n",
       "      <th>...</th>\n",
       "      <th>sadness</th>\n",
       "      <th>surprise</th>\n",
       "      <th>neutral</th>\n",
       "      <th>annoyance</th>\n",
       "      <th>approval</th>\n",
       "      <th>caring</th>\n",
       "      <th>confusion</th>\n",
       "      <th>curiosity</th>\n",
       "      <th>desire</th>\n",
       "      <th>disappointment</th>\n",
       "    </tr>\n",
       "  </thead>\n",
       "  <tbody>\n",
       "    <tr>\n",
       "      <th>0</th>\n",
       "      <td>My favourite food is anything I didn't have to...</td>\n",
       "      <td>0</td>\n",
       "      <td>0</td>\n",
       "      <td>0</td>\n",
       "      <td>0</td>\n",
       "      <td>0</td>\n",
       "      <td>0</td>\n",
       "      <td>0</td>\n",
       "      <td>0</td>\n",
       "      <td>0</td>\n",
       "      <td>...</td>\n",
       "      <td>0</td>\n",
       "      <td>0</td>\n",
       "      <td>1</td>\n",
       "      <td>0</td>\n",
       "      <td>0</td>\n",
       "      <td>0</td>\n",
       "      <td>0</td>\n",
       "      <td>0</td>\n",
       "      <td>0</td>\n",
       "      <td>0</td>\n",
       "    </tr>\n",
       "    <tr>\n",
       "      <th>1</th>\n",
       "      <td>Now if he does off himself, everyone will thin...</td>\n",
       "      <td>0</td>\n",
       "      <td>0</td>\n",
       "      <td>0</td>\n",
       "      <td>0</td>\n",
       "      <td>0</td>\n",
       "      <td>0</td>\n",
       "      <td>0</td>\n",
       "      <td>0</td>\n",
       "      <td>0</td>\n",
       "      <td>...</td>\n",
       "      <td>0</td>\n",
       "      <td>0</td>\n",
       "      <td>1</td>\n",
       "      <td>0</td>\n",
       "      <td>0</td>\n",
       "      <td>0</td>\n",
       "      <td>0</td>\n",
       "      <td>0</td>\n",
       "      <td>0</td>\n",
       "      <td>0</td>\n",
       "    </tr>\n",
       "    <tr>\n",
       "      <th>2</th>\n",
       "      <td>WHY THE FUCK IS BAYLESS ISOING</td>\n",
       "      <td>0</td>\n",
       "      <td>0</td>\n",
       "      <td>0</td>\n",
       "      <td>0</td>\n",
       "      <td>0</td>\n",
       "      <td>0</td>\n",
       "      <td>0</td>\n",
       "      <td>0</td>\n",
       "      <td>0</td>\n",
       "      <td>...</td>\n",
       "      <td>0</td>\n",
       "      <td>0</td>\n",
       "      <td>0</td>\n",
       "      <td>0</td>\n",
       "      <td>0</td>\n",
       "      <td>0</td>\n",
       "      <td>0</td>\n",
       "      <td>0</td>\n",
       "      <td>0</td>\n",
       "      <td>0</td>\n",
       "    </tr>\n",
       "    <tr>\n",
       "      <th>3</th>\n",
       "      <td>To make her feel threatened</td>\n",
       "      <td>0</td>\n",
       "      <td>0</td>\n",
       "      <td>0</td>\n",
       "      <td>0</td>\n",
       "      <td>0</td>\n",
       "      <td>0</td>\n",
       "      <td>1</td>\n",
       "      <td>0</td>\n",
       "      <td>0</td>\n",
       "      <td>...</td>\n",
       "      <td>0</td>\n",
       "      <td>0</td>\n",
       "      <td>0</td>\n",
       "      <td>0</td>\n",
       "      <td>0</td>\n",
       "      <td>0</td>\n",
       "      <td>0</td>\n",
       "      <td>0</td>\n",
       "      <td>0</td>\n",
       "      <td>0</td>\n",
       "    </tr>\n",
       "    <tr>\n",
       "      <th>4</th>\n",
       "      <td>Dirty Southern Wankers</td>\n",
       "      <td>0</td>\n",
       "      <td>0</td>\n",
       "      <td>0</td>\n",
       "      <td>0</td>\n",
       "      <td>0</td>\n",
       "      <td>0</td>\n",
       "      <td>0</td>\n",
       "      <td>0</td>\n",
       "      <td>0</td>\n",
       "      <td>...</td>\n",
       "      <td>0</td>\n",
       "      <td>0</td>\n",
       "      <td>0</td>\n",
       "      <td>1</td>\n",
       "      <td>0</td>\n",
       "      <td>0</td>\n",
       "      <td>0</td>\n",
       "      <td>0</td>\n",
       "      <td>0</td>\n",
       "      <td>0</td>\n",
       "    </tr>\n",
       "    <tr>\n",
       "      <th>...</th>\n",
       "      <td>...</td>\n",
       "      <td>...</td>\n",
       "      <td>...</td>\n",
       "      <td>...</td>\n",
       "      <td>...</td>\n",
       "      <td>...</td>\n",
       "      <td>...</td>\n",
       "      <td>...</td>\n",
       "      <td>...</td>\n",
       "      <td>...</td>\n",
       "      <td>...</td>\n",
       "      <td>...</td>\n",
       "      <td>...</td>\n",
       "      <td>...</td>\n",
       "      <td>...</td>\n",
       "      <td>...</td>\n",
       "      <td>...</td>\n",
       "      <td>...</td>\n",
       "      <td>...</td>\n",
       "      <td>...</td>\n",
       "      <td>...</td>\n",
       "    </tr>\n",
       "    <tr>\n",
       "      <th>43405</th>\n",
       "      <td>Added you mate well I’ve just got the bow and ...</td>\n",
       "      <td>0</td>\n",
       "      <td>0</td>\n",
       "      <td>0</td>\n",
       "      <td>0</td>\n",
       "      <td>0</td>\n",
       "      <td>0</td>\n",
       "      <td>0</td>\n",
       "      <td>0</td>\n",
       "      <td>0</td>\n",
       "      <td>...</td>\n",
       "      <td>0</td>\n",
       "      <td>0</td>\n",
       "      <td>0</td>\n",
       "      <td>0</td>\n",
       "      <td>0</td>\n",
       "      <td>0</td>\n",
       "      <td>0</td>\n",
       "      <td>0</td>\n",
       "      <td>0</td>\n",
       "      <td>0</td>\n",
       "    </tr>\n",
       "    <tr>\n",
       "      <th>43406</th>\n",
       "      <td>Always thought that was funny but is it a refe...</td>\n",
       "      <td>0</td>\n",
       "      <td>0</td>\n",
       "      <td>0</td>\n",
       "      <td>0</td>\n",
       "      <td>0</td>\n",
       "      <td>0</td>\n",
       "      <td>0</td>\n",
       "      <td>0</td>\n",
       "      <td>0</td>\n",
       "      <td>...</td>\n",
       "      <td>0</td>\n",
       "      <td>0</td>\n",
       "      <td>0</td>\n",
       "      <td>0</td>\n",
       "      <td>0</td>\n",
       "      <td>0</td>\n",
       "      <td>1</td>\n",
       "      <td>0</td>\n",
       "      <td>0</td>\n",
       "      <td>0</td>\n",
       "    </tr>\n",
       "    <tr>\n",
       "      <th>43407</th>\n",
       "      <td>What are you talking about? Anything bad that ...</td>\n",
       "      <td>0</td>\n",
       "      <td>0</td>\n",
       "      <td>0</td>\n",
       "      <td>0</td>\n",
       "      <td>0</td>\n",
       "      <td>0</td>\n",
       "      <td>0</td>\n",
       "      <td>0</td>\n",
       "      <td>0</td>\n",
       "      <td>...</td>\n",
       "      <td>0</td>\n",
       "      <td>0</td>\n",
       "      <td>0</td>\n",
       "      <td>1</td>\n",
       "      <td>0</td>\n",
       "      <td>0</td>\n",
       "      <td>0</td>\n",
       "      <td>0</td>\n",
       "      <td>0</td>\n",
       "      <td>0</td>\n",
       "    </tr>\n",
       "    <tr>\n",
       "      <th>43408</th>\n",
       "      <td>More like a baptism, with sexy results!</td>\n",
       "      <td>0</td>\n",
       "      <td>0</td>\n",
       "      <td>0</td>\n",
       "      <td>0</td>\n",
       "      <td>0</td>\n",
       "      <td>1</td>\n",
       "      <td>0</td>\n",
       "      <td>0</td>\n",
       "      <td>0</td>\n",
       "      <td>...</td>\n",
       "      <td>0</td>\n",
       "      <td>0</td>\n",
       "      <td>0</td>\n",
       "      <td>0</td>\n",
       "      <td>0</td>\n",
       "      <td>0</td>\n",
       "      <td>0</td>\n",
       "      <td>0</td>\n",
       "      <td>0</td>\n",
       "      <td>0</td>\n",
       "    </tr>\n",
       "    <tr>\n",
       "      <th>43409</th>\n",
       "      <td>Enjoy the ride!</td>\n",
       "      <td>0</td>\n",
       "      <td>0</td>\n",
       "      <td>0</td>\n",
       "      <td>0</td>\n",
       "      <td>0</td>\n",
       "      <td>0</td>\n",
       "      <td>0</td>\n",
       "      <td>0</td>\n",
       "      <td>0</td>\n",
       "      <td>...</td>\n",
       "      <td>0</td>\n",
       "      <td>0</td>\n",
       "      <td>0</td>\n",
       "      <td>0</td>\n",
       "      <td>0</td>\n",
       "      <td>0</td>\n",
       "      <td>0</td>\n",
       "      <td>0</td>\n",
       "      <td>0</td>\n",
       "      <td>0</td>\n",
       "    </tr>\n",
       "  </tbody>\n",
       "</table>\n",
       "<p>43410 rows × 29 columns</p>\n",
       "</div>"
      ],
      "text/plain": [
       "                                                    text  admiration  \\\n",
       "0      My favourite food is anything I didn't have to...           0   \n",
       "1      Now if he does off himself, everyone will thin...           0   \n",
       "2                         WHY THE FUCK IS BAYLESS ISOING           0   \n",
       "3                            To make her feel threatened           0   \n",
       "4                                 Dirty Southern Wankers           0   \n",
       "...                                                  ...         ...   \n",
       "43405  Added you mate well I’ve just got the bow and ...           0   \n",
       "43406  Always thought that was funny but is it a refe...           0   \n",
       "43407  What are you talking about? Anything bad that ...           0   \n",
       "43408            More like a baptism, with sexy results!           0   \n",
       "43409                                    Enjoy the ride!           0   \n",
       "\n",
       "       amusement  disapproval  disgust  embarrassment  excitement  fear  \\\n",
       "0              0            0        0              0           0     0   \n",
       "1              0            0        0              0           0     0   \n",
       "2              0            0        0              0           0     0   \n",
       "3              0            0        0              0           0     1   \n",
       "4              0            0        0              0           0     0   \n",
       "...          ...          ...      ...            ...         ...   ...   \n",
       "43405          0            0        0              0           0     0   \n",
       "43406          0            0        0              0           0     0   \n",
       "43407          0            0        0              0           0     0   \n",
       "43408          0            0        0              0           1     0   \n",
       "43409          0            0        0              0           0     0   \n",
       "\n",
       "       gratitude  grief  ...  sadness  surprise  neutral  annoyance  approval  \\\n",
       "0              0      0  ...        0         0        1          0         0   \n",
       "1              0      0  ...        0         0        1          0         0   \n",
       "2              0      0  ...        0         0        0          0         0   \n",
       "3              0      0  ...        0         0        0          0         0   \n",
       "4              0      0  ...        0         0        0          1         0   \n",
       "...          ...    ...  ...      ...       ...      ...        ...       ...   \n",
       "43405          0      0  ...        0         0        0          0         0   \n",
       "43406          0      0  ...        0         0        0          0         0   \n",
       "43407          0      0  ...        0         0        0          1         0   \n",
       "43408          0      0  ...        0         0        0          0         0   \n",
       "43409          0      0  ...        0         0        0          0         0   \n",
       "\n",
       "       caring  confusion  curiosity  desire  disappointment  \n",
       "0           0          0          0       0               0  \n",
       "1           0          0          0       0               0  \n",
       "2           0          0          0       0               0  \n",
       "3           0          0          0       0               0  \n",
       "4           0          0          0       0               0  \n",
       "...       ...        ...        ...     ...             ...  \n",
       "43405       0          0          0       0               0  \n",
       "43406       0          1          0       0               0  \n",
       "43407       0          0          0       0               0  \n",
       "43408       0          0          0       0               0  \n",
       "43409       0          0          0       0               0  \n",
       "\n",
       "[43410 rows x 29 columns]"
      ]
     },
     "execution_count": 5,
     "metadata": {},
     "output_type": "execute_result"
    }
   ],
   "source": [
    "train_df"
   ]
  },
  {
   "cell_type": "code",
   "execution_count": 6,
   "id": "a24def53-3173-4bb2-924a-de0e3e031e30",
   "metadata": {},
   "outputs": [],
   "source": [
    "#We utilize the uncased version of Bert where both HELLO and Hello will be tokenized as hello\n",
    "tokenizer = BertTokenizer.from_pretrained('bert-base-uncased', do_lower_case=True)"
   ]
  },
  {
   "cell_type": "code",
   "execution_count": 7,
   "id": "544215d4-a474-4091-b14a-cda017011879",
   "metadata": {},
   "outputs": [],
   "source": [
    "df=train_df\n",
    "tr_text=np.asarray(df[\"text\"])\n",
    "#prima c'era un as_array\n",
    "tr_labels =df.drop(columns=[\"text\"])\n",
    "tr_labels=torch.tensor(tr_labels.values, dtype=torch.float32)"
   ]
  },
  {
   "cell_type": "code",
   "execution_count": 8,
   "id": "6f50b805-d2ea-44cd-bd3a-94681d7a6de2",
   "metadata": {},
   "outputs": [
    {
     "data": {
      "text/plain": [
       "torch.Size([43410, 28])"
      ]
     },
     "execution_count": 8,
     "metadata": {},
     "output_type": "execute_result"
    }
   ],
   "source": [
    "tr_labels.shape"
   ]
  },
  {
   "cell_type": "code",
   "execution_count": 9,
   "id": "5dbce9ca-1434-46b4-88f9-51933dd45a8d",
   "metadata": {},
   "outputs": [
    {
     "name": "stdout",
     "output_type": "stream",
     "text": [
      " Original:  My favourite food is anything I didn't have to cook myself.\n",
      "Tokenized:  ['my', 'favourite', 'food', 'is', 'anything', 'i', 'didn', \"'\", 't', 'have', 'to', 'cook', 'myself', '.']\n",
      "Token IDs:  [2026, 8837, 2833, 2003, 2505, 1045, 2134, 1005, 1056, 2031, 2000, 5660, 2870, 1012]\n"
     ]
    }
   ],
   "source": [
    "print(' Original: ', tr_text[0])\n",
    "\n",
    "# Print the sentence split into tokens.\n",
    "print('Tokenized: ', tokenizer.tokenize(tr_text[0]))\n",
    "\n",
    "# Print the sentence mapped to token ids.\n",
    "print('Token IDs: ', tokenizer.convert_tokens_to_ids(tokenizer.tokenize(tr_text[0])))"
   ]
  },
  {
   "cell_type": "code",
   "execution_count": 10,
   "id": "d22ce3f0-a8ec-4699-b7de-fd8a9b716259",
   "metadata": {},
   "outputs": [],
   "source": [
    "max_len = 47\n",
    "temp=[]\n",
    "tempL =[]\n",
    "# For every sentence...\n",
    "#rimuoviamo tutte le entry di lunghezza maggiore di 47 => outliers\n",
    "for i in range(len(tr_text)):\n",
    "\n",
    "    # Tokenize the text and add `[CLS]` and `[SEP]` tokens.\n",
    "    input_ids = tokenizer.encode(tr_text[i], add_special_tokens=True)\n",
    "    if len(input_ids) <= max_len:\n",
    "        temp.append(tr_text[i])\n",
    "        tempL.append(tr_labels[i])\n",
    "        \n",
    "tr_text=np.asarray(temp)\n",
    "tr_labels=torch.stack(tempL)"
   ]
  },
  {
   "cell_type": "code",
   "execution_count": 11,
   "id": "e953632a-a310-40ef-834d-f0f337b19fa1",
   "metadata": {},
   "outputs": [
    {
     "ename": "NameError",
     "evalue": "name 'lengths' is not defined",
     "output_type": "error",
     "traceback": [
      "\u001b[1;31m---------------------------------------------------------------------------\u001b[0m",
      "\u001b[1;31mNameError\u001b[0m                                 Traceback (most recent call last)",
      "Cell \u001b[1;32mIn[11], line 1\u001b[0m\n\u001b[1;32m----> 1\u001b[0m unique_values, counts \u001b[38;5;241m=\u001b[39m np\u001b[38;5;241m.\u001b[39munique(lengths, return_counts\u001b[38;5;241m=\u001b[39m\u001b[38;5;28;01mTrue\u001b[39;00m)\n\u001b[0;32m      2\u001b[0m \u001b[38;5;28mprint\u001b[39m(unique_values)\n\u001b[0;32m      3\u001b[0m \u001b[38;5;28mprint\u001b[39m(counts)\n",
      "\u001b[1;31mNameError\u001b[0m: name 'lengths' is not defined"
     ]
    }
   ],
   "source": [
    "unique_values, counts = np.unique(lengths, return_counts=True)\n",
    "print(unique_values)\n",
    "print(counts)"
   ]
  },
  {
   "cell_type": "code",
   "execution_count": 21,
   "id": "14114ef0-f882-4de5-82e5-dabbaef5acc9",
   "metadata": {},
   "outputs": [
    {
     "name": "stderr",
     "output_type": "stream",
     "text": [
      "Truncation was not explicitly activated but `max_length` is provided a specific value, please use `truncation=True` to explicitly truncate examples to max length. Defaulting to 'longest_first' truncation strategy. If you encode pairs of sequences (GLUE-style) with the tokenizer you can select this strategy more precisely by providing a specific strategy to `truncation`.\n",
      "C:\\Users\\gdema\\anaconda3\\envs\\Hlt\\Lib\\site-packages\\transformers\\tokenization_utils_base.py:2688: FutureWarning: The `pad_to_max_length` argument is deprecated and will be removed in a future version, use `padding=True` or `padding='longest'` to pad to the longest sequence in the batch, or use `padding='max_length'` to pad to a max length. In this case, you can give a specific length with `max_length` (e.g. `max_length=45`) or leave max_length to None to pad to the maximal input size of the model (e.g. 512 for Bert).\n",
      "  warnings.warn(\n"
     ]
    },
    {
     "name": "stdout",
     "output_type": "stream",
     "text": [
      "Original:  My favourite food is anything I didn't have to cook myself.\n",
      "Token IDs: tensor([ 101, 2026, 8837, 2833, 2003, 2505, 1045, 2134, 1005, 1056, 2031, 2000,\n",
      "        5660, 2870, 1012,  102,    0,    0,    0,    0,    0,    0,    0,    0,\n",
      "           0,    0,    0,    0,    0,    0,    0,    0,    0,    0,    0,    0,\n",
      "           0,    0,    0,    0,    0,    0,    0,    0,    0,    0,    0])\n"
     ]
    }
   ],
   "source": [
    "input_ids = []\n",
    "attention_masks = []\n",
    "\n",
    "# For every tweet...\n",
    "for text in tr_text:\n",
    "    # `encode_plus` will:\n",
    "    #   (1) Tokenize the sentence.\n",
    "    #   (2) Prepend the `[CLS]` token to the start.\n",
    "    #   (3) Append the `[SEP]` token to the end.\n",
    "    #   (4) Map tokens to their IDs.\n",
    "    #   (5) Pad or truncate the sentence to `max_length`\n",
    "    #   (6) Create attention masks for [PAD] tokens.\n",
    "    encoded_dict = tokenizer.encode_plus(\n",
    "                        text,                      # Sentence to encode.\n",
    "                        add_special_tokens = True, # Add '[CLS]' and '[SEP]'\n",
    "                        max_length = 47,           # Pad & truncate all sentences.\n",
    "                        pad_to_max_length = True,\n",
    "                        return_attention_mask = True,   # Construct attn. masks.\n",
    "                        return_tensors = 'pt',     # Return pytorch tensors.\n",
    "                   )\n",
    "    \n",
    "    # Add the encoded sentence to the list.    \n",
    "    input_ids.append(encoded_dict['input_ids'])\n",
    "    \n",
    "    # And its attention mask (simply differentiates padding from non-padding).\n",
    "    attention_masks.append(encoded_dict['attention_mask'])\n",
    "\n",
    "# Convert the lists into tensors.\n",
    "input_ids = torch.cat(input_ids, dim=0)\n",
    "attention_masks = torch.cat(attention_masks, dim=0)\n",
    "\n",
    "# Print sentence 0, now as a list of IDs.\n",
    "print('Original: ', tr_text[0])\n",
    "print('Token IDs:', input_ids[0])"
   ]
  },
  {
   "cell_type": "code",
   "execution_count": 22,
   "id": "fc6964ba-9bf5-461c-ae46-1bacc053f614",
   "metadata": {},
   "outputs": [
    {
     "name": "stdout",
     "output_type": "stream",
     "text": [
      "43,399 training samples\n"
     ]
    }
   ],
   "source": [
    "# Combine the training inputs into a TensorDataset.\n",
    "train_dataset = TensorDataset(input_ids, attention_masks, tr_labels)\n",
    "\n",
    "print('{:>5,} training samples'.format(len(train_dataset)))\n"
   ]
  },
  {
   "cell_type": "code",
   "execution_count": 23,
   "id": "5416b068-844f-4730-baa8-d251885d7074",
   "metadata": {},
   "outputs": [],
   "source": [
    "# The DataLoader needs to know our batch size for training, so we specify it \n",
    "# here. For fine-tuning BERT on a specific task, the authors recommend a batch \n",
    "# size of 16 or 32.\n",
    "# 16 for the paper\n",
    "batch_size = 16\n",
    "\n",
    "# Create the DataLoaders for our training and validation sets.\n",
    "# We'll take training samples in random order. \n",
    "train_dataloader = DataLoader(\n",
    "            train_dataset,  # The training samples.\n",
    "            sampler = RandomSampler(train_dataset), # Select batches randomly\n",
    "            batch_size = batch_size # Trains with this batch size.\n",
    "        )\n"
   ]
  },
  {
   "cell_type": "code",
   "execution_count": 24,
   "id": "80ea338e-5152-4ef1-bc52-a787b53b6f53",
   "metadata": {},
   "outputs": [
    {
     "data": {
      "text/plain": [
       "'\\n#overridiamo la classe di bert per modificare la funzione di loss e altri hyperparametri del modello\\nfrom transformers import BertModel\\nfrom transformers.modeling_outputs import SequenceClassifierOutput\\nimport torch.nn as nn\\n\\nclass CustomBert(nn.Module):\\n    def __init__(self):\\n        super(CustomBert, self).__init__()\\n        self.bert = BertForSequenceClassification.from_pretrained(\"bert-base-uncased\")\\n        self.dropout = nn.Dropout(0.1)\\n        self.output = nn.Linear(768, 28)\\n\\n    def forward(self, ids, attention_mask, token_type_ids, labels=None):\\n        outputs = self.bert(ids, attention_mask=attention_mask, token_type_ids=token_type_ids)\\n        output = self.dropout(outputs)\\n        logits = self.output(output)\\n    \\n        loss = None\\n        if labels is not None:\\n            \\n            loss_fct = nn.BCEWithLogitsLoss()\\n            # next, compute the loss based on logits + ground-truth labels\\n            # TODO: debuggare se i tensori input alla loss sono corretti di dimensione\\n            loss = loss_fct(logits, labels)\\n\\n        return SequenceClassifierOutput(\\n            loss=loss,\\n            logits=logits)\\n'"
      ]
     },
     "execution_count": 24,
     "metadata": {},
     "output_type": "execute_result"
    }
   ],
   "source": [
    "\"\"\"\n",
    "#overridiamo la classe di bert per modificare la funzione di loss e altri hyperparametri del modello\n",
    "from transformers import BertModel\n",
    "from transformers.modeling_outputs import SequenceClassifierOutput\n",
    "import torch.nn as nn\n",
    "\n",
    "class CustomBert(nn.Module):\n",
    "    def __init__(self):\n",
    "        super(CustomBert, self).__init__()\n",
    "        self.bert = BertForSequenceClassification.from_pretrained(\"bert-base-uncased\")\n",
    "        self.dropout = nn.Dropout(0.1)\n",
    "        self.output = nn.Linear(768, 28)\n",
    "\n",
    "    def forward(self, ids, attention_mask, token_type_ids, labels=None):\n",
    "        outputs = self.bert(ids, attention_mask=attention_mask, token_type_ids=token_type_ids)\n",
    "        output = self.dropout(outputs)\n",
    "        logits = self.output(output)\n",
    "    \n",
    "        loss = None\n",
    "        if labels is not None:\n",
    "            \n",
    "            loss_fct = nn.BCEWithLogitsLoss()\n",
    "            # next, compute the loss based on logits + ground-truth labels\n",
    "            # TODO: debuggare se i tensori input alla loss sono corretti di dimensione\n",
    "            loss = loss_fct(logits, labels)\n",
    "\n",
    "        return SequenceClassifierOutput(\n",
    "            loss=loss,\n",
    "            logits=logits)\n",
    "\"\"\""
   ]
  },
  {
   "cell_type": "code",
   "execution_count": 33,
   "id": "96c15697-f147-446a-8284-de2f68fbd7ff",
   "metadata": {},
   "outputs": [
    {
     "name": "stderr",
     "output_type": "stream",
     "text": [
      "Some weights of BertForSequenceClassification were not initialized from the model checkpoint at bert-base-uncased and are newly initialized: ['classifier.bias', 'classifier.weight']\n",
      "You should probably TRAIN this model on a down-stream task to be able to use it for predictions and inference.\n"
     ]
    }
   ],
   "source": [
    "# Load BertForSequenceClassification, the pretrained BERT model with a single \n",
    "# linear classification layer on top. \n",
    "model = BertForSequenceClassification.from_pretrained(\"bert-base-uncased\",num_labels=28, problem_type=\"multi_label_classification\",hidden_dropout_prob=0.1)\n",
    "\n",
    "# if device == \"cuda:0\":\n",
    "# # Tell pytorch to run this model on the GPU.\n",
    "#     model = model.cuda()\n",
    "model = model.to(device)"
   ]
  },
  {
   "cell_type": "code",
   "execution_count": 34,
   "id": "185439c1-5615-4ba1-b570-4ed5878e5206",
   "metadata": {},
   "outputs": [],
   "source": [
    "optimizer = torch.optim.Adam(model.parameters(),\n",
    "                  lr = 5e-5, # args.learning_rate - default is 5e-5, our notebook had 2e-5\n",
    "                  eps = 1e-8 # args.adam_epsilon  - default is 1e-8.\n",
    "                )"
   ]
  },
  {
   "cell_type": "markdown",
   "id": "66b00f83-cb35-4038-a631-c6d9d5387bd0",
   "metadata": {
    "editable": true,
    "slideshow": {
     "slide_type": ""
    },
    "tags": []
   },
   "source": [
    "### Fine-tuning"
   ]
  },
  {
   "cell_type": "code",
   "execution_count": 39,
   "id": "0b20aaa4-799d-41b2-aad5-7feb713d1add",
   "metadata": {},
   "outputs": [],
   "source": [
    "# Number of training epochs. The BERT authors recommend between 2 and 4. \n",
    "# We chose to run for 4, but we'll see later that this may be over-fitting the\n",
    "# training data.\n",
    "epochs = 6\n",
    "\n",
    "# Total number of training steps is [number of batches] x [number of epochs]. \n",
    "# (Note that this is not the same as the number of training samples).\n",
    "total_steps = len(train_dataloader) * epochs\n"
   ]
  },
  {
   "cell_type": "code",
   "execution_count": 40,
   "id": "79011c32-33c8-4814-9185-b60287995ba0",
   "metadata": {},
   "outputs": [],
   "source": [
    "# Function to calculate the accuracy of our predictions vs labels\n",
    "def flat_accuracy(preds, labels):\n",
    "    pred_flat = np.argmax(preds, axis=1).flatten()\n",
    "    labels_flat = labels.flatten()\n",
    "    return np.sum(pred_flat == labels_flat) / len(labels_flat)"
   ]
  },
  {
   "cell_type": "code",
   "execution_count": 41,
   "id": "1fa5be18-574c-44eb-ad64-2586459324f9",
   "metadata": {},
   "outputs": [],
   "source": [
    "def format_time(elapsed):\n",
    "    '''\n",
    "    Takes a time in seconds and returns a string hh:mm:ss\n",
    "    '''\n",
    "    # Round to the nearest second.\n",
    "    elapsed_rounded = int(round((elapsed)))\n",
    "    # Format as hh:mm:ss\n",
    "    return str(datetime.timedelta(seconds=elapsed_rounded))"
   ]
  },
  {
   "cell_type": "code",
   "execution_count": 42,
   "id": "056d5f04-5d7c-405f-b6d1-658094f1d039",
   "metadata": {},
   "outputs": [],
   "source": [
    "seed_val = 42\n",
    "random.seed(seed_val)\n",
    "np.random.seed(seed_val)\n",
    "torch.manual_seed(seed_val)\n",
    "torch.cuda.manual_seed_all(seed_val)"
   ]
  },
  {
   "cell_type": "code",
   "execution_count": 43,
   "id": "05614b9d-4853-427c-bd30-6a86fb2256a4",
   "metadata": {},
   "outputs": [],
   "source": [
    "torch.cuda.empty_cache()"
   ]
  },
  {
   "cell_type": "code",
   "execution_count": 44,
   "id": "e948dbb3-75cd-43c3-99b0-ea3b3edb9a38",
   "metadata": {
    "editable": true,
    "slideshow": {
     "slide_type": ""
    },
    "tags": []
   },
   "outputs": [
    {
     "name": "stdout",
     "output_type": "stream",
     "text": [
      "\n",
      "======== Epoch 1 / 6 ========\n",
      "Training...\n",
      "\n",
      "  Average training loss: 0.11\n",
      "  Training epoch took: 0:11:38\n",
      "\n",
      "======== Epoch 2 / 6 ========\n",
      "Training...\n",
      "\n",
      "  Average training loss: 0.08\n",
      "  Training epoch took: 0:11:37\n",
      "\n",
      "======== Epoch 3 / 6 ========\n",
      "Training...\n",
      "\n",
      "  Average training loss: 0.07\n",
      "  Training epoch took: 0:11:37\n",
      "\n",
      "======== Epoch 4 / 6 ========\n",
      "Training...\n",
      "\n",
      "  Average training loss: 0.05\n",
      "  Training epoch took: 0:11:38\n",
      "\n",
      "======== Epoch 5 / 6 ========\n",
      "Training...\n",
      "\n",
      "  Average training loss: 0.04\n",
      "  Training epoch took: 0:11:38\n",
      "\n",
      "======== Epoch 6 / 6 ========\n",
      "Training...\n",
      "\n",
      "  Average training loss: 0.03\n",
      "  Training epoch took: 0:11:38\n",
      "\n",
      "Training complete!\n",
      "Total training took 1:09:50 (h:mm:ss)\n"
     ]
    }
   ],
   "source": [
    "loss=0\n",
    "training_stats = []\n",
    "import gc\n",
    "\n",
    "# Measure the total training time for the whole run.\n",
    "total_t0 = time.time()\n",
    "\n",
    "# For each epoch...\n",
    "for epoch_i in range(0, epochs):\n",
    "    \n",
    "    # ========================================\n",
    "    #               Training\n",
    "    # ========================================\n",
    "    # Perform one full pass over the training set.\n",
    "    print(\"\")\n",
    "    print('======== Epoch {:} / {:} ========'.format(epoch_i + 1, epochs))\n",
    "    print('Training...')\n",
    "    # Measure how long the training epoch takes.\n",
    "    t0 = time.time()\n",
    "    total_train_loss = 0\n",
    "    model.train()\n",
    "    for step, batch in enumerate(train_dataloader):\n",
    "        # Unpack this training batch from our dataloader. \n",
    "        #\n",
    "        # As we unpack the batch, we'll also copy each tensor to the device using the \n",
    "        # `to` method.\n",
    "        #\n",
    "        # `batch` contains three pytorch tensors:\n",
    "        #   [0]: input ids \n",
    "        #   [1]: attention masks\n",
    "        #   [2]: labels \n",
    "        b_input_ids = batch[0].to(device)\n",
    "        b_input_mask = batch[1].to(device)\n",
    "        b_labels = batch[2].to(device)\n",
    "        optimizer.zero_grad()\n",
    "        output = model(b_input_ids, \n",
    "                             token_type_ids=None, \n",
    "                             attention_mask=b_input_mask, \n",
    "                             labels=b_labels)\n",
    "        del b_input_ids\n",
    "        del b_input_mask\n",
    "        del b_labels\n",
    "        gc.collect()\n",
    "        loss = output.loss\n",
    "        total_train_loss += loss.item()\n",
    "        # Perform a backward pass to calculate the gradients.\n",
    "        loss.backward()\n",
    "        # Clip the norm of the gradients to 1.0.\n",
    "        # This is to help prevent the \"exploding gradients\" problem.\n",
    "        torch.nn.utils.clip_grad_norm_(model.parameters(), 1.0)\n",
    "        # Update parameters and take a step using the computed gradient.\n",
    "        # The optimizer dictates the \"update rule\"--how the parameters are\n",
    "        # modified based on their gradients, the learning rate, etc.\n",
    "        optimizer.step()\n",
    "\n",
    "    # Calculate the average loss over all of the batches.\n",
    "    avg_train_loss = total_train_loss / len(train_dataloader)            \n",
    "    \n",
    "    # Measure how long this epoch took.\n",
    "    training_time = format_time(time.time() - t0)\n",
    "    print(\"\")\n",
    "    print(\"  Average training loss: {0:.2f}\".format(avg_train_loss))\n",
    "    print(\"  Training epoch took: {:}\".format(training_time))\n",
    "    torch.save(model, 'bert-emotionsClassification'+str(epoch_i))\n",
    "\n",
    "print(\"\")\n",
    "print(\"Training complete!\")\n",
    "\n",
    "\n",
    "print(\"Total training took {:} (h:mm:ss)\".format(format_time(time.time()-total_t0)))"
   ]
  },
  {
   "cell_type": "code",
   "execution_count": 132,
   "id": "4a33df5c-c917-4f77-8ef6-f983f44c83fb",
   "metadata": {
    "editable": true,
    "slideshow": {
     "slide_type": ""
    },
    "tags": []
   },
   "outputs": [],
   "source": [
    "#loading the best model\n",
    "model = torch.load('bert-emotionsClassification5')"
   ]
  },
  {
   "cell_type": "markdown",
   "id": "d1b6d05f-2e2d-47e1-a9aa-e959ac08d07e",
   "metadata": {},
   "source": [
    "## Test"
   ]
  },
  {
   "cell_type": "code",
   "execution_count": 133,
   "id": "7182838b-5232-4ffe-80fa-38e00b313829",
   "metadata": {},
   "outputs": [],
   "source": [
    "val_text = np.asarray(val_df[\"text\"])\n",
    "val_labels =val_df.drop(columns=[\"text\"])\n",
    "val_labels=torch.tensor(val_labels.values, dtype=torch.float32)"
   ]
  },
  {
   "cell_type": "markdown",
   "id": "60fdd924-28d8-4812-9c4c-8e4ac6599a83",
   "metadata": {},
   "source": [
    "Dato che stiamo facendo test non ha senso rimuovere entry con lunghezza maggiore di 47, si fa padding alla lunghezza dell'entry di lunghezza massima del test set (rispettando i limiti di BERT ( 512))"
   ]
  },
  {
   "cell_type": "code",
   "execution_count": 134,
   "id": "9efdb838-03c1-4e08-9b85-b9fe0e85375b",
   "metadata": {},
   "outputs": [
    {
     "name": "stdout",
     "output_type": "stream",
     "text": [
      "Max sentence length:  46\n"
     ]
    }
   ],
   "source": [
    "max_len = 0\n",
    "\n",
    "# For every sentence...\n",
    "for text in val_text:\n",
    "\n",
    "    # Tokenize the text and add `[CLS]` and `[SEP]` tokens.\n",
    "    val_ids = tokenizer.encode(text, add_special_tokens=True)\n",
    "\n",
    "    # Update the maximum sentence length.\n",
    "    max_len = max(max_len, len(val_ids))\n",
    "\n",
    "print('Max sentence length: ', max_len)\n"
   ]
  },
  {
   "cell_type": "code",
   "execution_count": 135,
   "id": "92d3d0cc-a08f-45a6-adfe-abe7c0a92edd",
   "metadata": {},
   "outputs": [
    {
     "name": "stderr",
     "output_type": "stream",
     "text": [
      "C:\\Users\\gdema\\anaconda3\\envs\\Hlt\\Lib\\site-packages\\transformers\\tokenization_utils_base.py:2688: FutureWarning: The `pad_to_max_length` argument is deprecated and will be removed in a future version, use `padding=True` or `padding='longest'` to pad to the longest sequence in the batch, or use `padding='max_length'` to pad to a max length. In this case, you can give a specific length with `max_length` (e.g. `max_length=45`) or leave max_length to None to pad to the maximal input size of the model (e.g. 512 for Bert).\n",
      "  warnings.warn(\n",
      "C:\\Users\\gdema\\AppData\\Local\\Temp\\ipykernel_13120\\3735325732.py:24: UserWarning: To copy construct from a tensor, it is recommended to use sourceTensor.clone().detach() or sourceTensor.clone().detach().requires_grad_(True), rather than torch.tensor(sourceTensor).\n",
      "  val_labels = torch.tensor(val_labels,dtype=torch.long)\n"
     ]
    }
   ],
   "source": [
    "val_ids = []\n",
    "attention_masks = []\n",
    "\n",
    "# For every tweet...\n",
    "for text in val_text:\n",
    "    encoded_dict = tokenizer.encode_plus(\n",
    "                        text,                      # Sentence to encode.\n",
    "                        add_special_tokens = True, # Add '[CLS]' and '[SEP]'\n",
    "                        max_length = max_len,           # Pad & truncate all sentences.\n",
    "                        pad_to_max_length = True,\n",
    "                        return_attention_mask = True,   # Construct attn. masks.\n",
    "                        return_tensors = 'pt',     # Return pytorch tensors.\n",
    "                   )\n",
    "    \n",
    "    # Add the encoded sentence to the list.    \n",
    "    val_ids.append(encoded_dict['input_ids'])\n",
    "    \n",
    "    # And its attention mask (simply differentiates padding from non-padding).\n",
    "    attention_masks.append(encoded_dict['attention_mask'])\n",
    "\n",
    "# Convert the lists into tensors.\n",
    "val_ids = torch.cat(val_ids, dim=0)\n",
    "attention_masks = torch.cat(attention_masks, dim=0)\n",
    "val_labels = torch.tensor(val_labels,dtype=torch.long)\n"
   ]
  },
  {
   "cell_type": "code",
   "execution_count": 136,
   "id": "516264b8-89b9-47d5-9ab6-0cdb149db33e",
   "metadata": {},
   "outputs": [
    {
     "name": "stdout",
     "output_type": "stream",
     "text": [
      "5,426 training samples\n"
     ]
    }
   ],
   "source": [
    "# Combine the training inputs into a TensorDataset.\n",
    "val_dataset = TensorDataset(val_ids, attention_masks)\n",
    "\n",
    "print('{:>5,} training samples'.format(len(val_dataset)))\n"
   ]
  },
  {
   "cell_type": "code",
   "execution_count": 137,
   "id": "9c35a3a2-4fd1-4aba-b812-6efaac2110ae",
   "metadata": {},
   "outputs": [],
   "source": [
    "# The DataLoader needs to know our batch size for training, so we specify it \n",
    "# here. For fine-tuning BERT on a specific task, the authors recommend a batch \n",
    "# size of 16 or 32.\n",
    "# 16 for the paper\n",
    "batch_size = 64\n",
    "\n",
    "# Create the DataLoaders for our training and validation sets.\n",
    "# We'll take training samples in random order. \n",
    "val_dataloader = DataLoader(\n",
    "            val_dataset,  # The training samples.\n",
    "            sampler = RandomSampler(val_dataset), # Select batches randomly\n",
    "            batch_size = batch_size # Trains with this batch size.\n",
    "        )\n"
   ]
  },
  {
   "cell_type": "code",
   "execution_count": 138,
   "id": "15effa48-4373-4cef-88ad-b07c10636277",
   "metadata": {},
   "outputs": [
    {
     "name": "stdout",
     "output_type": "stream",
     "text": [
      "torch.Size([64, 46])\n"
     ]
    }
   ],
   "source": [
    "for batch in val_dataloader:\n",
    "    print(batch[0].shape)\n",
    "    break"
   ]
  },
  {
   "cell_type": "code",
   "execution_count": 139,
   "id": "80290f0a-5f02-4c37-ae87-db3c5e532f44",
   "metadata": {},
   "outputs": [
    {
     "name": "stdout",
     "output_type": "stream",
     "text": [
      "CPU times: total: 0 ns\n",
      "Wall time: 0 ns\n"
     ]
    }
   ],
   "source": [
    "%time\n",
    "model.eval()\n",
    "predictions = []\n",
    "for batch in val_dataloader:\n",
    "    \n",
    "    b_input_ids = batch[0].to(device)\n",
    "    b_input_mask = batch[1].to(device)\n",
    "    with torch.no_grad():        \n",
    "        output= model(b_input_ids, \n",
    "                               token_type_ids=None, \n",
    "                               attention_mask=b_input_mask)\n",
    "        logits = output.logits\n",
    "        logits = logits.detach().cpu().numpy()\n",
    "        predictions.extend(logits)\n",
    "\n",
    "predictions=np.array(predictions)"
   ]
  },
  {
   "cell_type": "code",
   "execution_count": 140,
   "id": "c0e60abf-c9b3-4e1e-a310-1152316ac8c2",
   "metadata": {},
   "outputs": [],
   "source": [
    "# si applica la sugmoide per ttenere probabilità\n",
    "def sigmoid(x):\n",
    "    return 1 / (1 + np.exp(-x))\n",
    "predictions=sigmoid(predictions)"
   ]
  },
  {
   "cell_type": "code",
   "execution_count": 141,
   "id": "009cbe4b-c1b9-4a34-a559-fa5310206625",
   "metadata": {},
   "outputs": [],
   "source": [
    "#verifichiamo con cross validation per f1-score il miglior threshold per determinare quando viene classificata o meno un emozione"
   ]
  },
  {
   "cell_type": "code",
   "execution_count": 142,
   "id": "2365207f-3f87-49d6-883e-08ada2b85612",
   "metadata": {},
   "outputs": [],
   "source": [
    "def applyThreshold(x,threshold):\n",
    "    if x>= threshold:\n",
    "        return 1\n",
    "    return 0\n",
    "from sklearn.metrics import f1_score\n",
    "results=[]\n",
    "for threshold in np.arange(0.001,0.1,0.001):\n",
    "    newPred=np.where( predictions>= threshold, 1,0)\n",
    "    results.append( f1_score(val_labels,newPred,average=\"weighted\"))\n"
   ]
  },
  {
   "cell_type": "code",
   "execution_count": 143,
   "id": "c16ff550-1090-4d05-9091-72ec4e125339",
   "metadata": {},
   "outputs": [
    {
     "data": {
      "text/plain": [
       "[<matplotlib.lines.Line2D at 0x1b5daecbc50>]"
      ]
     },
     "execution_count": 143,
     "metadata": {},
     "output_type": "execute_result"
    },
    {
     "data": {
      "image/png": "[encoded data removed]",
      "text/plain": [
       "<Figure size 640x480 with 1 Axes>"
      ]
     },
     "metadata": {},
     "output_type": "display_data"
    }
   ],
   "source": [
    "plt.plot(np.arange(0.001,0.1,0.001),results)"
   ]
  },
  {
   "cell_type": "code",
   "execution_count": 147,
   "id": "bec52d6d-eed4-4400-b4e9-88e6c1980c82",
   "metadata": {},
   "outputs": [
    {
     "data": {
      "text/plain": [
       "array([0.11415168, 0.06418485, 0.08142999, 0.00694444, 0.        ,\n",
       "       0.01084011, 0.01904762, 0.05875153, 0.        , 0.03442879,\n",
       "       0.08183306, 0.03846154, 0.04900459, 0.0622084 , 0.        ,\n",
       "       0.02903226, 0.01204819, 0.01142857, 0.05116279, 0.03333333,\n",
       "       0.44510386, 0.07946027, 0.10975012, 0.03558719, 0.05272408,\n",
       "       0.06342016, 0.025     , 0.03921569])"
      ]
     },
     "execution_count": 147,
     "metadata": {},
     "output_type": "execute_result"
    }
   ],
   "source": [
    "newPred=np.where( predictions>= 0.03, 1,0)\n",
    "f1_score(val_labels,newPred,average=None)"
   ]
  },
  {
   "cell_type": "code",
   "execution_count": 195,
   "id": "ae9e5b84-c163-45ef-8181-5e5a0c0aaa93",
   "metadata": {},
   "outputs": [
    {
     "data": {
      "text/plain": [
       "array([0, 0, 0, 0, 0, 0, 0, 0, 0, 0, 0, 0, 0, 0, 0, 0, 0, 0, 0, 0, 1, 0,\n",
       "       0, 0, 0, 0, 0, 0])"
      ]
     },
     "execution_count": 195,
     "metadata": {},
     "output_type": "execute_result"
    }
   ],
   "source": [
    "newPred[2]"
   ]
  },
  {
   "cell_type": "code",
   "execution_count": 202,
   "id": "c5522617-e19c-4daf-bd95-fd6d8ea3b580",
   "metadata": {},
   "outputs": [
    {
     "data": {
      "text/plain": [
       "tensor([ 4130.,  2328.,  2021.,   793.,   303.,   852.,   596.,  2662.,    77.,\n",
       "         1451.,  2085.,   164.,  1567.,  1581.,   111.,  1110.,   153.,   545.,\n",
       "         1326.,  1060., 14216.,  2469.,  2939.,  1087.,  1366.,  2189.,   641.,\n",
       "         1269.])"
      ]
     },
     "execution_count": 202,
     "metadata": {},
     "output_type": "execute_result"
    }
   ],
   "source": [
    "tr_labels.sum(axis=0)"
   ]
  },
  {
   "cell_type": "code",
   "execution_count": null,
   "id": "4705b60e-ebd2-45b3-b281-51e95e735083",
   "metadata": {},
   "outputs": [],
   "source": []
  }
 ],
 "metadata": {
  "kernelspec": {
   "display_name": "hlt",
   "language": "python",
   "name": "hlt"
  },
  "language_info": {
   "codemirror_mode": {
    "name": "ipython",
    "version": 3
   },
   "file_extension": ".py",
   "mimetype": "text/x-python",
   "name": "python",
   "nbconvert_exporter": "python",
   "pygments_lexer": "ipython3",
   "version": "3.11.8"
  }
 },
 "nbformat": 4,
 "nbformat_minor": 5
}
